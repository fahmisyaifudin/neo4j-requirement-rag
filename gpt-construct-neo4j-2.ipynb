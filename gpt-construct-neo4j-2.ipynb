{
 "cells": [
  {
   "cell_type": "code",
   "execution_count": 1,
   "metadata": {},
   "outputs": [
    {
     "data": {
      "text/plain": [
       "True"
      ]
     },
     "execution_count": 1,
     "metadata": {},
     "output_type": "execute_result"
    }
   ],
   "source": [
    "import os\n",
    "from dotenv import load_dotenv\n",
    "from langchain_openai import ChatOpenAI\n",
    "from langchain.prompts import ChatPromptTemplate\n",
    "from langchain.chains import SequentialChain, LLMChain\n",
    "\n",
    "load_dotenv()"
   ]
  },
  {
   "cell_type": "code",
   "execution_count": 23,
   "metadata": {},
   "outputs": [],
   "source": [
    "import neo4j\n",
    "\n",
    "host = \"localhost\"\n",
    "username = \"neo4j\"\n",
    "password = \"1234qwer\"\n",
    "\n",
    "# driver = neo4j.GraphDatabase.driver(\"neo4j://100.27.33.222:7687\",\n",
    "#   auth=neo4j.basic_auth(\"neo4j\", \"price-oxygens-scores\")\n",
    "# )\n",
    "driver = neo4j.GraphDatabase.driver(f'bolt://localhost:7687', auth=(username, password))\n",
    "session = driver.session()\n",
    "\n",
    "def create_graph(query):\n",
    "    session.run(query)"
   ]
  },
  {
   "cell_type": "code",
   "execution_count": 3,
   "metadata": {},
   "outputs": [
    {
     "name": "stderr",
     "output_type": "stream",
     "text": [
      "/var/folders/80/kl6rpl3d2xj20wv4hyb0dbgc0000gn/T/ipykernel_12701/2577088822.py:19: LangChainDeprecationWarning: The class `LLMChain` was deprecated in LangChain 0.1.17 and will be removed in 1.0. Use RunnableSequence, e.g., `prompt | llm` instead.\n",
      "  chain_one = LLMChain(llm=model, prompt=prompt1, output_key=\"triple\")\n"
     ]
    }
   ],
   "source": [
    "template1 = \"\"\"You are expert english linguists \n",
    "\n",
    "Given sentence : $$$ {sentence} $$$\n",
    "\n",
    "- Generate semantic triple that consist subject, predicate, and object  base on context sentence (which is delimited by $$$) \n",
    "- Output must separated by comma the format is [subject],[predicate],[object]\n",
    "- Avoid using pronouns such as (you, he, she, it, we, they etc), replace with more relevant subject\n",
    "- Each line is separated by '\\n'\n",
    "- Don't display anything in the output except the output csv format\n",
    "\n",
    "\"\"\"\n",
    "\n",
    "prompt1 = ChatPromptTemplate.from_template(template1)\n",
    "\n",
    "model = ChatOpenAI(model=\"gpt-4o-mini\", api_key=os.getenv('OPEN_API_KEY'), temperature=0)\n",
    "\n",
    "chain1 = prompt1 | model\n",
    "\n",
    "chain_one = LLMChain(llm=model, prompt=prompt1, output_key=\"triple\")\n",
    "\n",
    "overal_chain = SequentialChain(\n",
    "    chains=[chain_one],\n",
    "    input_variables=[\"sentence\"],\n",
    "    output_variables=[\"triple\"]\n",
    ")"
   ]
  },
  {
   "cell_type": "code",
   "execution_count": null,
   "metadata": {},
   "outputs": [],
   "source": [
    "import pandas as pd\n",
    "import csv\n",
    "\n",
    "df_dataset = pd.read_csv('output/datasets_all_sentence.csv')\n",
    "for index, row in df_dataset.iterrows():\n",
    "    sentence = row['sentence']\n",
    "    app = row['app']\n",
    "    uid = row['id']\n",
    "    feature = row['feature']\n",
    "    message = overal_chain({\"sentence\": sentence})\n",
    "    triples = message['triple'].split('\\n')\n",
    "\n",
    "    for row in triples:\n",
    "        with open(\"data/all_triplet_lang_result.csv\", \"a\", newline=\"\\n\") as csvfile:\n",
    "            writer = csv.writer(csvfile)\n",
    "            row = f\"{uid},{app},{feature},{row}\"\n",
    "            writer.writerow(row.split(\",\"))"
   ]
  },
  {
   "cell_type": "code",
   "execution_count": 11,
   "metadata": {},
   "outputs": [],
   "source": [
    "import pandas as pd\n",
    "df_dataset = pd.read_csv('data/datasets_all_sentence.csv')"
   ]
  },
  {
   "cell_type": "code",
   "execution_count": 17,
   "metadata": {},
   "outputs": [
    {
     "name": "stderr",
     "output_type": "stream",
     "text": [
      "[nltk_data] Downloading package punkt to\n",
      "[nltk_data]     /Users/fahmisyaifudin/nltk_data...\n",
      "[nltk_data]   Package punkt is already up-to-date!\n",
      "[nltk_data] Downloading package punkt_tab to\n",
      "[nltk_data]     /Users/fahmisyaifudin/nltk_data...\n",
      "[nltk_data]   Unzipping tokenizers/punkt_tab.zip.\n",
      "[nltk_data] Downloading package stopwords to\n",
      "[nltk_data]     /Users/fahmisyaifudin/nltk_data...\n",
      "[nltk_data]   Package stopwords is already up-to-date!\n",
      "[nltk_data] Downloading package wordnet to\n",
      "[nltk_data]     /Users/fahmisyaifudin/nltk_data...\n",
      "[nltk_data]   Package wordnet is already up-to-date!\n",
      "[nltk_data] Downloading package averaged_perceptron_tagger to\n",
      "[nltk_data]     /Users/fahmisyaifudin/nltk_data...\n",
      "[nltk_data]   Package averaged_perceptron_tagger is already up-to-\n",
      "[nltk_data]       date!\n"
     ]
    }
   ],
   "source": [
    "import nltk\n",
    "import string\n",
    "from nltk.tokenize import word_tokenize\n",
    "from nltk.corpus import stopwords\n",
    "from nltk.stem import PorterStemmer\n",
    "from nltk.stem import WordNetLemmatizer\n",
    "\n",
    "# Download required NLTK data\n",
    "nltk.download('punkt')\n",
    "nltk.download('punkt_tab')\n",
    "nltk.download('stopwords')\n",
    "nltk.download('wordnet')\n",
    "nltk.download('averaged_perceptron_tagger')\n",
    "\n",
    "def preprocess_text(text, remove_stopwords=True, stem=False, lemmatize=True):\n",
    "    \"\"\"\n",
    "    Preprocess text by applying various NLP techniques\n",
    "    \"\"\"\n",
    "    # Convert to lowercase\n",
    "    text = text.lower()\n",
    "    \n",
    "    # Remove punctuation\n",
    "    text = text.translate(str.maketrans(\"\", \"\", string.punctuation))\n",
    "    \n",
    "    # Remove numbers\n",
    "    text = ''.join(char for char in text if not char.isdigit())\n",
    "    \n",
    "    # Tokenization\n",
    "    tokens = word_tokenize(text)\n",
    "    \n",
    "    # Remove stopwords\n",
    "    if remove_stopwords:\n",
    "        stop_words = set(stopwords.words('english'))\n",
    "        tokens = [token for token in tokens if token not in stop_words]\n",
    "    \n",
    "    # Initialize stemmer and lemmatizer\n",
    "    stemmer = PorterStemmer()\n",
    "    lemmatizer = WordNetLemmatizer()\n",
    "    \n",
    "    # Apply stemming or lemmatization\n",
    "    if stem:\n",
    "        tokens = [stemmer.stem(token) for token in tokens]\n",
    "    elif lemmatize:\n",
    "        tokens = [lemmatizer.lemmatize(token) for token in tokens]\n",
    "    \n",
    "    # Join tokens back into text\n",
    "    processed_text = ' '.join(tokens)\n",
    "    \n",
    "    return processed_text"
   ]
  },
  {
   "cell_type": "code",
   "execution_count": 18,
   "metadata": {},
   "outputs": [],
   "source": [
    "def df_to_create_cql(df, uid):\n",
    "    cql_query = \"MERGE (req:Requirement {id: '\" + uid +\"'}) \\n\"\n",
    "    for index, row in df.iterrows():\n",
    "        subject = preprocess_text(row['subject'])\n",
    "        predicate = preprocess_text(row['predicate'])\n",
    "        object = preprocess_text(row['object'])\n",
    "        cql_query += f\"MERGE (s{index}:CORE\" + \" {name: '\" + subject + \"'}) \\n\"\n",
    "        cql_query += f\"MERGE (p{index}:VERB\" + \" {name: '\" + predicate + \"'}) \\n\"\n",
    "        cql_query += f\"MERGE (o{index}:CORE\" + \" {name: '\" + object + \"'}) \\n\"\n",
    "        cql_query += f\"MERGE (s{index})-[:RELATED_TO]->(p{index})-[:RELATED_TO]->(o{index}) \\n\"\n",
    "        cql_query += f\"MERGE (req)-[:CONTAINS]->(s{index}) \\n\"\n",
    "        cql_query += f\"MERGE (req)-[:CONTAINS]->(p{index}) \\n\"\n",
    "        cql_query += f\"MERGE (req)-[:CONTAINS]->(o{index}) \\n\"\n",
    "    return cql_query"
   ]
  },
  {
   "cell_type": "code",
   "execution_count": 24,
   "metadata": {},
   "outputs": [],
   "source": [
    "import pandas as pd\n",
    "df_result = pd.read_csv('data/all_triplet_lang_result.csv')\n",
    "\n",
    "for index, row in df_dataset.iterrows():\n",
    "    try:\n",
    "        df_filter = df_result[df_result['id'] == row['id']]\n",
    "        cql_query = df_to_create_cql(df_filter, row['id'])\n",
    "        session.run(cql_query)\n",
    "    except Exception as e:\n",
    "        print(e)\n",
    "        break"
   ]
  },
  {
   "cell_type": "code",
   "execution_count": 25,
   "metadata": {},
   "outputs": [],
   "source": [
    "for index, row in df_dataset.iterrows():\n",
    "    session.run(f\"MATCH (r:Requirement) WHERE r.id = '{row['id']}' SET r.app = '{row['app']}', r.sentence = '{row['sentence'].replace(\"'\", \"\")}'\")"
   ]
  },
  {
   "cell_type": "code",
   "execution_count": null,
   "metadata": {},
   "outputs": [],
   "source": [
    "from openai import OpenAI\n",
    "from dotenv import load_dotenv\n",
    "load_dotenv()\n",
    "\n",
    "client = OpenAI()"
   ]
  },
  {
   "cell_type": "code",
   "execution_count": null,
   "metadata": {},
   "outputs": [],
   "source": [
    "def get_embedding(text, model=\"text-embedding-ada-002\"):\n",
    "   text = text.replace(\"\\n\", \" \")\n",
    "   return client.embeddings.create(input = [text], model=model).data[0].embedding"
   ]
  },
  {
   "cell_type": "code",
   "execution_count": null,
   "metadata": {},
   "outputs": [],
   "source": [
    "import pandas as pd\n",
    "\n",
    "entities = []\n",
    "records, summary, key = driver.execute_query(\"MATCH(r:Requirement)-[:CONTAINS]->(e) RETURN DISTINCT e.name\")\n",
    "for record in records:\n",
    "    embedding = get_embedding(record['e.name'])\n",
    "    entities.append({\"entity\": record['e.name'], \"embedding\": embedding})\n",
    "df_entity = pd.DataFrame(entities)"
   ]
  },
  {
   "cell_type": "code",
   "execution_count": null,
   "metadata": {},
   "outputs": [],
   "source": [
    "df_entity.to_csv('output/entity_llm_embedding.csv', index=False)"
   ]
  },
  {
   "cell_type": "code",
   "execution_count": null,
   "metadata": {},
   "outputs": [],
   "source": [
    "import numpy as np\n",
    "df_entity = pd.read_csv('output/entity_llm_embedding.csv')\n",
    "df_entity['embedding'] = df_entity.embedding.apply(eval).apply(np.array)"
   ]
  },
  {
   "cell_type": "code",
   "execution_count": null,
   "metadata": {},
   "outputs": [],
   "source": [
    "for index, row in df_entity.iterrows():\n",
    "    session.run(\"MATCH (n:CORE|VERB) WHERE n.name = $name SET n.embedding = $embedding\", name=row['entity'], embedding=row['embedding'])"
   ]
  },
  {
   "cell_type": "markdown",
   "metadata": {},
   "source": [
    "### Mean Pooling"
   ]
  },
  {
   "cell_type": "code",
   "execution_count": null,
   "metadata": {},
   "outputs": [],
   "source": [
    "import numpy as np\n",
    "\n",
    "for index, row in df_dataset.iterrows():\n",
    "    records, _, _ = driver.execute_query(\"MATCH (n:Requirement)-[:CONTAINS]->(target:CORE|VERB) WHERE n.id = $id RETURN target.embedding as embedding\", id=row['id'])\n",
    "    embeddings = []\n",
    "    for record in records:\n",
    "        embedding = record['embedding']\n",
    "        embeddings.append(embedding)\n",
    "    #aggregated_embeddings = [np.mean(embedding, axis=0) for embedding in embeddings]\n",
    "    aggregated_embeddings = [np.max(embedding, axis=0) for embedding in embeddings]\n",
    "    session.run(\"MATCH (n:Requirement) WHERE n.id = $id SET n.mean_embedding = $embedding\", id=row['id'], embedding=aggregated_embeddings)"
   ]
  },
  {
   "cell_type": "code",
   "execution_count": null,
   "metadata": {},
   "outputs": [],
   "source": []
  }
 ],
 "metadata": {
  "kernelspec": {
   "display_name": "llm",
   "language": "python",
   "name": "python3"
  },
  "language_info": {
   "codemirror_mode": {
    "name": "ipython",
    "version": 3
   },
   "file_extension": ".py",
   "mimetype": "text/x-python",
   "name": "python",
   "nbconvert_exporter": "python",
   "pygments_lexer": "ipython3",
   "version": "3.12.3"
  }
 },
 "nbformat": 4,
 "nbformat_minor": 2
}
