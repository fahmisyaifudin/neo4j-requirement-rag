{
 "cells": [
  {
   "cell_type": "code",
   "execution_count": 1,
   "metadata": {},
   "outputs": [
    {
     "data": {
      "text/plain": [
       "True"
      ]
     },
     "execution_count": 1,
     "metadata": {},
     "output_type": "execute_result"
    }
   ],
   "source": [
    "import os\n",
    "from dotenv import load_dotenv\n",
    "from langchain_openai import ChatOpenAI\n",
    "from langchain.prompts import ChatPromptTemplate\n",
    "from langchain.chains import SequentialChain, LLMChain\n",
    "\n",
    "load_dotenv()"
   ]
  },
  {
   "cell_type": "code",
   "execution_count": 40,
   "metadata": {},
   "outputs": [],
   "source": [
    "import neo4j\n",
    "\n",
    "host = \"localhost\"\n",
    "username = \"neo4j\"\n",
    "password = \"1234qwer\"\n",
    "\n",
    "driver = neo4j.GraphDatabase.driver(\"neo4j://100.27.33.222:7687\",\n",
    "  auth=neo4j.basic_auth(\"neo4j\", \"price-oxygens-scores\")\n",
    ")\n",
    "# driver = neo4j.GraphDatabase.driver(f'bolt://localhost:7687', auth=(username, password))\n",
    "session = driver.session()\n",
    "\n",
    "def create_graph(query):\n",
    "    session.run(query)"
   ]
  },
  {
   "cell_type": "code",
   "execution_count": 14,
   "metadata": {},
   "outputs": [],
   "source": [
    "template1 = \"\"\"You are expert english linguists \n",
    "\n",
    "Given sentence : $$$ {sentence} $$$\n",
    "\n",
    "- Generate semantic triple that consist subject, predicate, and object  base on context sentence (which is delimited by $$$) \n",
    "- Output must separated by comma the format is [subject],[predicate],[object]\n",
    "- Avoid using pronouns such as (you, he, she, it, we, they etc), replace with more relevant subject\n",
    "- Each line is separated by '\\n'\n",
    "- Don't display anything in the output except the output csv format\n",
    "\n",
    "\"\"\"\n",
    "\n",
    "prompt1 = ChatPromptTemplate.from_template(template1)\n",
    "\n",
    "model = ChatOpenAI(model=\"gpt-4o-mini\", api_key=os.getenv('OPEN_API_KEY'), temperature=0)\n",
    "\n",
    "chain1 = prompt1 | model\n",
    "\n",
    "chain_one = LLMChain(llm=model, prompt=prompt1, output_key=\"triple\")\n",
    "\n",
    "overal_chain = SequentialChain(\n",
    "    chains=[chain_one],\n",
    "    input_variables=[\"sentence\"],\n",
    "    output_variables=[\"triple\"]\n",
    ")"
   ]
  },
  {
   "cell_type": "code",
   "execution_count": null,
   "metadata": {},
   "outputs": [],
   "source": [
    "import pandas as pd\n",
    "import csv\n",
    "\n",
    "df_dataset = pd.read_csv('output/datasets_all_sentence.csv')\n",
    "for index, row in df_dataset.iterrows():\n",
    "    sentence = row['sentence']\n",
    "    app = row['app']\n",
    "    uid = row['id']\n",
    "    feature = row['feature']\n",
    "    message = overal_chain({\"sentence\": sentence})\n",
    "    triples = message['triple'].split('\\n')\n",
    "\n",
    "    for row in triples:\n",
    "        with open(\"data/all_triplet_lang_result.csv\", \"a\", newline=\"\\n\") as csvfile:\n",
    "            writer = csv.writer(csvfile)\n",
    "            row = f\"{uid},{app},{feature},{row}\"\n",
    "            writer.writerow(row.split(\",\"))"
   ]
  },
  {
   "cell_type": "code",
   "execution_count": 41,
   "metadata": {},
   "outputs": [],
   "source": [
    "import pandas as pd\n",
    "df_dataset = pd.read_csv('output/datasets_all_sentence.csv')"
   ]
  },
  {
   "cell_type": "code",
   "execution_count": null,
   "metadata": {},
   "outputs": [],
   "source": [
    "def df_to_create_cql(df, uid):\n",
    "    cql_query = \"CREATE \"\n",
    "    entities = []\n",
    "    for index, row in df.iterrows():\n",
    "        if (row['subject'] in entities) == False:\n",
    "            entities.append(row['subject'].strip())\n",
    "        if (row['object'] in entities) == False:\n",
    "            entities.append(row['object'].strip())\n",
    "    init = 'a'\n",
    "    obj = {}\n",
    "    for i in range(len(entities)):\n",
    "        char = chr(ord(init) + i)\n",
    "        obj[entities[i]] = char\n",
    "        cql_query += f\"({char}:CORE\" + \"{\" + f\"id: '{uid}', name: '{entities[i]}'\" + \"}), \\n\"\n",
    "\n",
    "    idx = 1\n",
    "    for _, row in df.iterrows():\n",
    "        subjek = obj[row['subject'].strip()]\n",
    "        objek = obj[row['object'].strip()]\n",
    "        predicate = row['predicate'].strip()\n",
    "        cql_query += f\"({subjek})-[:RELATED_TO \" + \"{ type:\"+ f\"'{predicate}'\" + \"}]\" + f\"->({objek})\"\n",
    "        if(len(df) != idx):\n",
    "            cql_query += \", \\n\"\n",
    "        idx += 1\n",
    "    return cql_query"
   ]
  },
  {
   "cell_type": "code",
   "execution_count": 43,
   "metadata": {},
   "outputs": [],
   "source": [
    "import pandas as pd\n",
    "df_result = pd.read_csv('data/all_triplet_lang_result.csv')\n",
    "\n",
    "for index, row in df_dataset.iterrows():\n",
    "    try:\n",
    "        df_filter = df_result[df_result['id'] == row['id']]\n",
    "        cql_query = df_to_create_cql(df_filter, row['id'])\n",
    "        session.run(cql_query)\n",
    "    except Exception as e:\n",
    "        print(row)\n",
    "        break"
   ]
  },
  {
   "cell_type": "code",
   "execution_count": 44,
   "metadata": {},
   "outputs": [
    {
     "name": "stderr",
     "output_type": "stream",
     "text": [
      "/Users/fahmisyaifudin/miniconda3/envs/llm/lib/python3.12/site-packages/tqdm/auto.py:21: TqdmWarning: IProgress not found. Please update jupyter and ipywidgets. See https://ipywidgets.readthedocs.io/en/stable/user_install.html\n",
      "  from .autonotebook import tqdm as notebook_tqdm\n",
      "Some weights of RobertaModel were not initialized from the model checkpoint at roberta-base and are newly initialized: ['roberta.pooler.dense.bias', 'roberta.pooler.dense.weight']\n",
      "You should probably TRAIN this model on a down-stream task to be able to use it for predictions and inference.\n"
     ]
    }
   ],
   "source": [
    "from transformers import RobertaTokenizer, RobertaModel\n",
    "\n",
    "tokenizer = RobertaTokenizer.from_pretrained(\"roberta-base\")\n",
    "model = RobertaModel.from_pretrained(\"roberta-base\")"
   ]
  },
  {
   "cell_type": "code",
   "execution_count": 45,
   "metadata": {},
   "outputs": [],
   "source": [
    "def bert_embedding(text):\n",
    "    encoded_input = tokenizer(text, return_tensors='pt')\n",
    "    output = model(**encoded_input)\n",
    "    pooler_output = output['pooler_output'][0]\n",
    "    return pooler_output.detach().numpy()"
   ]
  },
  {
   "cell_type": "code",
   "execution_count": null,
   "metadata": {},
   "outputs": [],
   "source": [
    "for index, row in df_dataset.iterrows():\n",
    "    uid = row['id']\n",
    "    records, summary, key = driver.execute_query(\"MATCH(n {id: $id})-[k]->(m {id: $id}) RETURN n.name, k.type, m.name\", id=uid)\n",
    "    for record in records:\n",
    "        embedding_subject = bert_embedding(record['n.name'])\n",
    "        session.run(\"MATCH (n {id: $id, name: $name}) WHERE n.embedding is null SET n.embedding = $embedding\", id=uid, name=record['n.name'], embedding=embedding_subject)\n",
    "        embedding_object = bert_embedding(record['m.name'])\n",
    "        session.run(\"MATCH (m {id: $id, name: $name}) WHERE m.embedding is null SET m.embedding = $embedding\", id=uid, name=record['m.name'], embedding=embedding_object)\n",
    "        embedding_relation = bert_embedding(record['k.type'])\n",
    "        session.run(\"MATCH(n {id: $id})-[k {type: $name}]->(m {id: $id}) WHERE k.embedding is null SET k.embedding = $embedding\", id=uid, name=record['k.type'], embedding=embedding_relation)"
   ]
  },
  {
   "cell_type": "code",
   "execution_count": null,
   "metadata": {},
   "outputs": [],
   "source": [
    "for index, row in df_dataset.iterrows():\n",
    "    session.run(\"MATCH (n {id: $id}) SET n.app = $app, n.feature = $feature\", app=row['app'], id=row['id'], feature=row['feature'])"
   ]
  }
 ],
 "metadata": {
  "kernelspec": {
   "display_name": "llm",
   "language": "python",
   "name": "python3"
  },
  "language_info": {
   "codemirror_mode": {
    "name": "ipython",
    "version": 3
   },
   "file_extension": ".py",
   "mimetype": "text/x-python",
   "name": "python",
   "nbconvert_exporter": "python",
   "pygments_lexer": "ipython3",
   "version": "3.12.3"
  }
 },
 "nbformat": 4,
 "nbformat_minor": 2
}
