{
 "cells": [
  {
   "cell_type": "code",
   "execution_count": null,
   "metadata": {
    "vscode": {
     "languageId": "sql"
    }
   },
   "outputs": [],
   "source": [
    "select manual_labeling_matching.is_match as manual_match, prompt_matching.is_match as prompt_match \n",
    "from manual_labeling_matching\n",
    "inner join prompt_matching on (\n",
    "    prompt_matching.source_id = manual_labeling_matching.source_id and prompt_matching.target_id = manual_labeling_matching.target_id\n",
    ")"
   ]
  },
  {
   "cell_type": "code",
   "execution_count": 1,
   "metadata": {},
   "outputs": [
    {
     "name": "stdout",
     "output_type": "stream",
     "text": [
      "Cohen's Kappa Score: 0.3694948388572695\n"
     ]
    }
   ],
   "source": [
    "import pandas as pd\n",
    "from sklearn.metrics import cohen_kappa_score\n",
    "\n",
    "# Load the CSV file into a DataFrame\n",
    "file_path = \"data/sentence-result-kappa.csv\"  # Replace with the path to your CSV file\n",
    "data = pd.read_csv(file_path)\n",
    "\n",
    "# Ensure the column names match those in your CSV file\n",
    "manual_a_labels = data['manual_match']\n",
    "manual_b_labels = data['prompt_match']\n",
    "\n",
    "# Compute Cohen's Kappa score\n",
    "kappa = cohen_kappa_score(manual_a_labels, manual_b_labels)\n",
    "\n",
    "print(f\"Cohen's Kappa Score: {kappa}\")"
   ]
  },
  {
   "cell_type": "code",
   "execution_count": 9,
   "metadata": {},
   "outputs": [],
   "source": [
    "import psycopg2\n",
    "\n",
    "pg_host = \"localhost\"\n",
    "pg_database = \"graph\"\n",
    "pg_user = \"postgres\"\n",
    "pg_password = \"postgres\"\n",
    "\n",
    "# Establish PostgreSQL connection\n",
    "pg_conn = psycopg2.connect(\n",
    "    host=pg_host,\n",
    "    database=pg_database,\n",
    "    user=pg_user,\n",
    "    password=pg_password\n",
    ")\n",
    "pg_cursor = pg_conn.cursor()"
   ]
  },
  {
   "cell_type": "code",
   "execution_count": 19,
   "metadata": {},
   "outputs": [],
   "source": [
    "import pandas as pd\n",
    "\n",
    "pg_cursor.execute(\"\"\"\n",
    "with ctx_result as (\n",
    " \tselect * from result_option_llm where \"method\" = 'EUCLIDEAN'\n",
    ") \n",
    "select ctx_result.is_similar as manual_match, result_option_llm_prompt.is_similar as prompt_match \n",
    "from ctx_result\n",
    "inner join result_option_llm_prompt on (\n",
    "    result_option_llm_prompt.source_id = ctx_result.source_id and result_option_llm_prompt.option_id = ctx_result.option_id\n",
    ")\n",
    "\"\"\")\n",
    "result_sentence = pg_cursor.fetchall()\n",
    "df_llm = pd.DataFrame(result_sentence, columns=['manual_match', 'prompt_match'])"
   ]
  },
  {
   "cell_type": "code",
   "execution_count": 20,
   "metadata": {},
   "outputs": [],
   "source": [
    "pg_cursor.execute(\"\"\"\n",
    "with ctx_result as (\n",
    " \tselect * from result_option_graph where \"method\" = 'COSINE'\n",
    ") \n",
    "select ctx_result.is_similar as manual_match, result_option_graph_prompt.is_similar as prompt_match \n",
    "from ctx_result\n",
    "inner join result_option_graph_prompt on (\n",
    "    result_option_graph_prompt.source_id = ctx_result.source_id and result_option_graph_prompt.option_id = ctx_result.option_id\n",
    ")\n",
    "\"\"\")\n",
    "result_sentence = pg_cursor.fetchall()\n",
    "df_graph = pd.DataFrame(result_sentence, columns=['manual_match', 'prompt_match'])"
   ]
  },
  {
   "cell_type": "code",
   "execution_count": 21,
   "metadata": {},
   "outputs": [
    {
     "name": "stdout",
     "output_type": "stream",
     "text": [
      "Cohen's Kappa Score: 0.5330494690397847\n"
     ]
    }
   ],
   "source": [
    "from sklearn.metrics import cohen_kappa_score\n",
    "\n",
    "# manual_a_labels = df_graph['manual_match']\n",
    "manual_a_labels = pd.concat([df_llm['manual_match'], df_graph['manual_match']]).tolist()\n",
    "# manual_b_labels = df_graph['prompt_match']\n",
    "manual_b_labels = pd.concat([df_llm['prompt_match'], df_graph['prompt_match']]).tolist()\n",
    "\n",
    "# Compute Cohen's Kappa score\n",
    "kappa = cohen_kappa_score(manual_a_labels, manual_b_labels)\n",
    "\n",
    "print(f\"Cohen's Kappa Score: {kappa}\")"
   ]
  }
 ],
 "metadata": {
  "kernelspec": {
   "display_name": "llm",
   "language": "python",
   "name": "python3"
  },
  "language_info": {
   "codemirror_mode": {
    "name": "ipython",
    "version": 3
   },
   "file_extension": ".py",
   "mimetype": "text/x-python",
   "name": "python",
   "nbconvert_exporter": "python",
   "pygments_lexer": "ipython3",
   "version": "3.12.3"
  }
 },
 "nbformat": 4,
 "nbformat_minor": 2
}
