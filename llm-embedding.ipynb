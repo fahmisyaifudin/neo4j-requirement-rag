{
 "cells": [
  {
   "cell_type": "code",
   "execution_count": 27,
   "metadata": {},
   "outputs": [],
   "source": [
    "from openai import OpenAI\n",
    "from dotenv import load_dotenv\n",
    "load_dotenv()\n",
    "\n",
    "client = OpenAI()"
   ]
  },
  {
   "cell_type": "code",
   "execution_count": 28,
   "metadata": {},
   "outputs": [],
   "source": [
    "def get_embedding(text, model=\"text-embedding-ada-002\"):\n",
    "   text = text.replace(\"\\n\", \" \")\n",
    "   return client.embeddings.create(input = [text], model=model).data[0].embedding"
   ]
  },
  {
   "cell_type": "code",
   "execution_count": 33,
   "metadata": {},
   "outputs": [],
   "source": [
    "datasets = {\n",
    "    'Zoho Commerce': 'data/zoho-commerce-datasets.csv',\n",
    "    'Softeng POS': 'data/softeng-pos-datasets.csv',\n",
    "    'SMS': 'data/sms-datasets.csv',\n",
    "    'SIMS': 'data/sims-datasets.csv',\n",
    "    'SCATS': 'data/scats-datasets.csv',\n",
    "    'POS Connect': 'data/pos-connect_datasets.csv',\n",
    "    'Odoo Sales': 'data/odoo-sales-datasets.csv',\n",
    "    'Odoo Purchase': 'data/odoo-purchase-datasets.csv',\n",
    "    'Odoo POS Shop': 'data/odoo-pos-shop-datasets.csv',\n",
    "    'Odoo POS Restaurant': 'data/odoo-pos-restaurant-datasets.csv',\n",
    "    'Odoo Inventory': 'data/odoo-inventory-datasets.csv',\n",
    "    'Odoo CRM': 'data/odoo-crm-datasets.csv',\n",
    "}\n",
    "\n"
   ]
  },
  {
   "cell_type": "code",
   "execution_count": null,
   "metadata": {},
   "outputs": [],
   "source": [
    "import pandas as pd\n",
    "# List to hold dataframes\n",
    "dataframes = []\n",
    "\n",
    "# Loop through the datasets dictionary\n",
    "for app, filepath in datasets.items():\n",
    "    # Read the dataset\n",
    "    df = pd.read_csv(filepath)\n",
    "    # Add the 'app' column\n",
    "    df['app'] = app\n",
    "    # Append the dataframe to the list\n",
    "    dataframes.append(df)\n",
    "\n",
    "# Combine all dataframes\n",
    "combined_df = pd.concat(dataframes, ignore_index=True)"
   ]
  },
  {
   "cell_type": "code",
   "execution_count": null,
   "metadata": {},
   "outputs": [],
   "source": [
    "combined_df['sentence_embedding'] = combined_df.sentence.apply(lambda x: get_embedding(x))"
   ]
  },
  {
   "cell_type": "code",
   "execution_count": null,
   "metadata": {},
   "outputs": [],
   "source": [
    "combined_df.to_csv('output/embedding_all_sentence.csv', index=False)"
   ]
  },
  {
   "cell_type": "code",
   "execution_count": null,
   "metadata": {},
   "outputs": [],
   "source": [
    "import numpy as np\n",
    "\n",
    "read_df = pd.read_csv('output/embedding_all_sentence.csv')\n",
    "read_df['sentence_embedding'] = read_df.sentence_embedding.apply(eval).apply(np.array)"
   ]
  },
  {
   "cell_type": "code",
   "execution_count": null,
   "metadata": {},
   "outputs": [],
   "source": []
  }
 ],
 "metadata": {
  "kernelspec": {
   "display_name": "llm",
   "language": "python",
   "name": "python3"
  },
  "language_info": {
   "codemirror_mode": {
    "name": "ipython",
    "version": 3
   },
   "file_extension": ".py",
   "mimetype": "text/x-python",
   "name": "python",
   "nbconvert_exporter": "python",
   "pygments_lexer": "ipython3",
   "version": "3.12.3"
  }
 },
 "nbformat": 4,
 "nbformat_minor": 2
}
