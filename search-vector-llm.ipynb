{
 "cells": [
  {
   "cell_type": "code",
   "execution_count": 14,
   "metadata": {},
   "outputs": [],
   "source": [
    "import neo4j\n",
    "\n",
    "host = \"localhost\"\n",
    "username = \"neo4j\"\n",
    "password = \"1234qwer\"\n",
    "\n",
    "driver = neo4j.GraphDatabase.driver(f'bolt://localhost:7687', auth=(username, password))\n",
    "session = driver.session()"
   ]
  },
  {
   "cell_type": "code",
   "execution_count": null,
   "metadata": {},
   "outputs": [
    {
     "data": {
      "text/plain": [
       "array([[-0.00826139, -0.01771853,  0.01101754, ..., -0.01142988,\n",
       "        -0.0096408 , -0.0121578 ],\n",
       "       [-0.01736911, -0.01399937,  0.00449301, ..., -0.01365874,\n",
       "        -0.01284346, -0.01121555],\n",
       "       [-0.01111349, -0.01041773, -0.01105122, ..., -0.01079431,\n",
       "         0.00477596, -0.01097073]])"
      ]
     },
     "execution_count": 38,
     "metadata": {},
     "output_type": "execute_result"
    }
   ],
   "source": [
    "import pandas as pd\n",
    "import numpy as np\n",
    "df_triplet = pd.read_csv('data/all_triplet_lang_result.csv')\n",
    "df_entity = pd.read_csv('output/entity_llm_embedding.csv')\n",
    "df_entity['embedding'] = df_entity.embedding.apply(eval).apply(np.array)\n",
    "\n",
    "selected = df_triplet[df_triplet['id'] == 'c736c675-d1fe-422d-ba3f-16dd54cdf477']\n",
    "\n",
    "entity_embedding = []\n",
    "for index, row in selected.iterrows():\n",
    "    subject = df_entity[df_entity['entity'] == row['subject']]['embedding']\n",
    "    predicate = df_entity[df_entity['entity'] == row['predicate']]['embedding']\n",
    "    object = df_entity[df_entity['entity'] == row['object']]['embedding']\n",
    "    entity_embedding.append([subject.values[0], predicate.values[0], object.values[0]])\n",
    "\n",
    "average_embedding = np.mean(entity_embedding, axis=0)"
   ]
  },
  {
   "cell_type": "code",
   "execution_count": null,
   "metadata": {},
   "outputs": [
    {
     "name": "stdout",
     "output_type": "stream",
     "text": [
      "c736c675-d1fe-422d-ba3f-16dd54cdf477 Track every single unit of your product and set alerts to be notified when the product runs low on stock. 0.9699025286568536\n",
      "14169e42-3c8c-4554-8143-b871d94ac741 Easily migrate products from an external system to quickly start taking orders and bring in revenue. 0.9461250901222229\n",
      "4afcc1d0-99e4-4db2-8e7f-2f2d80206fb2 The system shall update the stock to reflect the new quantity of the added product. 0.9448814656999376\n",
      "01379659-6e85-4055-a25b-c57056cbe842 The system must verify that the product associated with the coupon is available in stock before applying the discount. 0.9410846432050068\n",
      "bc249626-1744-4ff0-9a29-39a1c3ba76a2 The system must allow the user to input the amount to be paid and the cash received from the customer. 0.9375385642051697\n",
      "b6a796f7-64f5-4cb6-ba5a-736cca8ef440 The system shall permit the Sales-Assistant to enter the quantity for the selected product if the customer purchases more than the minimum wholesale quantity defined in the system. 0.937168226844963\n",
      "39206fc2-25e1-47c2-b52e-59f5880731c7 Fill out the product title, description, SKU, and other details, create different variants with multiple attributes, and set different prices and inventory amounts. 0.9367268795058842\n",
      "a689658d-3a6d-4c58-bea5-367209e70490 The system shall provide the option to search for a contract by selecting a customer using customer name or customer number as access keys, in case the sales assistant forgets the exact contract number. 0.936662576028279\n",
      "f4d397fb-bc33-4847-adeb-a9bbb43d26f9 After the sale is completed, the system must update the product inventory to reflect the decrease in stock 0.9364387442668278\n",
      "7b76a9df-c20a-46d7-a702-f57132f3d9d4 The system shall allow the Sales-Assistant to enter the quantity for a selected product during the process of recording a new retail. 0.9361451005234439\n"
     ]
    }
   ],
   "source": [
    "records, summary, key = driver.execute_query(\"\"\"\n",
    "MATCH (s)-[:RELATED_TO]->(p:VERB)-[:RELATED_TO]->(o)                                        \n",
    "MATCH (i:Requirement)-[:CONTAINS]->(s)\n",
    "MATCH (i:Requirement)-[:CONTAINS]->(p)\n",
    "MATCH (i:Requirement)-[:CONTAINS]->(o)\n",
    "                                             \n",
    "WITH i.id as id, i.sentence as sentence, vector.similarity.cosine(s.embedding, $embed_one) as subjectScore, \n",
    "    vector.similarity.cosine(o.embedding, $embed_three) as objectScore,\n",
    "    vector.similarity.cosine(p.embedding, $embed_two) as verbScore\n",
    "RETURN max(id) as id, sentence, AVG((subjectScore + objectScore + verbScore)/3) as score\n",
    "ORDER BY score DESC LIMIT 10\n",
    "\"\"\", embed_one=average_embedding[0], embed_two=average_embedding[1], embed_three=average_embedding[2])\n",
    "\n",
    "for row in records:\n",
    "    print(row['id'], row['sentence'], row['score'])"
   ]
  },
  {
   "cell_type": "code",
   "execution_count": null,
   "metadata": {},
   "outputs": [],
   "source": []
  },
  {
   "cell_type": "code",
   "execution_count": null,
   "metadata": {},
   "outputs": [],
   "source": []
  }
 ],
 "metadata": {
  "kernelspec": {
   "display_name": "llm",
   "language": "python",
   "name": "python3"
  },
  "language_info": {
   "codemirror_mode": {
    "name": "ipython",
    "version": 3
   },
   "file_extension": ".py",
   "mimetype": "text/x-python",
   "name": "python",
   "nbconvert_exporter": "python",
   "pygments_lexer": "ipython3",
   "version": "3.12.3"
  }
 },
 "nbformat": 4,
 "nbformat_minor": 2
}
