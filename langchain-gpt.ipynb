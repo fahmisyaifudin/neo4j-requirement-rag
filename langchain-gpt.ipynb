{
 "cells": [
  {
   "cell_type": "code",
   "execution_count": 14,
   "metadata": {},
   "outputs": [
    {
     "data": {
      "text/plain": [
       "True"
      ]
     },
     "execution_count": 14,
     "metadata": {},
     "output_type": "execute_result"
    }
   ],
   "source": [
    "import os\n",
    "from dotenv import load_dotenv\n",
    "from langchain_openai import ChatOpenAI\n",
    "from langchain.prompts import ChatPromptTemplate\n",
    "from langchain.chains import SequentialChain, LLMChain\n",
    "\n",
    "load_dotenv()\n"
   ]
  },
  {
   "cell_type": "code",
   "execution_count": 1,
   "metadata": {},
   "outputs": [],
   "source": [
    "import neo4j\n",
    "\n",
    "host = \"localhost\"\n",
    "username = \"neo4j\"\n",
    "password = \"1234qwer\"\n",
    "\n",
    "driver = neo4j.GraphDatabase.driver(f'bolt://localhost:7687', auth=(username, password))\n",
    "session = driver.session()\n",
    "\n",
    "def create_graph(query):\n",
    "    #query = \"CREATE   (u:User {id: 'e7779884-ecc5-459e-aae2-41dae12f4454', name: 'Users'}),  (p1:Platform {id: 'e7779884-ecc5-459e-aae2-41dae12f4454', name: 'PayPal'}),  (p2:Platform {id: 'e7779884-ecc5-459e-aae2-41dae12f4454', name: 'eBay'}),  (c:Core {id: 'e7779884-ecc5-459e-aae2-41dae12f4454', name: 'payment'}),  (v:Verb {id: 'e7779884-ecc5-459e-aae2-41dae12f4454', name: 'send'}),  (c2:Core {id: 'e7779884-ecc5-459e-aae2-41dae12f4454', name: 'lump sums'}),  (c3:Core {id: 'e7779884-ecc5-459e-aae2-41dae12f4454', name: 'bank account'}),    (u)-[:USES]->(p1),  (p1)-[:PROVIDES]->(c),  (p2)-[:PLATFORM_FOR]->(c),  (u)-[:RECEIVES]->(c),  (p1)-[:SEND]->(v),  (v)-[:TRANSFERS]->(c2),  (p1)-[:DEPOSITS_INTO]->(c3)\"\n",
    "    session.run(query)"
   ]
  },
  {
   "cell_type": "code",
   "execution_count": 16,
   "metadata": {},
   "outputs": [
    {
     "data": {
      "text/html": [
       "<div>\n",
       "<style scoped>\n",
       "    .dataframe tbody tr th:only-of-type {\n",
       "        vertical-align: middle;\n",
       "    }\n",
       "\n",
       "    .dataframe tbody tr th {\n",
       "        vertical-align: top;\n",
       "    }\n",
       "\n",
       "    .dataframe thead th {\n",
       "        text-align: right;\n",
       "    }\n",
       "</style>\n",
       "<table border=\"1\" class=\"dataframe\">\n",
       "  <thead>\n",
       "    <tr style=\"text-align: right;\">\n",
       "      <th></th>\n",
       "      <th>Fitur</th>\n",
       "      <th>Subfitur</th>\n",
       "      <th>Sentence</th>\n",
       "      <th>id</th>\n",
       "      <th>app</th>\n",
       "      <th>feature</th>\n",
       "    </tr>\n",
       "  </thead>\n",
       "  <tbody>\n",
       "    <tr>\n",
       "      <th>0</th>\n",
       "      <td>Point of sales</td>\n",
       "      <td>NaN</td>\n",
       "      <td>With Odoo Point of Sale, run your shops and re...</td>\n",
       "      <td>6ef23729-dd77-49bb-8a3f-246e33bc8d2c</td>\n",
       "      <td>Odoo POS</td>\n",
       "      <td>Point of sales</td>\n",
       "    </tr>\n",
       "    <tr>\n",
       "      <th>1</th>\n",
       "      <td>Multi-employee management</td>\n",
       "      <td>NaN</td>\n",
       "      <td>Odoo Point of Sale allows you to manage access...</td>\n",
       "      <td>347279e0-896a-4a23-845e-06029b72274b</td>\n",
       "      <td>Odoo POS</td>\n",
       "      <td>Multi-employee management</td>\n",
       "    </tr>\n",
       "    <tr>\n",
       "      <th>2</th>\n",
       "      <td>Product combos</td>\n",
       "      <td>NaN</td>\n",
       "      <td>The Product Combos feature allows users to def...</td>\n",
       "      <td>abd07d20-4a7e-4325-b821-12156052c8d5</td>\n",
       "      <td>Odoo POS</td>\n",
       "      <td>Product combos</td>\n",
       "    </tr>\n",
       "    <tr>\n",
       "      <th>3</th>\n",
       "      <td>Product combos</td>\n",
       "      <td>NaN</td>\n",
       "      <td>In the context of a restaurant, the feature en...</td>\n",
       "      <td>1df2ac61-5d92-4778-9701-c7b66ccef5e9</td>\n",
       "      <td>Odoo POS</td>\n",
       "      <td>Product combos</td>\n",
       "    </tr>\n",
       "    <tr>\n",
       "      <th>4</th>\n",
       "      <td>Product combos</td>\n",
       "      <td>NaN</td>\n",
       "      <td>In retail, this feature allows you to create a...</td>\n",
       "      <td>90fbb98b-ff3b-4b35-906d-36ff94f61afa</td>\n",
       "      <td>Odoo POS</td>\n",
       "      <td>Product combos</td>\n",
       "    </tr>\n",
       "  </tbody>\n",
       "</table>\n",
       "</div>"
      ],
      "text/plain": [
       "                       Fitur Subfitur  \\\n",
       "0             Point of sales      NaN   \n",
       "1  Multi-employee management      NaN   \n",
       "2             Product combos      NaN   \n",
       "3             Product combos      NaN   \n",
       "4             Product combos      NaN   \n",
       "\n",
       "                                            Sentence  \\\n",
       "0  With Odoo Point of Sale, run your shops and re...   \n",
       "1  Odoo Point of Sale allows you to manage access...   \n",
       "2  The Product Combos feature allows users to def...   \n",
       "3  In the context of a restaurant, the feature en...   \n",
       "4  In retail, this feature allows you to create a...   \n",
       "\n",
       "                                     id       app                    feature  \n",
       "0  6ef23729-dd77-49bb-8a3f-246e33bc8d2c  Odoo POS             Point of sales  \n",
       "1  347279e0-896a-4a23-845e-06029b72274b  Odoo POS  Multi-employee management  \n",
       "2  abd07d20-4a7e-4325-b821-12156052c8d5  Odoo POS             Product combos  \n",
       "3  1df2ac61-5d92-4778-9701-c7b66ccef5e9  Odoo POS             Product combos  \n",
       "4  90fbb98b-ff3b-4b35-906d-36ff94f61afa  Odoo POS             Product combos  "
      ]
     },
     "execution_count": 16,
     "metadata": {},
     "output_type": "execute_result"
    }
   ],
   "source": [
    "import pandas as pd\n",
    "import uuid\n",
    "\n",
    "df = pd.read_csv('odoo_pos.csv')\n",
    "df.head()\n",
    "\n",
    "uuids = []\n",
    "for _ in range(len(df)):\n",
    "    uuids.append(str(uuid.uuid4()))\n",
    "\n",
    "def append_feature(str1, str2):\n",
    "    if(str2 == True):\n",
    "        return str1 + ' ' + str2\n",
    "    else:\n",
    "        return str1\n",
    "\n",
    "df['id'] = uuids\n",
    "df['app'] = 'Odoo POS'\n",
    "df['feature'] = df.apply(lambda row: append_feature(row['Fitur'], row['Subfitur']), axis=1)\n",
    "df.head()"
   ]
  },
  {
   "cell_type": "code",
   "execution_count": 22,
   "metadata": {},
   "outputs": [],
   "source": [
    "df.to_csv('odoo_pos_normalized.csv')"
   ]
  },
  {
   "cell_type": "code",
   "execution_count": 17,
   "metadata": {},
   "outputs": [
    {
     "name": "stderr",
     "output_type": "stream",
     "text": [
      "/Users/fahmisyaifudin/miniconda3/envs/llm/lib/python3.12/site-packages/langchain_core/_api/deprecation.py:141: LangChainDeprecationWarning: The class `LLMChain` was deprecated in LangChain 0.1.17 and will be removed in 0.3.0. Use RunnableSequence, e.g., `prompt | llm` instead.\n",
      "  warn_deprecated(\n"
     ]
    }
   ],
   "source": [
    "template1 = \"\"\"You are expert software analyst, you can easily split and classify entity from sentence \n",
    "- Categorized as \"Core\" if the entity is a specific feature of software requirement domain, example (system, application, payment, login) \n",
    "- Categorized as \"User\" if the entity is a specific user of the software, example (Admin, developer, Student, customer, buyer, cashier) \n",
    "- Categorized as \"Hardware\" if the entity is a component of computer hardware, example (Keyboard, mouse, CPU) \n",
    "- Categorized as \"Platform\" if the entity is a third party application or software platform, example (Linux, Paypal, eBay, Apache) \n",
    "- Categorized as \"Verb\" if the entity is miscellaneous actions or verb related to software, example (upgrade, view, checkout, buy, download, delete) \n",
    "\n",
    "Given sentence : {sentence}\n",
    "\n",
    "Output must separated by comma like <entity>,<category>\n",
    "\n",
    "\"\"\"\n",
    "template2 = \"\"\"From the output of\n",
    "<entity>,<category>\n",
    "{extraction}\n",
    "\n",
    "and in context sentence : \n",
    "{sentence}\n",
    "\n",
    "- Make connections between entities\n",
    "- Node label is <category> consists of id the value: {id} and name: <entity>\n",
    "- Generate a Neo4j cypher query CREATE statement\n",
    "- Don't display anything in the output other than the Cypher query\n",
    "\"\"\"\n",
    "\n",
    "\n",
    "prompt1 = ChatPromptTemplate.from_template(template1)\n",
    "prompt2 = ChatPromptTemplate.from_template(template2)\n",
    "\n",
    "model = ChatOpenAI(model=\"gpt-4o-mini\", api_key=os.getenv('OPEN_API_KEY'), temperature=0)\n",
    "\n",
    "chain1 = prompt1 | model\n",
    "chain2 = prompt2 | model\n",
    "\n",
    "chain_one = LLMChain(llm=model, prompt=prompt1, output_key=\"extraction\")\n",
    "chain_two = LLMChain(llm=model, prompt=prompt2, output_key=\"cypher\")\n",
    "\n",
    "overal_chain = SequentialChain(\n",
    "    chains=[chain_one, chain_two],\n",
    "    input_variables=[\"sentence\", \"id\"],\n",
    "    output_variables=[\"extraction\", \"cypher\"]\n",
    ")"
   ]
  },
  {
   "cell_type": "code",
   "execution_count": 26,
   "metadata": {},
   "outputs": [],
   "source": [
    "for index, row in df.iterrows():\n",
    "    sentence = row['Sentence']\n",
    "    sentence_id = row['id']\n",
    "    message = overal_chain({\"sentence\": sentence, \"id\": sentence_id})\n",
    "    raw_cypher = message['cypher']\n",
    "    cypher = raw_cypher.replace(\"\\n\", \"\").replace(\"```cypher\", \"\").replace(\"```\", \"\")\n",
    "    create_graph(cypher)"
   ]
  },
  {
   "cell_type": "code",
   "execution_count": 6,
   "metadata": {},
   "outputs": [
    {
     "name": "stderr",
     "output_type": "stream",
     "text": [
      "/Users/fahmisyaifudin/miniconda3/envs/llm/lib/python3.12/site-packages/tqdm/auto.py:21: TqdmWarning: IProgress not found. Please update jupyter and ipywidgets. See https://ipywidgets.readthedocs.io/en/stable/user_install.html\n",
      "  from .autonotebook import tqdm as notebook_tqdm\n"
     ]
    }
   ],
   "source": [
    "from transformers import BertTokenizer, BertModel\n",
    "tokenizer = BertTokenizer.from_pretrained('bert-base-uncased')\n",
    "model = BertModel.from_pretrained(\"bert-base-uncased\")"
   ]
  },
  {
   "cell_type": "code",
   "execution_count": 7,
   "metadata": {},
   "outputs": [],
   "source": [
    "def bert_embedding(text):\n",
    "    encoded_input = tokenizer(text, return_tensors='pt')\n",
    "    output = model(**encoded_input)\n",
    "    pooler_output = output['pooler_output'][0]\n",
    "    return pooler_output.detach().numpy()"
   ]
  },
  {
   "cell_type": "code",
   "execution_count": 48,
   "metadata": {},
   "outputs": [],
   "source": [
    "for index, row in df.iterrows():\n",
    "    records, summary, key = driver.execute_query(\"MATCH (n {id: $id}) WHERE n.embedding is NULL RETURN DISTINCT n.name\", id=row['id'])\n",
    "    for record in records:\n",
    "        embedding = bert_embedding(record['n.name'])\n",
    "        session.run(\"MATCH (n {id: $id, name: $name}) CALL db.create.setNodeVectorProperty(n, 'embedding', $embedding) SET n.app = $app, n.feature = $feature\", id=row['id'], name=record['n.name'], embedding=embedding, app=row['app'], feature=row['feature'])"
   ]
  },
  {
   "cell_type": "code",
   "execution_count": 126,
   "metadata": {},
   "outputs": [
    {
     "data": {
      "text/plain": [
       "<neo4j._sync.work.result.Result at 0x2cc6e3cb0>"
      ]
     },
     "execution_count": 126,
     "metadata": {},
     "output_type": "execute_result"
    }
   ],
   "source": [
    "# session.run(\"\"\"\n",
    "# CREATE VECTOR INDEX core_embedding IF NOT EXISTS\n",
    "# FOR (n:Core)\n",
    "# ON n.embedding\n",
    "# OPTIONS {indexConfig: {\n",
    "#  `vector.dimensions`: 768,\n",
    "#  `vector.similarity_function`: 'cosine'\n",
    "# }}\"\"\")\n",
    "\n",
    "# session.run(\"\"\"\n",
    "# CREATE VECTOR INDEX platform_embedding IF NOT EXISTS\n",
    "# FOR (n:Platform)\n",
    "# ON n.embedding\n",
    "# OPTIONS {indexConfig: {\n",
    "#  `vector.dimensions`: 768,\n",
    "#  `vector.similarity_function`: 'cosine'\n",
    "# }}\"\"\")\n",
    "\n",
    "# session.run(\"\"\"\n",
    "# CREATE VECTOR INDEX user_embedding IF NOT EXISTS\n",
    "# FOR (n:User)\n",
    "# ON n.embedding\n",
    "# OPTIONS {indexConfig: {\n",
    "#  `vector.dimensions`: 768,\n",
    "#  `vector.similarity_function`: 'cosine'\n",
    "# }}\"\"\")\n",
    "\n",
    "# session.run(\"\"\"\n",
    "# CREATE VECTOR INDEX hardware_embedding IF NOT EXISTS\n",
    "# FOR (n:Hardware)\n",
    "# ON n.embedding\n",
    "# OPTIONS {indexConfig: {\n",
    "#  `vector.dimensions`: 768,\n",
    "#  `vector.similarity_function`: 'cosine'\n",
    "# }}\"\"\")\n",
    "\n",
    "# session.run(\"\"\"\n",
    "# CREATE VECTOR INDEX verb_embedding IF NOT EXISTS\n",
    "# FOR (n:Verb)\n",
    "# ON n.embedding\n",
    "# OPTIONS {indexConfig: {\n",
    "#  `vector.dimensions`: 768,\n",
    "#  `vector.similarity_function`: 'cosine'\n",
    "# }}\"\"\")"
   ]
  },
  {
   "cell_type": "code",
   "execution_count": 11,
   "metadata": {},
   "outputs": [
    {
     "name": "stdout",
     "output_type": "stream",
     "text": [
      "CONSOLIDATES\n"
     ]
    }
   ],
   "source": [
    "const_app = 'Odoo POS'\n",
    "records, summary, key = driver.execute_query(\"MATCH (n {app: $app})-[r]-(k) return distinct type(r) as relation\", app=const_app)\n",
    "for record in records[:1]:\n",
    "    relation = record['relation'].lower().replace('_', ' ')\n",
    "    embedding = bert_embedding(relation)\n",
    "    session.run(f\"MATCH (n)-[r:{record['relation']}]-(k) WHERE n.app = $app CALL db.create.setRelationshipVectorProperty(r, 'embedding', $embedding)\", app=const_app, embedding=embedding)\n"
   ]
  },
  {
   "cell_type": "code",
   "execution_count": null,
   "metadata": {},
   "outputs": [],
   "source": [
    "# session.run(\"\"\"\n",
    "# CREATE VECTOR INDEX core_embedding IF NOT EXISTS\n",
    "# FOR (n:Core)\n",
    "# ON n.embedding\n",
    "# OPTIONS {indexConfig: {\n",
    "#  `vector.dimensions`: 768,\n",
    "#  `vector.similarity_function`: 'cosine'\n",
    "# }}\"\"\")\n",
    "\n",
    "# session.run(\"\"\"\n",
    "# CREATE VECTOR INDEX platform_embedding IF NOT EXISTS\n",
    "# FOR (n:Platform)\n",
    "# ON n.embedding\n",
    "# OPTIONS {indexConfig: {\n",
    "#  `vector.dimensions`: 768,\n",
    "#  `vector.similarity_function`: 'cosine'\n",
    "# }}\"\"\")\n",
    "\n",
    "# session.run(\"\"\"\n",
    "# CREATE VECTOR INDEX user_embedding IF NOT EXISTS\n",
    "# FOR (n:User)\n",
    "# ON n.embedding\n",
    "# OPTIONS {indexConfig: {\n",
    "#  `vector.dimensions`: 768,\n",
    "#  `vector.similarity_function`: 'cosine'\n",
    "# }}\"\"\")\n",
    "\n",
    "# session.run(\"\"\"\n",
    "# CREATE VECTOR INDEX hardware_embedding IF NOT EXISTS\n",
    "# FOR (n:Hardware)\n",
    "# ON n.embedding\n",
    "# OPTIONS {indexConfig: {\n",
    "#  `vector.dimensions`: 768,\n",
    "#  `vector.similarity_function`: 'cosine'\n",
    "# }}\"\"\")\n",
    "\n",
    "# session.run(\"\"\"\n",
    "# CREATE VECTOR INDEX verb_embedding IF NOT EXISTS\n",
    "# FOR (n:Verb)\n",
    "# ON n.embedding\n",
    "# OPTIONS {indexConfig: {\n",
    "#  `vector.dimensions`: 768,\n",
    "#  `vector.similarity_function`: 'cosine'\n",
    "# }}\"\"\")\n"
   ]
  }
 ],
 "metadata": {
  "kernelspec": {
   "display_name": "llm",
   "language": "python",
   "name": "python3"
  },
  "language_info": {
   "codemirror_mode": {
    "name": "ipython",
    "version": 3
   },
   "file_extension": ".py",
   "mimetype": "text/x-python",
   "name": "python",
   "nbconvert_exporter": "python",
   "pygments_lexer": "ipython3",
   "version": "3.12.3"
  }
 },
 "nbformat": 4,
 "nbformat_minor": 2
}
