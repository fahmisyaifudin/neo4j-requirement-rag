{
 "cells": [
  {
   "cell_type": "code",
   "execution_count": 11,
   "metadata": {},
   "outputs": [],
   "source": [
    "import pandas as pd\n",
    "import numpy as np\n",
    "\n",
    "def calculate_mrr(df, k=None):\n",
    "    \"\"\"\n",
    "    Calculate Mean Reciprocal Rank (MRR) from a DataFrame containing true and predicted values.\n",
    "    \n",
    "    Parameters:\n",
    "    -----------\n",
    "    df : pandas.DataFrame\n",
    "        DataFrame containing the true and predicted values\n",
    "    true_column : str\n",
    "        Name of the column containing the true/relevant items\n",
    "    pred_column : str\n",
    "        Name of the column containing the predicted items (as lists)\n",
    "    k : int, optional\n",
    "        Calculate MRR@k. If None, use full length of predictions\n",
    "    \n",
    "    Returns:\n",
    "    --------\n",
    "    float\n",
    "        Mean Reciprocal Rank score\n",
    "    \"\"\"\n",
    "    def get_reciprocal_rank(true_item, pred_list):\n",
    "        if k is not None:\n",
    "            pred_list = pred_list[:k]\n",
    "        \n",
    "        # Find the position (1-based index) of true item in predictions\n",
    "        try:\n",
    "            rank = pred_list.index(true_item) + 1\n",
    "            return 1.0 / rank\n",
    "        except ValueError:\n",
    "            return 0.0  # True item not found in predictions\n",
    "    # Calculate reciprocal rank for each row\n",
    "    reciprocal_ranks = df.apply(\n",
    "        lambda row: get_reciprocal_rank(\n",
    "            row['true_item'], \n",
    "            row['predictions']\n",
    "        ), \n",
    "        axis=1\n",
    "    )\n",
    "    \n",
    "    # Calculate mean of reciprocal ranks\n",
    "    mrr = reciprocal_ranks.mean()\n",
    "    \n",
    "    return mrr"
   ]
  },
  {
   "cell_type": "code",
   "execution_count": 24,
   "metadata": {},
   "outputs": [],
   "source": [
    "import psycopg2\n",
    "\n",
    "pg_host = \"localhost\"\n",
    "pg_database = \"graph\"\n",
    "pg_user = \"postgres\"\n",
    "pg_password = \"postgres\"\n",
    "\n",
    "# Establish PostgreSQL connection\n",
    "pg_conn = psycopg2.connect(\n",
    "    host=pg_host,\n",
    "    database=pg_database,\n",
    "    user=pg_user,\n",
    "    password=pg_password\n",
    ")\n",
    "pg_cursor = pg_conn.cursor()"
   ]
  },
  {
   "cell_type": "code",
   "execution_count": 40,
   "metadata": {},
   "outputs": [],
   "source": [
    "pg_cursor.execute(\"\"\"\n",
    " with ctx_result as (\n",
    " \tselect * from result_option_llm where \"method\" = 'EUCLIDEAN'\n",
    "\torder by result_option_llm.source_id, result_option_llm.similarity desc\n",
    "), \n",
    "ctx_result_true as (\n",
    "\tselect source_id, option_id from result_option_llm where \"method\" = 'EUCLIDEAN' and is_similar = true\n",
    ")\n",
    "select jsonb_agg(ctx_result.option_id) as result, COALESCE(ctx_result_true.option_id, '3447aa7e-edf5-4b59-93b8-afede2c74805') as option from ctx_result\n",
    "left join ctx_result_true on ctx_result_true.source_id = ctx_result.source_id\n",
    "group by ctx_result.source_id, ctx_result_true.option_id\n",
    "\"\"\")\n",
    "result_sentence = pg_cursor.fetchall()\n",
    "df_sentence = pd.DataFrame(result_sentence, columns=['result', 'option'])"
   ]
  },
  {
   "cell_type": "code",
   "execution_count": 41,
   "metadata": {},
   "outputs": [],
   "source": [
    "pg_cursor.execute(\"\"\"\n",
    " with ctx_result as (\n",
    " \tselect * from result_option_graph where \"method\" = 'COSINE'\n",
    "\torder by result_option_graph.source_id, result_option_graph.similarity desc\n",
    "), \n",
    "ctx_result_true as (\n",
    "\tselect source_id, option_id from result_option_graph where \"method\" = 'COSINE' and is_similar = true\n",
    ")\n",
    "select jsonb_agg(ctx_result.option_id) as result, COALESCE(ctx_result_true.option_id, '40e68613-7ac2-4ffe-8a24-3a26ad453e91') as option from ctx_result\n",
    "left join ctx_result_true on ctx_result_true.source_id = ctx_result.source_id\n",
    "group by ctx_result.source_id, ctx_result_true.option_id\n",
    "\"\"\")\n",
    "result_graph = pg_cursor.fetchall()\n",
    "df_graph = pd.DataFrame(result_graph, columns=['result', 'option'])"
   ]
  },
  {
   "cell_type": "code",
   "execution_count": 42,
   "metadata": {},
   "outputs": [],
   "source": [
    "data = {\n",
    "    'true_item': df_sentence['option'],\n",
    "    'predictions': df_sentence['result']\n",
    "}\n",
    "data_graph = {\n",
    "    'true_item': df_graph['option'],\n",
    "    'predictions': df_graph['result']\n",
    "}\n",
    "df_combine_sentence = pd.DataFrame(data)\n",
    "df_combine_graph = pd.DataFrame(data_graph)"
   ]
  },
  {
   "cell_type": "code",
   "execution_count": 43,
   "metadata": {},
   "outputs": [
    {
     "name": "stdout",
     "output_type": "stream",
     "text": [
      "sentence base LLM MRR: 0.4778225806451613\n",
      "graph base  MRR: 0.6608208955223881\n"
     ]
    }
   ],
   "source": [
    "mrr = calculate_mrr(df_combine_sentence)\n",
    "print(f\"sentence base LLM MRR: {mrr}\")\n",
    "mrr = calculate_mrr(df_combine_graph)\n",
    "print(f\"graph base  MRR: {mrr}\")"
   ]
  },
  {
   "cell_type": "code",
   "execution_count": null,
   "metadata": {},
   "outputs": [],
   "source": []
  }
 ],
 "metadata": {
  "kernelspec": {
   "display_name": "llm",
   "language": "python",
   "name": "python3"
  },
  "language_info": {
   "codemirror_mode": {
    "name": "ipython",
    "version": 3
   },
   "file_extension": ".py",
   "mimetype": "text/x-python",
   "name": "python",
   "nbconvert_exporter": "python",
   "pygments_lexer": "ipython3",
   "version": "3.12.3"
  }
 },
 "nbformat": 4,
 "nbformat_minor": 2
}
