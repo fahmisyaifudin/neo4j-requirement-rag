{
 "cells": [
  {
   "cell_type": "code",
   "execution_count": 4,
   "metadata": {},
   "outputs": [],
   "source": [
    "import pandas as pd\n",
    "import numpy as np"
   ]
  },
  {
   "cell_type": "code",
   "execution_count": 5,
   "metadata": {},
   "outputs": [],
   "source": [
    "read_df = pd.read_csv('output/embedding_all_sentence.csv')\n",
    "read_df['sentence_embedding'] = read_df.sentence_embedding.apply(eval).apply(np.array)"
   ]
  },
  {
   "cell_type": "code",
   "execution_count": 1,
   "metadata": {},
   "outputs": [],
   "source": [
    "import neo4j\n",
    "\n",
    "host = \"bolt://localhost\"\n",
    "username = \"neo4j\"\n",
    "password = \"1234qwer\"\n",
    "\n",
    "driver = neo4j.GraphDatabase.driver(f'{host}', auth=(username, password))\n",
    "\n",
    "session = driver.session()"
   ]
  },
  {
   "cell_type": "raw",
   "metadata": {
    "vscode": {
     "languageId": "raw"
    }
   },
   "source": [
    "LOAD CSV WITH HEADERS FROM 'https://drive.google.com/uc?export=download&id=1cYIq7yZaDRLR46HELaLLKMzqB2SY-DJ0'\n",
    "AS row\n",
    "CREATE (o:Features {name: row.feature}) SET o.id = row.id, o.app = row.app, o.feature = row.feature, o.sentence = row.sentence;"
   ]
  },
  {
   "cell_type": "code",
   "execution_count": 6,
   "metadata": {},
   "outputs": [],
   "source": [
    "for index, row in read_df.iterrows():\n",
    "    session.run(\"MATCH (n:Requirement {id: $id}) SET n.sentence_embedding = $sentence_embedding\", id=row['id'], sentence_embedding=row['sentence_embedding'])"
   ]
  },
  {
   "cell_type": "code",
   "execution_count": 15,
   "metadata": {},
   "outputs": [
    {
     "name": "stdout",
     "output_type": "stream",
     "text": [
      "Organize your store better by creating menu items. Add pages, links, products, categories, and even collections as menu items. Rearrange the existing menus with ease via drag-and-drop. \n",
      "\n",
      "66202056-8904-46c7-a306-09e25d9bec41 Odoo POS Shop Organize your products with hierarchical product categories. Order them by popularity and display different categories at different points of sale. 0.9426832795143127\n",
      "ee70c104-a47e-4640-8aba-ae1cd95933ae POS Connect Inventory is displayed through the web store according to the theme a client has chosen for their store. Inventory can also be organized and searched for by category and department. 0.9280788898468018\n",
      "79fcd750-48a2-4194-b5fb-b243aa8639d6 Odoo Purchase Organize the movement of items between two locations you own. 0.9187054634094238\n",
      "7a5dd008-2209-44d9-a098-96b4f1f81cb6 Odoo POS Shop Find your customers and products with the built-in search features. 0.9182571172714233\n",
      "c8b7e45f-1c36-490f-85ca-8585ea0adbb5 Odoo Inventory Locate products, their storage locations, and quantities from a single dashboard. 0.9162458181381226\n"
     ]
    }
   ],
   "source": [
    "records, summary, key = driver.execute_query(\"\"\"\n",
    "MATCH (n:Features) WHERE n.app <> $app\n",
    "WITH n, vector.similarity.cosine(n.sentence_embedding, $embedding) as score\n",
    "RETURN n.id, n.app, n.sentence, score\n",
    "ORDER BY score DESC LIMIT 5;\n",
    "\"\"\", embedding=read_df['sentence_embedding'][10], app=read_df['app'][10])\n",
    "\n",
    "print(read_df['sentence'][10], '\\n')\n",
    "\n",
    "for row in records:\n",
    "    print(row['n.id'], row['n.app'], row['n.sentence'], row['score'])"
   ]
  },
  {
   "cell_type": "raw",
   "metadata": {
    "vscode": {
     "languageId": "raw"
    }
   },
   "source": [
    "MATCH (p:Features)\n",
    "RETURN gds.graph.project(\n",
    "  'myGraph',\n",
    "  p,\n",
    "  null,\n",
    "  {\n",
    "    sourceNodeProperties: p { .sentence_embedding },\n",
    "    targetNodeProperties: {}\n",
    "  }\n",
    ")"
   ]
  },
  {
   "cell_type": "raw",
   "metadata": {
    "vscode": {
     "languageId": "raw"
    }
   },
   "source": [
    "CALL gds.knn.stream('myGraph1', {\n",
    "    topK: 2,\n",
    "    nodeProperties: ['sentence_embedding'],\n",
    "    randomSeed: 1337,\n",
    "    concurrency: 1,\n",
    "    sampleRate: 1.0,\n",
    "    deltaThreshold: 0.0\n",
    "})\n",
    "YIELD node1, node2, similarity\n",
    "WHERE gds.util.asNode(node1).app <> gds.util.asNode(node2).app\n",
    "RETURN gds.util.asNode(node1).id AS id1, gds.util.asNode(node1).sentence AS Feature1, gds.util.asNode(node2).id AS id2, gds.util.asNode(node2).sentence AS Feature2, similarity\n",
    "ORDER BY similarity DESC"
   ]
  },
  {
   "cell_type": "code",
   "execution_count": 2,
   "metadata": {},
   "outputs": [],
   "source": [
    "import pandas as pd\n",
    "df_dataset = pd.read_csv('data/datasets_all_sentence.csv')"
   ]
  },
  {
   "cell_type": "code",
   "execution_count": 3,
   "metadata": {},
   "outputs": [
    {
     "name": "stderr",
     "output_type": "stream",
     "text": [
      "/Users/fahmisyaifudin/miniconda3/envs/llm/lib/python3.12/site-packages/tqdm/auto.py:21: TqdmWarning: IProgress not found. Please update jupyter and ipywidgets. See https://ipywidgets.readthedocs.io/en/stable/user_install.html\n",
      "  from .autonotebook import tqdm as notebook_tqdm\n",
      "/Users/fahmisyaifudin/miniconda3/envs/llm/lib/python3.12/site-packages/huggingface_hub/file_download.py:1132: FutureWarning: `resume_download` is deprecated and will be removed in version 1.0.0. Downloads always resume when possible. If you want to force a new download, use `force_download=True`.\n",
      "  warnings.warn(\n"
     ]
    }
   ],
   "source": [
    "from sentence_transformers import SentenceTransformer\n",
    "\n",
    "model = SentenceTransformer('all-MiniLM-L6-v2')"
   ]
  },
  {
   "cell_type": "code",
   "execution_count": 5,
   "metadata": {},
   "outputs": [],
   "source": [
    "requirements = df_dataset['sentence'].tolist()\n",
    "requirement_embedding = model.encode(requirements)"
   ]
  },
  {
   "cell_type": "code",
   "execution_count": 8,
   "metadata": {},
   "outputs": [],
   "source": [
    "for index, row in df_dataset.iterrows():\n",
    "    session.run(\"MATCH (n:Requirement {id: $id}) SET n.sbert_embedding = $embedding\", id=row['id'], embedding=requirement_embedding[index])"
   ]
  },
  {
   "cell_type": "code",
   "execution_count": 9,
   "metadata": {},
   "outputs": [],
   "source": [
    "from transformers import BertTokenizer, BertModel\n",
    "\n",
    "tokenizer = BertTokenizer.from_pretrained(\"bert-base-uncased\")\n",
    "model = BertModel.from_pretrained(\"bert-base-uncased\")"
   ]
  },
  {
   "cell_type": "code",
   "execution_count": 10,
   "metadata": {},
   "outputs": [],
   "source": [
    "def bert_embedding(text):\n",
    "    encoded_input = tokenizer(text, return_tensors='pt')\n",
    "    output = model(**encoded_input)\n",
    "    pooler_output = output['pooler_output'][0]\n",
    "    return pooler_output.detach().numpy()"
   ]
  },
  {
   "cell_type": "code",
   "execution_count": 11,
   "metadata": {},
   "outputs": [],
   "source": [
    "for index, row in df_dataset.iterrows():\n",
    "    embedding = bert_embedding(row['sentence'])\n",
    "    session.run(\"MATCH (n:Requirement {id: $id}) SET n.bert_embedding = $embedding\", id=row['id'], embedding=embedding)"
   ]
  },
  {
   "cell_type": "code",
   "execution_count": null,
   "metadata": {},
   "outputs": [],
   "source": []
  }
 ],
 "metadata": {
  "kernelspec": {
   "display_name": "llm",
   "language": "python",
   "name": "python3"
  },
  "language_info": {
   "codemirror_mode": {
    "name": "ipython",
    "version": 3
   },
   "file_extension": ".py",
   "mimetype": "text/x-python",
   "name": "python",
   "nbconvert_exporter": "python",
   "pygments_lexer": "ipython3",
   "version": "3.12.3"
  }
 },
 "nbformat": 4,
 "nbformat_minor": 2
}
