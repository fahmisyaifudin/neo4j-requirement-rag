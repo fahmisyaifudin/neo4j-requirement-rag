{
 "cells": [
  {
   "cell_type": "code",
   "execution_count": 6,
   "metadata": {},
   "outputs": [
    {
     "data": {
      "text/plain": [
       "True"
      ]
     },
     "execution_count": 6,
     "metadata": {},
     "output_type": "execute_result"
    }
   ],
   "source": [
    "import os\n",
    "from dotenv import load_dotenv\n",
    "from langchain_openai import ChatOpenAI\n",
    "from langchain.prompts import ChatPromptTemplate\n",
    "from langchain.chains import SequentialChain, LLMChain\n",
    "\n",
    "load_dotenv()"
   ]
  },
  {
   "cell_type": "code",
   "execution_count": 7,
   "metadata": {},
   "outputs": [
    {
     "name": "stderr",
     "output_type": "stream",
     "text": [
      "/Users/fahmisyaifudin/miniconda3/envs/llm/lib/python3.12/site-packages/langchain_core/_api/deprecation.py:141: LangChainDeprecationWarning: The class `LLMChain` was deprecated in LangChain 0.1.17 and will be removed in 0.3.0. Use RunnableSequence, e.g., `prompt | llm` instead.\n",
      "  warn_deprecated(\n"
     ]
    }
   ],
   "source": [
    "template1 = \"\"\"You are expert software analyst, you can easily split and classify entity from sentence \n",
    "- Categorized as CORE if the entity is a specific feature of software requirement domain, example (system, application, payment, login) \n",
    "- Categorized as USER if the entity is a specific user of the software, example (Admin, developer, Student, customer, buyer, cashier) \n",
    "- Categorized as HARDWARE if the entity is a component of computer hardware, example (Keyboard, mouse, CPU) \n",
    "- Categorized as PLATFORM if the entity is a third party application or software platform, example (Linux, Paypal, eBay, Apache) \n",
    "\n",
    "Given sentence : {sentence}\n",
    "\n",
    "- Output must separated by comma like [entity],[category]\n",
    "- Each line is separated by '\\n'\n",
    "- Don't display anything in the output except the output csv format\n",
    "\n",
    "\"\"\"\n",
    "template2 = \"\"\"From the output of extraction\n",
    "^^^\n",
    "{extraction}\n",
    "^^^\n",
    "extraction format is seperated by comma like [entity],[category]\n",
    "\n",
    "and in context sentence : $$$\n",
    "{sentence}\n",
    "$$$\n",
    "\n",
    "- Generate semantic triple that consist subject, predicate, and object from entities (which is delimited by ^^^)  base on context sentence (which is delimited by $$$) \n",
    "- Output must separated by comma the format is [category]:[entity],[predicate],[category]:[entity]\n",
    "- Each line is separated by '\\n'\n",
    "- Don't display anything in the output except the output csv format\n",
    "\"\"\"\n",
    "\n",
    "\n",
    "prompt1 = ChatPromptTemplate.from_template(template1)\n",
    "prompt2 = ChatPromptTemplate.from_template(template2)\n",
    "\n",
    "model = ChatOpenAI(model=\"gpt-4o-mini\", api_key=os.getenv('OPEN_API_KEY'), temperature=0)\n",
    "\n",
    "chain1 = prompt1 | model\n",
    "chain2 = prompt2 | model\n",
    "\n",
    "chain_one = LLMChain(llm=model, prompt=prompt1, output_key=\"extraction\")\n",
    "chain_two = LLMChain(llm=model, prompt=prompt2, output_key=\"triple\")\n",
    "\n",
    "overal_chain = SequentialChain(\n",
    "    chains=[chain_one, chain_two],\n",
    "    input_variables=[\"sentence\"],\n",
    "    output_variables=[\"extraction\", \"triple\"]\n",
    ")"
   ]
  },
  {
   "cell_type": "code",
   "execution_count": 8,
   "metadata": {},
   "outputs": [],
   "source": [
    "sentence = \"A customer can inspect items online add them to a web cart and can purchase the item. Before paying for an item or adding an item to a web cart, the system checks the current inventory to make sure the item is not out of stock\""
   ]
  },
  {
   "cell_type": "code",
   "execution_count": 9,
   "metadata": {},
   "outputs": [
    {
     "name": "stderr",
     "output_type": "stream",
     "text": [
      "/Users/fahmisyaifudin/miniconda3/envs/llm/lib/python3.12/site-packages/langchain_core/_api/deprecation.py:141: LangChainDeprecationWarning: The method `Chain.__call__` was deprecated in langchain 0.1.0 and will be removed in 0.3.0. Use invoke instead.\n",
      "  warn_deprecated(\n"
     ]
    }
   ],
   "source": [
    "message = overal_chain({\"sentence\": sentence})\n",
    "ner = message['extraction'].split('\\n')\n",
    "triples = message['triple'].split('\\n')"
   ]
  },
  {
   "cell_type": "code",
   "execution_count": 10,
   "metadata": {},
   "outputs": [
    {
     "name": "stdout",
     "output_type": "stream",
     "text": [
      "['CORE:system,checks,CORE:inventory  ', 'USER:customer,inspects,CORE:item  ', 'USER:customer,adds,CORE:web cart  ', 'USER:customer,purchases,CORE:item  ', 'CORE:web cart,contains,CORE:item  ']\n"
     ]
    }
   ],
   "source": [
    "print(triples)"
   ]
  },
  {
   "cell_type": "code",
   "execution_count": 11,
   "metadata": {},
   "outputs": [
    {
     "data": {
      "text/html": [
       "<div>\n",
       "<style scoped>\n",
       "    .dataframe tbody tr th:only-of-type {\n",
       "        vertical-align: middle;\n",
       "    }\n",
       "\n",
       "    .dataframe tbody tr th {\n",
       "        vertical-align: top;\n",
       "    }\n",
       "\n",
       "    .dataframe thead th {\n",
       "        text-align: right;\n",
       "    }\n",
       "</style>\n",
       "<table border=\"1\" class=\"dataframe\">\n",
       "  <thead>\n",
       "    <tr style=\"text-align: right;\">\n",
       "      <th></th>\n",
       "      <th>subject</th>\n",
       "      <th>predicate</th>\n",
       "      <th>object</th>\n",
       "    </tr>\n",
       "  </thead>\n",
       "  <tbody>\n",
       "    <tr>\n",
       "      <th>0</th>\n",
       "      <td>CORE:system</td>\n",
       "      <td>checks</td>\n",
       "      <td>CORE:inventory</td>\n",
       "    </tr>\n",
       "    <tr>\n",
       "      <th>1</th>\n",
       "      <td>USER:customer</td>\n",
       "      <td>inspects</td>\n",
       "      <td>CORE:item</td>\n",
       "    </tr>\n",
       "    <tr>\n",
       "      <th>2</th>\n",
       "      <td>USER:customer</td>\n",
       "      <td>adds</td>\n",
       "      <td>CORE:web cart</td>\n",
       "    </tr>\n",
       "    <tr>\n",
       "      <th>3</th>\n",
       "      <td>USER:customer</td>\n",
       "      <td>purchases</td>\n",
       "      <td>CORE:item</td>\n",
       "    </tr>\n",
       "    <tr>\n",
       "      <th>4</th>\n",
       "      <td>CORE:web cart</td>\n",
       "      <td>contains</td>\n",
       "      <td>CORE:item</td>\n",
       "    </tr>\n",
       "  </tbody>\n",
       "</table>\n",
       "</div>"
      ],
      "text/plain": [
       "         subject  predicate            object\n",
       "0    CORE:system     checks  CORE:inventory  \n",
       "1  USER:customer   inspects       CORE:item  \n",
       "2  USER:customer       adds   CORE:web cart  \n",
       "3  USER:customer  purchases       CORE:item  \n",
       "4  CORE:web cart   contains       CORE:item  "
      ]
     },
     "execution_count": 11,
     "metadata": {},
     "output_type": "execute_result"
    }
   ],
   "source": [
    "import pandas as pd\n",
    "\n",
    "split_data = [item.split(',') for item in triples]\n",
    "df = pd.DataFrame(split_data, columns=['subject', 'predicate', 'object'])\n",
    "df"
   ]
  },
  {
   "cell_type": "code",
   "execution_count": 81,
   "metadata": {},
   "outputs": [],
   "source": [
    "def find_inverse_key(obj, key):\n",
    "    return next((k for k, v in obj.items() if v == key), None)\n",
    "\n",
    "def triplet_unique_flatten(data):\n",
    "    flattened_unique = []\n",
    "    for triplet in data:\n",
    "        for element in triplet:\n",
    "            if element not in flattened_unique:\n",
    "                flattened_unique.append(element)\n",
    "    return flattened_unique\n",
    "\n",
    "def df_map_to_cql(df):\n",
    "    entities = []\n",
    "    for index, row in df.iterrows():\n",
    "        if (row['subject'] in entities) == False:\n",
    "            entities.append(row['subject'].strip())\n",
    "        if (row['object'] in entities) == False:\n",
    "            entities.append(row['object'].strip())\n",
    "    verbObj = {}\n",
    "    for index, row in df.iterrows():\n",
    "        verbObj[row['predicate'].strip()] = f'r{index}'\n",
    "\n",
    "    init = 'a'\n",
    "    entityObj = {}\n",
    "    for i in range(len(entities)):\n",
    "        char = chr(ord(init) + i)\n",
    "        entityObj[entities[i]] = char\n",
    "\n",
    "    xyz = []\n",
    "    for _, row in df.iterrows():\n",
    "        subjek = entityObj[row['subject'].strip()]\n",
    "        objek = entityObj[row['object'].strip()]\n",
    "        predicate = verbObj[row['predicate'].strip()]\n",
    "        xyz.append([subjek, predicate, objek])\n",
    "    return xyz, entityObj, verbObj\n",
    "\n",
    "def arr_map_to_cql(arr, flattenArr):\n",
    "    cql_string = \"\"\n",
    "    for i in range(len(arr)):\n",
    "        cql_string += f\"MATCH ({arr[i][0]})-[{arr[i][1]}:RELATED_TO]->({arr[i][2]}) \\n\"\n",
    "    cql_string += \"WITH \"\n",
    "    for i in range(len(flattenArr)):\n",
    "        cql_string += f\"vector.similarity.cosine({flattenArr[i]}.embedding, $embed_{flattenArr[i]}) as score_{flattenArr[i]}, \"\n",
    "    cql_string += \"a.id as id, a.feature as feature, a.app as app \\n RETURN id, feature, app, (\"\n",
    "    for i in range(len(flattenArr)):\n",
    "        cql_string += f\"score_{flattenArr[i]}+\"\n",
    "    cql_string = cql_string[:-1]\n",
    "    cql_string += f\")/{len(flattenArr)} as score ORDER BY score DESC LIMIT 10\"\n",
    "    return cql_string\n"
   ]
  },
  {
   "cell_type": "markdown",
   "metadata": {},
   "source": [
    "MATCH (n)-[r:RELATED_TO]->(m)\n",
    "WITH n.name as subject, m.name as object, r.type as verb, n.app as app, n.feature as feature, vector.similarity.cosine(n.embedding, $embed_one) as subjectScore, \n",
    "    vector.similarity.cosine(m.embedding, $embed_two) as objectScore,\n",
    "     vector.similarity.cosine(r.embedding, $embed_verb) as verbScore\n",
    "RETURN subject, object, verb, app, feature, ((subjectScore * 0.5) + (objectScore * 0.3) + (verbScore * 0.2)) as score\n",
    "ORDER BY score DESC LIMIT 10\n",
    "\n",
    "MATCH (n {name: \"real-time statistics\"})-[r:RELATED_TO {type: \"provide\"}]->(p {name: \"data\"})\n",
    "MATCH (x {name: \"data\"})-[r2:RELATED_TO {type: \"is consolidated across\" }]->(y {name: \"shops\"})\n",
    "return *"
   ]
  },
  {
   "cell_type": "code",
   "execution_count": 82,
   "metadata": {},
   "outputs": [
    {
     "data": {
      "text/plain": [
       "'MATCH (a)-[r0:RELATED_TO]->(b) \\nMATCH (c)-[r1:RELATED_TO]->(g) \\nMATCH (c)-[r2:RELATED_TO]->(e) \\nMATCH (c)-[r3:RELATED_TO]->(g) \\nMATCH (e)-[r4:RELATED_TO]->(g) \\nWITH vector.similarity.cosine(a.embedding, $embed_a) as score_a, vector.similarity.cosine(r0.embedding, $embed_r0) as score_r0, vector.similarity.cosine(b.embedding, $embed_b) as score_b, vector.similarity.cosine(c.embedding, $embed_c) as score_c, vector.similarity.cosine(r1.embedding, $embed_r1) as score_r1, vector.similarity.cosine(g.embedding, $embed_g) as score_g, vector.similarity.cosine(r2.embedding, $embed_r2) as score_r2, vector.similarity.cosine(e.embedding, $embed_e) as score_e, vector.similarity.cosine(r3.embedding, $embed_r3) as score_r3, vector.similarity.cosine(r4.embedding, $embed_r4) as score_r4, a.id as id, a.feature as feature, a.app as app \\n RETURN id, feature, app, (score_a+score_r0+score_b+score_c+score_r1+score_g+score_r2+score_e+score_r3+score_r4)/10 as score ORDER BY score DESC LIMIT 10'"
      ]
     },
     "execution_count": 82,
     "metadata": {},
     "output_type": "execute_result"
    }
   ],
   "source": [
    "mapTriplet, entityObj, verbObj = df_map_to_cql(df)\n",
    "flatten = triplet_unique_flatten(mapTriplet)\n",
    "cql_string = arr_map_to_cql(mapTriplet, flatten)\n",
    "cql_string"
   ]
  },
  {
   "cell_type": "markdown",
   "metadata": {},
   "source": [
    "MATCH (a)-[r0:RELATED_TO]->(b)\n",
    "MATCH (c)-[r1:RELATED_TO]->(g)\n",
    "MATCH (c)-[r2:RELATED_TO]->(e)\n",
    "MATCH (c)-[r3:RELATED_TO]->(g)\n",
    "MATCH (e)-[r4:RELATED_TO]->(g)\n",
    "WITH vector.similarity.cosine(a.embedding, $embed_a) as score_a, vector.similarity.cosine(r0.embedding, $embed_r0) as score_r0, vector.similarity.cosine(b.embedding, $embed_b) as score_b, vector.similarity.cosine(c.embedding, $embed_c) as score_c, vector.similarity.cosine(r1.embedding, $embed_r1) as score_r1, vector.similarity.cosine(g.embedding, $embed_g) as score_g, vector.similarity.cosine(r2.embedding, $embed_r2) as score_r2, vector.similarity.cosine(e.embedding, $embed_e) as score_e, vector.similarity.cosine(r3.embedding, $embed_r3) as score_r3, vector.similarity.cosine(r4.embedding, $embed_r4) as score_r4, a.id as id, a.feature as feature, a.app as app\n",
    "RETURN id, feature, app, (score_a+score_r0+score_b+score_c+score_r1+score_g+score_r2+score_e+score_r3+score_r4)/10 as score ORDER BY score DESC LIMIT 10"
   ]
  },
  {
   "cell_type": "code",
   "execution_count": 83,
   "metadata": {},
   "outputs": [],
   "source": [
    "from transformers import BertTokenizer, BertModel\n",
    "tokenizer = BertTokenizer.from_pretrained('bert-base-uncased')\n",
    "model = BertModel.from_pretrained(\"bert-base-uncased\")"
   ]
  },
  {
   "cell_type": "code",
   "execution_count": 84,
   "metadata": {},
   "outputs": [],
   "source": [
    "def bert_embedding(text):\n",
    "    encoded_input = tokenizer(text, return_tensors='pt')\n",
    "    output = model(**encoded_input)\n",
    "    pooler_output = output['pooler_output'][0]\n",
    "    return pooler_output.detach().numpy()"
   ]
  },
  {
   "cell_type": "code",
   "execution_count": 85,
   "metadata": {},
   "outputs": [],
   "source": [
    "embedding = {}\n",
    "for i in range(len(flatten)):\n",
    "    if flatten[i][0] == 'r':\n",
    "        verb = find_inverse_key(verbObj, flatten[i])\n",
    "        embedding[f\"embed_{flatten[i]}\"] = bert_embedding(verb)\n",
    "    else:\n",
    "        raw = find_inverse_key(entityObj, flatten[i])\n",
    "        category, entity = raw.split(':')\n",
    "        embedding[f\"embed_{flatten[i]}\"] = bert_embedding(entity)"
   ]
  },
  {
   "cell_type": "code",
   "execution_count": 86,
   "metadata": {},
   "outputs": [],
   "source": [
    "import neo4j\n",
    "\n",
    "host = \"localhost\"\n",
    "username = \"neo4j\"\n",
    "password = \"1234qwer\"\n",
    "\n",
    "driver = neo4j.GraphDatabase.driver(f'bolt://localhost:7687', auth=(username, password))\n",
    "session = driver.session()"
   ]
  },
  {
   "cell_type": "code",
   "execution_count": 87,
   "metadata": {},
   "outputs": [
    {
     "name": "stdout",
     "output_type": "stream",
     "text": [
      "e612c4fa-4e7e-4fcf-96f3-d9f57abc0ea1 Online Sales POS Connect 0.9983813345432282\n",
      "6d0c8b9e-9a9a-4d53-b40b-23fed2c39c0b Conflict Resolution POS Connect 0.9976717293262481\n",
      "e8937dda-8bac-42e3-a343-9c5b7f14cbe5 Client Account POS Connect 0.9975002527236938\n",
      "e8937dda-8bac-42e3-a343-9c5b7f14cbe5 Client Account POS Connect 0.9972433149814606\n",
      "1ae14148-d054-4533-81d0-f5c33fc93898 Pricing Features Discounts Odoo POS 0.9968249917030334\n",
      "877c1ca4-6795-4e61-821e-2822db5bc1f0 Inventory Management POS Connect 0.9967495918273925\n",
      "54bec78a-5b57-45eb-b0c2-715cfb9bc165 Windows Service POS Connect 0.9967009127140045\n",
      "ecdf70b7-2462-476f-aec0-91e57cf603e2 Windows Service POS Connect 0.9967009127140045\n",
      "877c1ca4-6795-4e61-821e-2822db5bc1f0 Inventory Management POS Connect 0.9966874957084656\n",
      "ecdf70b7-2462-476f-aec0-91e57cf603e2 Windows Service POS Connect 0.9965225160121918\n"
     ]
    }
   ],
   "source": [
    "records, summary, key = driver.execute_query(cql_string, embedding)\n",
    "\n",
    "for row in records:\n",
    "    print(row['id'], row['feature'], row['app'], row['score'])"
   ]
  },
  {
   "cell_type": "code",
   "execution_count": null,
   "metadata": {},
   "outputs": [],
   "source": []
  }
 ],
 "metadata": {
  "kernelspec": {
   "display_name": "llm",
   "language": "python",
   "name": "python3"
  },
  "language_info": {
   "codemirror_mode": {
    "name": "ipython",
    "version": 3
   },
   "file_extension": ".py",
   "mimetype": "text/x-python",
   "name": "python",
   "nbconvert_exporter": "python",
   "pygments_lexer": "ipython3",
   "version": "3.12.3"
  }
 },
 "nbformat": 4,
 "nbformat_minor": 2
}
