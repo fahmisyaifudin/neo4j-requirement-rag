{
 "cells": [
  {
   "cell_type": "code",
   "execution_count": 5,
   "metadata": {},
   "outputs": [
    {
     "name": "stderr",
     "output_type": "stream",
     "text": [
      "Failed to write data to connection IPv4Address(('localhost', 7687)) (ResolvedIPv4Address(('127.0.0.1', 7687)))\n"
     ]
    }
   ],
   "source": [
    "import neo4j\n",
    "\n",
    "host = \"localhost\"\n",
    "username = \"neo4j\"\n",
    "password = \"1234qwer\"\n",
    "\n",
    "# driver = neo4j.GraphDatabase.driver(\"neo4j://100.27.33.222:7687\",\n",
    "#   auth=neo4j.basic_auth(\"neo4j\", \"price-oxygens-scores\")\n",
    "# )\n",
    "driver = neo4j.GraphDatabase.driver(f'bolt://localhost:7687', auth=(username, password))\n",
    "session = driver.session()\n",
    "\n",
    "def create_graph(query):\n",
    "    session.run(query)"
   ]
  },
  {
   "cell_type": "code",
   "execution_count": 11,
   "metadata": {},
   "outputs": [
    {
     "name": "stderr",
     "output_type": "stream",
     "text": [
      "[nltk_data] Downloading package punkt to\n",
      "[nltk_data]     /Users/fahmisyaifudin/nltk_data...\n",
      "[nltk_data]   Package punkt is already up-to-date!\n",
      "[nltk_data] Downloading package stopwords to\n",
      "[nltk_data]     /Users/fahmisyaifudin/nltk_data...\n",
      "[nltk_data]   Package stopwords is already up-to-date!\n"
     ]
    }
   ],
   "source": [
    "import nltk\n",
    "import string\n",
    "from nltk.tokenize import word_tokenize\n",
    "from nltk.corpus import stopwords\n",
    "from nltk.stem import PorterStemmer\n",
    "from nltk.stem import WordNetLemmatizer\n",
    "\n",
    "# Download required NLTK data\n",
    "nltk.download('punkt')\n",
    "nltk.download('stopwords')\n",
    "\n",
    "def preprocess_text(text, remove_stopwords=True, stem=False, lemmatize=True):\n",
    "    \"\"\"\n",
    "    Preprocess text by applying various NLP techniques\n",
    "    \"\"\"\n",
    "    # Convert to lowercase\n",
    "    text = text.lower()\n",
    "    \n",
    "    # Remove punctuation\n",
    "    text = text.translate(str.maketrans(\"\", \"\", string.punctuation))\n",
    "    \n",
    "    # Remove numbers\n",
    "    text = ''.join(char for char in text if not char.isdigit())\n",
    "    \n",
    "    # Tokenization\n",
    "    tokens = word_tokenize(text)\n",
    "    \n",
    "    # Remove stopwords\n",
    "    if remove_stopwords:\n",
    "        stop_words = set(stopwords.words('english'))\n",
    "        tokens = [token for token in tokens if token not in stop_words]\n",
    "    \n",
    "    # Join tokens back into text\n",
    "    processed_text = ' '.join(tokens)\n",
    "    \n",
    "    return processed_text"
   ]
  },
  {
   "cell_type": "code",
   "execution_count": 12,
   "metadata": {},
   "outputs": [],
   "source": [
    "records, summary, key = driver.execute_query(\"\"\"\n",
    "MATCH (n:CORE|VERB|HARDWARE|USER|PLATFORM) RETURN n.name\"\"\")\n",
    "origin_entities = []\n",
    "for record in records:\n",
    "    name = record['n.name']\n",
    "    origin_entities.append(name)"
   ]
  },
  {
   "cell_type": "code",
   "execution_count": 13,
   "metadata": {},
   "outputs": [],
   "source": [
    "clean_entities = [preprocess_text(entity.strip()) for entity in origin_entities]"
   ]
  },
  {
   "cell_type": "code",
   "execution_count": 14,
   "metadata": {},
   "outputs": [],
   "source": [
    "import pandas as pd\n",
    "\n",
    "df_combined = pd.DataFrame({\n",
    "    'entity1': origin_entities,\n",
    "    'entity2': clean_entities\n",
    "})"
   ]
  },
  {
   "cell_type": "code",
   "execution_count": 15,
   "metadata": {},
   "outputs": [],
   "source": [
    "for index, row in df_combined.iterrows():\n",
    "    session.run(\"\"\"MATCH (n:CORE|VERB|USER|PLATFORM|HARDWARE {name: $entity1}) SET n.name = $entity2\"\"\", entity1=row['entity1'], entity2=row['entity2'])"
   ]
  },
  {
   "cell_type": "code",
   "execution_count": 2,
   "metadata": {},
   "outputs": [
    {
     "name": "stderr",
     "output_type": "stream",
     "text": [
      "/Users/fahmisyaifudin/miniconda3/envs/llm/lib/python3.12/site-packages/tqdm/auto.py:21: TqdmWarning: IProgress not found. Please update jupyter and ipywidgets. See https://ipywidgets.readthedocs.io/en/stable/user_install.html\n",
      "  from .autonotebook import tqdm as notebook_tqdm\n"
     ]
    }
   ],
   "source": [
    "\n",
    "from sentence_transformers import SentenceTransformer\n",
    "from transformers import BertTokenizer, BertModel\n",
    "\n",
    "tokenizer = BertTokenizer.from_pretrained('bert-base-uncased')\n",
    "model = BertModel.from_pretrained(\"bert-base-uncased\")\n",
    "\n",
    "def sentence_transformer_embedding(text):\n",
    "    model = SentenceTransformer('sentence-transformers/all-MiniLM-L6-v2')\n",
    "    embeddings = model.encode(text)\n",
    "    return embeddings\n",
    "\n",
    "def bert_embedding(text):\n",
    "    encoded_input = tokenizer(text, return_tensors='pt')\n",
    "    output = model(**encoded_input)\n",
    "    pooler_output = output['pooler_output'][0]\n",
    "    return pooler_output.detach().numpy()"
   ]
  },
  {
   "cell_type": "code",
   "execution_count": 20,
   "metadata": {},
   "outputs": [],
   "source": [
    "records, summary, key = driver.execute_query(\"\"\"\n",
    "MATCH (n:CORE|VERB|USER|PLATFORM|HARDWARE) WHERE n.name = '' RETURN DISTINCT n.name\"\"\")\n",
    "entities = []\n",
    "for record in records:\n",
    "    name = record['n.name']\n",
    "    entities.append(name)\n",
    "\n",
    "#embedding = sentence_transformer_embedding(entities)"
   ]
  },
  {
   "cell_type": "code",
   "execution_count": 21,
   "metadata": {},
   "outputs": [],
   "source": [
    "for i in range(len(entities)):\n",
    "    try:\n",
    "        embedding = bert_embedding(name)\n",
    "        session.run(f\"\"\"\n",
    "        MATCH (n:CORE|VERB|USER|PLATFORM|HARDWARE {{name: '{name}'}})\n",
    "        SET n.bert_embedding = $embedding\n",
    "        \"\"\", embedding=embedding)\n",
    "    except Exception as e:\n",
    "        print(f\"Error processing entity {name}: {str(e)}\")"
   ]
  },
  {
   "cell_type": "code",
   "execution_count": 59,
   "metadata": {},
   "outputs": [
    {
     "data": {
      "text/plain": [
       "<neo4j._sync.work.result.Result at 0x175cd6030>"
      ]
     },
     "execution_count": 59,
     "metadata": {},
     "output_type": "execute_result"
    }
   ],
   "source": [
    "session.run(\"\"\" \n",
    "MATCH (source:HARDWARE)\n",
    "RETURN gds.graph.project(\n",
    "  'newHardwareGraph',\n",
    "  source,\n",
    "  null,\n",
    "  {\n",
    "    sourceNodeProperties: source { .sbert_embedding },\n",
    "    targetNodeProperties: {}\n",
    "  },\n",
    "  { undirectedRelationshipTypes: ['*'] }\n",
    ")\n",
    "\"\"\")"
   ]
  },
  {
   "cell_type": "code",
   "execution_count": 60,
   "metadata": {},
   "outputs": [],
   "source": [
    "import pandas as pd\n",
    "\n",
    "entities = []\n",
    "records, summary, key = driver.execute_query(\"\"\"\n",
    "CALL gds.knn.stream('newHardwareGraph', {\n",
    "    topK: 5,\n",
    "    nodeProperties: ['sbert_embedding'],\n",
    "    randomSeed: 1337,\n",
    "    concurrency: 1,\n",
    "    sampleRate: 1.0,\n",
    "    deltaThreshold: 0.0\n",
    "})\n",
    "YIELD node1, node2, similarity\n",
    "RETURN gds.util.asNode(node1).name AS Req1, gds.util.asNode(node2).name AS Req2, similarity\n",
    "ORDER BY similarity DESCENDING, Req1, Req2\"\"\")\n",
    "for record in records:\n",
    "    entities.append({\"entity1\": record['Req1'], \"entity2\": record['Req2'], \"similarity\": record['similarity']})\n",
    "df_entity = pd.DataFrame(entities)"
   ]
  },
  {
   "cell_type": "code",
   "execution_count": 61,
   "metadata": {},
   "outputs": [],
   "source": [
    "df_entity.to_csv(\"output/entity_resolution/hardware_1.csv\", index=False)"
   ]
  },
  {
   "cell_type": "code",
   "execution_count": 62,
   "metadata": {},
   "outputs": [],
   "source": [
    "df_entity = pd.read_csv(\"output/entity_resolution/hardware_1.csv\")"
   ]
  },
  {
   "cell_type": "code",
   "execution_count": 63,
   "metadata": {},
   "outputs": [],
   "source": [
    "for index, row in df_entity.iterrows():\n",
    "    session.run(\"\"\"\n",
    "MATCH (old:HARDWARE {name: $entity1})\n",
    "MATCH (new:HARDWARE {name: $entity2})\n",
    "\n",
    "WITH old, new\n",
    "MATCH (old)<-[:CONTAINS]-(target)\n",
    "MERGE (new)<-[:CONTAINS]-(target)\n",
    "                \n",
    "WITH old, new\n",
    "MATCH (old)-[:RELATED_TO]->(target)\n",
    "MERGE (new)-[:RELATED_TO]->(target)\n",
    "\n",
    "WITH old, new\n",
    "MATCH (source)-[:RELATED_TO]->(old)\n",
    "MERGE (source)-[:RELATED_TO]->(new)\n",
    "\n",
    "WITH old, new\n",
    "DETACH DELETE old\n",
    "    \"\"\", entity1=row['entity1'], entity2=row['entity2'])"
   ]
  },
  {
   "cell_type": "code",
   "execution_count": 7,
   "metadata": {},
   "outputs": [],
   "source": [
    "from openai import OpenAI\n",
    "from dotenv import load_dotenv\n",
    "load_dotenv()\n",
    "\n",
    "client = OpenAI()\n",
    "\n",
    "def get_embedding(text, model=\"text-embedding-ada-002\"):\n",
    "   text = text.replace(\"\\n\", \" \")\n",
    "   return client.embeddings.create(input = [text], model=model).data[0].embedding"
   ]
  },
  {
   "cell_type": "code",
   "execution_count": null,
   "metadata": {},
   "outputs": [],
   "source": [
    "record, summary, key = driver.execute_query(f\"\"\"\n",
    "    MATCH (n:CORE|VERB|USER|PLATFORM|HARDWARE)\n",
    "    RETURN DISTINCT(name) as name\n",
    "    \"\"\")"
   ]
  },
  {
   "cell_type": "code",
   "execution_count": null,
   "metadata": {},
   "outputs": [],
   "source": [
    "for i in range(len(entities)):\n",
    "    name = entities[i]\n",
    "    session.run(f\"\"\"\n",
    "    MATCH (n:CORE|VERB|USER|PLATFORM|HARDWARE {{name: '{name}'}})\n",
    "    SET n.embedding = $embedding\n",
    "    \"\"\", embedding=embedding[i])"
   ]
  }
 ],
 "metadata": {
  "kernelspec": {
   "display_name": "llm",
   "language": "python",
   "name": "python3"
  },
  "language_info": {
   "codemirror_mode": {
    "name": "ipython",
    "version": 3
   },
   "file_extension": ".py",
   "mimetype": "text/x-python",
   "name": "python",
   "nbconvert_exporter": "python",
   "pygments_lexer": "ipython3",
   "version": "3.12.3"
  }
 },
 "nbformat": 4,
 "nbformat_minor": 2
}
