{
 "cells": [
  {
   "cell_type": "code",
   "execution_count": null,
   "metadata": {},
   "outputs": [],
   "source": []
  },
  {
   "cell_type": "code",
   "execution_count": 6,
   "metadata": {},
   "outputs": [],
   "source": [
    "from transformers import BertTokenizer, BertModel\n",
    "tokenizer = BertTokenizer.from_pretrained('bert-base-uncased')\n",
    "model = BertModel.from_pretrained(\"bert-base-uncased\")"
   ]
  },
  {
   "cell_type": "code",
   "execution_count": 7,
   "metadata": {},
   "outputs": [],
   "source": [
    "def bert_embedding(text):\n",
    "    encoded_input = tokenizer(text, return_tensors='pt')\n",
    "    output = model(**encoded_input)\n",
    "    pooler_output = output['pooler_output'][0]\n",
    "    return pooler_output.detach().numpy()"
   ]
  },
  {
   "cell_type": "code",
   "execution_count": 8,
   "metadata": {},
   "outputs": [],
   "source": [
    "embed1 = bert_embedding('barcode scanner')\n",
    "embed_verb = bert_embedding('scan')\n",
    "embed2 = bert_embedding('product')"
   ]
  },
  {
   "cell_type": "code",
   "execution_count": 9,
   "metadata": {},
   "outputs": [],
   "source": [
    "import neo4j\n",
    "\n",
    "host = \"localhost\"\n",
    "username = \"neo4j\"\n",
    "password = \"1234qwer\"\n",
    "\n",
    "driver = neo4j.GraphDatabase.driver(f'bolt://localhost:7687', auth=(username, password))\n",
    "session = driver.session()"
   ]
  },
  {
   "cell_type": "code",
   "execution_count": 10,
   "metadata": {},
   "outputs": [
    {
     "name": "stdout",
     "output_type": "stream",
     "text": [
      "discount tags are used for product 0.9948160847028097\n",
      "product set allows products 0.9939572215080261\n",
      "payment process is more efficient 0.9932372172673544\n",
      "fiscal positions enables rules 0.9926049510637919\n",
      "Odoo Point of Sale allows Multi Employees per Session 0.992323080698649\n"
     ]
    }
   ],
   "source": [
    "records, summary, key = driver.execute_query(\"\"\"\n",
    "MATCH (n:Entity)-[r:RELATED_TO]->(m:Entity)\n",
    "WITH n.name as subject, m.name as object, r.type as verb, vector.similarity.cosine(n.embedding, $embed_one) as subjectScore, \n",
    "    vector.similarity.cosine(m.embedding, $embed_two) as objectScore,\n",
    "    vector.similarity.cosine(r.embedding, $embed_verb) as verbScore\n",
    "RETURN subject, object, verb, (subjectScore + objectScore + verbScore) / 3 as score\n",
    "ORDER BY score DESC LIMIT 5\n",
    "\"\"\", embed_one=embed1, embed_two=embed2, embed_verb=embed_verb)\n",
    "\n",
    "for row in records:\n",
    "    print(row['subject'], row['verb'], row['object'], row['score'])"
   ]
  },
  {
   "cell_type": "code",
   "execution_count": null,
   "metadata": {},
   "outputs": [],
   "source": []
  }
 ],
 "metadata": {
  "kernelspec": {
   "display_name": "llm",
   "language": "python",
   "name": "python3"
  },
  "language_info": {
   "codemirror_mode": {
    "name": "ipython",
    "version": 3
   },
   "file_extension": ".py",
   "mimetype": "text/x-python",
   "name": "python",
   "nbconvert_exporter": "python",
   "pygments_lexer": "ipython3",
   "version": "3.12.3"
  }
 },
 "nbformat": 4,
 "nbformat_minor": 2
}
