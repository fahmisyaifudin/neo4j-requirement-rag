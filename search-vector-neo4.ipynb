{
 "cells": [
  {
   "cell_type": "code",
   "execution_count": 1,
   "metadata": {},
   "outputs": [
    {
     "name": "stderr",
     "output_type": "stream",
     "text": [
      "/Users/fahmisyaifudin/miniconda3/envs/llm/lib/python3.12/site-packages/tqdm/auto.py:21: TqdmWarning: IProgress not found. Please update jupyter and ipywidgets. See https://ipywidgets.readthedocs.io/en/stable/user_install.html\n",
      "  from .autonotebook import tqdm as notebook_tqdm\n"
     ]
    }
   ],
   "source": [
    "from transformers import BertTokenizer, BertModel\n",
    "tokenizer = BertTokenizer.from_pretrained('bert-base-uncased')\n",
    "model = BertModel.from_pretrained(\"bert-base-uncased\")"
   ]
  },
  {
   "cell_type": "code",
   "execution_count": 2,
   "metadata": {},
   "outputs": [],
   "source": [
    "def bert_embedding(text):\n",
    "    encoded_input = tokenizer(text, return_tensors='pt')\n",
    "    output = model(**encoded_input)\n",
    "    pooler_output = output['pooler_output'][0]\n",
    "    return pooler_output.detach().numpy()"
   ]
  },
  {
   "cell_type": "code",
   "execution_count": 15,
   "metadata": {},
   "outputs": [],
   "source": [
    "embed1 = bert_embedding('barcode scanner')\n",
    "embed_verb = bert_embedding('scan')\n",
    "embed2 = bert_embedding('product')"
   ]
  },
  {
   "cell_type": "code",
   "execution_count": 16,
   "metadata": {},
   "outputs": [],
   "source": [
    "import neo4j\n",
    "\n",
    "host = \"localhost\"\n",
    "username = \"neo4j\"\n",
    "password = \"1234qwer\"\n",
    "\n",
    "driver = neo4j.GraphDatabase.driver(f'bolt://localhost:7687', auth=(username, password))\n",
    "session = driver.session()"
   ]
  },
  {
   "cell_type": "code",
   "execution_count": 17,
   "metadata": {},
   "outputs": [
    {
     "name": "stdout",
     "output_type": "stream",
     "text": [
      "inventory database has product 0.9966325044631958 POS Connect\n",
      "discount tags are used for product 0.9955235838890076 Odoo POS\n",
      "virtual web cart contains items 0.994790369272232 POS Connect\n",
      "product information include pictures 0.9941840946674347 POS Connect\n",
      "online inventory sync sync 0.9936092615127563 POS Connect\n",
      "payment process is more efficient 0.9932812809944154 Odoo POS\n",
      "Electronic shelf labels remove the need to print labels 0.9931538224220275 Odoo POS\n",
      "downloadable windows service package handles communications 0.9920973062515259 POS Connect\n",
      "product set allows products 0.9920451462268829 Odoo POS\n",
      "Odoo Point of Sale allows Multi Employees per Session 0.9918312549591064 Odoo POS\n"
     ]
    }
   ],
   "source": [
    "records, summary, key = driver.execute_query(\"\"\"\n",
    "MATCH (n)-[r:RELATED_TO]->(m)\n",
    "WITH n.name as subject, m.name as object, r.type as verb, n.app as app, n.feature as feature, vector.similarity.cosine(n.embedding, $embed_one) as subjectScore, \n",
    "    vector.similarity.cosine(m.embedding, $embed_two) as objectScore,\n",
    "    vector.similarity.cosine(r.embedding, $embed_verb) as verbScore\n",
    "RETURN subject, object, verb, app, feature, ((subjectScore * 0.5) + (objectScore * 0.3) + (verbScore * 0.2)) as score\n",
    "ORDER BY score DESC LIMIT 10\n",
    "\"\"\", embed_one=embed1, embed_two=embed2, embed_verb=embed_verb)\n",
    "\n",
    "for row in records:\n",
    "    print(row['subject'], row['verb'], row['object'], row['score'], row['app'])"
   ]
  },
  {
   "cell_type": "code",
   "execution_count": null,
   "metadata": {},
   "outputs": [],
   "source": []
  }
 ],
 "metadata": {
  "kernelspec": {
   "display_name": "llm",
   "language": "python",
   "name": "python3"
  },
  "language_info": {
   "codemirror_mode": {
    "name": "ipython",
    "version": 3
   },
   "file_extension": ".py",
   "mimetype": "text/x-python",
   "name": "python",
   "nbconvert_exporter": "python",
   "pygments_lexer": "ipython3",
   "version": "3.12.3"
  }
 },
 "nbformat": 4,
 "nbformat_minor": 2
}
