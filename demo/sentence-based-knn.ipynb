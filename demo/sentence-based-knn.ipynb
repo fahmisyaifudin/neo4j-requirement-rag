{
 "cells": [
  {
   "cell_type": "code",
   "execution_count": 1,
   "metadata": {},
   "outputs": [],
   "source": [
    "import neo4j\n",
    "\n",
    "host = \"localhost\"\n",
    "username = \"neo4j\"\n",
    "password = \"1234qwer\"\n",
    "\n",
    "\n",
    "driver = neo4j.GraphDatabase.driver(f'bolt://localhost:7687', auth=(username, password))\n",
    "session = driver.session()\n",
    "\n",
    "def create_graph(query):\n",
    "    session.run(query)"
   ]
  },
  {
   "cell_type": "code",
   "execution_count": 2,
   "metadata": {},
   "outputs": [
    {
     "name": "stderr",
     "output_type": "stream",
     "text": [
      "/Users/fahmisyaifudin/miniconda3/envs/llm/lib/python3.12/site-packages/tqdm/auto.py:21: TqdmWarning: IProgress not found. Please update jupyter and ipywidgets. See https://ipywidgets.readthedocs.io/en/stable/user_install.html\n",
      "  from .autonotebook import tqdm as notebook_tqdm\n"
     ]
    }
   ],
   "source": [
    "from sentence_transformers import SentenceTransformer\n",
    "\n",
    "def sentence_transformer_embedding(text):\n",
    "    model = SentenceTransformer('sentence-transformers/all-MiniLM-L6-v2')\n",
    "    embeddings = model.encode(text)\n",
    "    return embeddings"
   ]
  },
  {
   "cell_type": "code",
   "execution_count": 3,
   "metadata": {},
   "outputs": [],
   "source": [
    "from openai import OpenAI\n",
    "from dotenv import load_dotenv\n",
    "load_dotenv()\n",
    "\n",
    "client = OpenAI()\n",
    "\n",
    "def get_embedding(text, model=\"text-embedding-ada-002\"):\n",
    "   text = text.replace(\"\\n\", \" \")\n",
    "   return client.embeddings.create(input = [text], model=model).data[0].embedding"
   ]
  },
  {
   "cell_type": "code",
   "execution_count": 4,
   "metadata": {},
   "outputs": [
    {
     "data": {
      "text/plain": [
       "<neo4j._sync.work.result.Result at 0x10aa8d610>"
      ]
     },
     "execution_count": 4,
     "metadata": {},
     "output_type": "execute_result"
    }
   ],
   "source": [
    "session.run(\"\"\"\n",
    "MATCH (p:Requirement)\n",
    "RETURN gds.graph.project(\n",
    "  'requirementGraph',\n",
    "  p,\n",
    "  null,\n",
    "  {\n",
    "    sourceNodeProperties: p { .sentence_embedding },\n",
    "    targetNodeProperties: {}\n",
    "  }\n",
    ")\n",
    "\"\"\")"
   ]
  },
  {
   "cell_type": "code",
   "execution_count": 5,
   "metadata": {},
   "outputs": [],
   "source": [
    "import pandas as pd\n",
    "\n",
    "entities = []\n",
    "records, summary, key = driver.execute_query(\"\"\"\n",
    "CALL gds.knn.stream('requirementGraph', {\n",
    "    topK: 2,\n",
    "    nodeProperties: { sentence_embedding: 'EUCLIDEAN'},\n",
    "    randomSeed: 1337,\n",
    "    concurrency: 1,\n",
    "    sampleRate: 1.0,\n",
    "    deltaThreshold: 0.0\n",
    "})\n",
    "YIELD node1, node2, similarity\n",
    "WHERE gds.util.asNode(node1).app <> gds.util.asNode(node2).app\n",
    "RETURN gds.util.asNode(node1).app AS app1, gds.util.asNode(node1).sentence AS Req1, gds.util.asNode(node2).app AS app2, gds.util.asNode(node2).sentence AS Req2, similarity\n",
    "ORDER BY similarity DESC\n",
    "\"\"\")\n",
    "\n",
    "for record in records:\n",
    "    entities.append({\"app1\": record['app1'], \"entity1\": record['Req1'], \"app2\": record['app2'], \"entity2\": record['Req2'], \"similarity\": record['similarity']})\n",
    "df_entity = pd.DataFrame(entities)"
   ]
  },
  {
   "cell_type": "code",
   "execution_count": 6,
   "metadata": {},
   "outputs": [
    {
     "data": {
      "text/html": [
       "<div>\n",
       "<style scoped>\n",
       "    .dataframe tbody tr th:only-of-type {\n",
       "        vertical-align: middle;\n",
       "    }\n",
       "\n",
       "    .dataframe tbody tr th {\n",
       "        vertical-align: top;\n",
       "    }\n",
       "\n",
       "    .dataframe thead th {\n",
       "        text-align: right;\n",
       "    }\n",
       "</style>\n",
       "<table border=\"1\" class=\"dataframe\">\n",
       "  <thead>\n",
       "    <tr style=\"text-align: right;\">\n",
       "      <th></th>\n",
       "      <th>app1</th>\n",
       "      <th>entity1</th>\n",
       "      <th>app2</th>\n",
       "      <th>entity2</th>\n",
       "      <th>similarity</th>\n",
       "    </tr>\n",
       "  </thead>\n",
       "  <tbody>\n",
       "    <tr>\n",
       "      <th>0</th>\n",
       "      <td>Odoo Purchase</td>\n",
       "      <td>Use predefined dashboards or build your own wi...</td>\n",
       "      <td>Odoo CRM</td>\n",
       "      <td>Use predefined dashboards or build your own wi...</td>\n",
       "      <td>0.894105</td>\n",
       "    </tr>\n",
       "    <tr>\n",
       "      <th>1</th>\n",
       "      <td>Odoo CRM</td>\n",
       "      <td>Use predefined dashboards or build your own wi...</td>\n",
       "      <td>Odoo Purchase</td>\n",
       "      <td>Use predefined dashboards or build your own wi...</td>\n",
       "      <td>0.894105</td>\n",
       "    </tr>\n",
       "    <tr>\n",
       "      <th>2</th>\n",
       "      <td>Odoo Sales</td>\n",
       "      <td>Add product variants to your sales orders usin...</td>\n",
       "      <td>Odoo Purchase</td>\n",
       "      <td>Add product variants to your purchase orders w...</td>\n",
       "      <td>0.845759</td>\n",
       "    </tr>\n",
       "    <tr>\n",
       "      <th>3</th>\n",
       "      <td>Odoo Purchase</td>\n",
       "      <td>Add product variants to your purchase orders w...</td>\n",
       "      <td>Odoo Sales</td>\n",
       "      <td>Add product variants to your sales orders usin...</td>\n",
       "      <td>0.845759</td>\n",
       "    </tr>\n",
       "    <tr>\n",
       "      <th>4</th>\n",
       "      <td>Odoo Sales</td>\n",
       "      <td>Follow key quotations and business opportuniti...</td>\n",
       "      <td>Odoo CRM</td>\n",
       "      <td>Follow key opportunities in just a click and g...</td>\n",
       "      <td>0.746597</td>\n",
       "    </tr>\n",
       "    <tr>\n",
       "      <th>5</th>\n",
       "      <td>Odoo CRM</td>\n",
       "      <td>Follow key opportunities in just a click and g...</td>\n",
       "      <td>Odoo Sales</td>\n",
       "      <td>Follow key quotations and business opportuniti...</td>\n",
       "      <td>0.746597</td>\n",
       "    </tr>\n",
       "    <tr>\n",
       "      <th>6</th>\n",
       "      <td>Softeng POS</td>\n",
       "      <td>The system must update the backend inventory s...</td>\n",
       "      <td>SCATS</td>\n",
       "      <td>After the sale is completed, the system must u...</td>\n",
       "      <td>0.726185</td>\n",
       "    </tr>\n",
       "    <tr>\n",
       "      <th>7</th>\n",
       "      <td>SCATS</td>\n",
       "      <td>After the sale is completed, the system must u...</td>\n",
       "      <td>Softeng POS</td>\n",
       "      <td>The system must update the backend inventory s...</td>\n",
       "      <td>0.726185</td>\n",
       "    </tr>\n",
       "    <tr>\n",
       "      <th>8</th>\n",
       "      <td>Odoo Sales</td>\n",
       "      <td>Compute shipping costs based on multiple varia...</td>\n",
       "      <td>Odoo Inventory</td>\n",
       "      <td>Integrate with third-party shipping carriers t...</td>\n",
       "      <td>0.725947</td>\n",
       "    </tr>\n",
       "    <tr>\n",
       "      <th>9</th>\n",
       "      <td>Odoo Inventory</td>\n",
       "      <td>Integrate with third-party shipping carriers t...</td>\n",
       "      <td>Odoo Sales</td>\n",
       "      <td>Compute shipping costs based on multiple varia...</td>\n",
       "      <td>0.725947</td>\n",
       "    </tr>\n",
       "  </tbody>\n",
       "</table>\n",
       "</div>"
      ],
      "text/plain": [
       "             app1                                            entity1  \\\n",
       "0   Odoo Purchase  Use predefined dashboards or build your own wi...   \n",
       "1        Odoo CRM  Use predefined dashboards or build your own wi...   \n",
       "2      Odoo Sales  Add product variants to your sales orders usin...   \n",
       "3   Odoo Purchase  Add product variants to your purchase orders w...   \n",
       "4      Odoo Sales  Follow key quotations and business opportuniti...   \n",
       "5        Odoo CRM  Follow key opportunities in just a click and g...   \n",
       "6     Softeng POS  The system must update the backend inventory s...   \n",
       "7           SCATS  After the sale is completed, the system must u...   \n",
       "8      Odoo Sales  Compute shipping costs based on multiple varia...   \n",
       "9  Odoo Inventory  Integrate with third-party shipping carriers t...   \n",
       "\n",
       "             app2                                            entity2  \\\n",
       "0        Odoo CRM  Use predefined dashboards or build your own wi...   \n",
       "1   Odoo Purchase  Use predefined dashboards or build your own wi...   \n",
       "2   Odoo Purchase  Add product variants to your purchase orders w...   \n",
       "3      Odoo Sales  Add product variants to your sales orders usin...   \n",
       "4        Odoo CRM  Follow key opportunities in just a click and g...   \n",
       "5      Odoo Sales  Follow key quotations and business opportuniti...   \n",
       "6           SCATS  After the sale is completed, the system must u...   \n",
       "7     Softeng POS  The system must update the backend inventory s...   \n",
       "8  Odoo Inventory  Integrate with third-party shipping carriers t...   \n",
       "9      Odoo Sales  Compute shipping costs based on multiple varia...   \n",
       "\n",
       "   similarity  \n",
       "0    0.894105  \n",
       "1    0.894105  \n",
       "2    0.845759  \n",
       "3    0.845759  \n",
       "4    0.746597  \n",
       "5    0.746597  \n",
       "6    0.726185  \n",
       "7    0.726185  \n",
       "8    0.725947  \n",
       "9    0.725947  "
      ]
     },
     "execution_count": 6,
     "metadata": {},
     "output_type": "execute_result"
    }
   ],
   "source": [
    "df_entity[:10]"
   ]
  },
  {
   "cell_type": "code",
   "execution_count": null,
   "metadata": {},
   "outputs": [],
   "source": []
  }
 ],
 "metadata": {
  "kernelspec": {
   "display_name": "llm",
   "language": "python",
   "name": "python3"
  },
  "language_info": {
   "codemirror_mode": {
    "name": "ipython",
    "version": 3
   },
   "file_extension": ".py",
   "mimetype": "text/x-python",
   "name": "python",
   "nbconvert_exporter": "python",
   "pygments_lexer": "ipython3",
   "version": "3.12.3"
  }
 },
 "nbformat": 4,
 "nbformat_minor": 2
}
