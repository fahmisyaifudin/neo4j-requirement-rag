{
 "cells": [
  {
   "cell_type": "code",
   "execution_count": 1,
   "metadata": {},
   "outputs": [],
   "source": [
    "import neo4j\n",
    "\n",
    "host = \"localhost\"\n",
    "username = \"neo4j\"\n",
    "password = \"1234qwer\"\n",
    "\n",
    "\n",
    "driver = neo4j.GraphDatabase.driver(f'bolt://localhost:7687', auth=(username, password))\n",
    "session = driver.session()\n",
    "\n",
    "def create_graph(query):\n",
    "    session.run(query)"
   ]
  },
  {
   "cell_type": "code",
   "execution_count": 21,
   "metadata": {},
   "outputs": [],
   "source": [
    "source = \"df5449c3-bc39-4a3f-9d0f-8a0ba90d1f7c\"\n",
    "sentence = \"Monitor your stock in real-time, manage your inventory across all locations\"\n",
    "\n",
    "records, summary, key  = driver.execute_query(\"\"\"\n",
    "    MATCH (req:Requirement) WHERE req.id = $id\n",
    "    WITH req\n",
    "    MATCH (target:Requirement) WHERE target.id <> $id\n",
    "    WITH target, vector.similarity.cosine(target.`fastrp-embedding`, req.`fastrp-embedding`) as score\n",
    "    RETURN target.id as id, target.app as app, target.sentence as sentence, score ORDER BY score DESC LIMIT 5\"\"\", id=source)\n",
    "\n",
    "result = []\n",
    "for record in records:\n",
    "    result.append({\"app\": record['app'], \"sentence\": record['sentence'], \"score\": record['score']})"
   ]
  },
  {
   "cell_type": "code",
   "execution_count": 22,
   "metadata": {},
   "outputs": [],
   "source": [
    "import pandas as pd\n",
    "\n",
    "df_result = pd.DataFrame(result)"
   ]
  },
  {
   "cell_type": "code",
   "execution_count": 23,
   "metadata": {},
   "outputs": [
    {
     "data": {
      "text/html": [
       "<div>\n",
       "<style scoped>\n",
       "    .dataframe tbody tr th:only-of-type {\n",
       "        vertical-align: middle;\n",
       "    }\n",
       "\n",
       "    .dataframe tbody tr th {\n",
       "        vertical-align: top;\n",
       "    }\n",
       "\n",
       "    .dataframe thead th {\n",
       "        text-align: right;\n",
       "    }\n",
       "</style>\n",
       "<table border=\"1\" class=\"dataframe\">\n",
       "  <thead>\n",
       "    <tr style=\"text-align: right;\">\n",
       "      <th></th>\n",
       "      <th>app</th>\n",
       "      <th>sentence</th>\n",
       "      <th>score</th>\n",
       "    </tr>\n",
       "  </thead>\n",
       "  <tbody>\n",
       "    <tr>\n",
       "      <th>0</th>\n",
       "      <td>Odoo Inventory</td>\n",
       "      <td>Monitor how long items have been in the wareho...</td>\n",
       "      <td>0.725182</td>\n",
       "    </tr>\n",
       "    <tr>\n",
       "      <th>1</th>\n",
       "      <td>Odoo Sales</td>\n",
       "      <td>Configure Odoo Sales to automatically display ...</td>\n",
       "      <td>0.686429</td>\n",
       "    </tr>\n",
       "    <tr>\n",
       "      <th>2</th>\n",
       "      <td>SMS</td>\n",
       "      <td>The system shall provide the functionality to ...</td>\n",
       "      <td>0.644496</td>\n",
       "    </tr>\n",
       "    <tr>\n",
       "      <th>3</th>\n",
       "      <td>SIMS</td>\n",
       "      <td>The system must provide a report that displays...</td>\n",
       "      <td>0.636702</td>\n",
       "    </tr>\n",
       "    <tr>\n",
       "      <th>4</th>\n",
       "      <td>Odoo Purchase</td>\n",
       "      <td>Keep track of stock, incoming orders and produ...</td>\n",
       "      <td>0.615479</td>\n",
       "    </tr>\n",
       "  </tbody>\n",
       "</table>\n",
       "</div>"
      ],
      "text/plain": [
       "              app                                           sentence     score\n",
       "0  Odoo Inventory  Monitor how long items have been in the wareho...  0.725182\n",
       "1      Odoo Sales  Configure Odoo Sales to automatically display ...  0.686429\n",
       "2             SMS  The system shall provide the functionality to ...  0.644496\n",
       "3            SIMS  The system must provide a report that displays...  0.636702\n",
       "4   Odoo Purchase  Keep track of stock, incoming orders and produ...  0.615479"
      ]
     },
     "execution_count": 23,
     "metadata": {},
     "output_type": "execute_result"
    }
   ],
   "source": [
    "df_result[:5]"
   ]
  },
  {
   "cell_type": "code",
   "execution_count": 33,
   "metadata": {},
   "outputs": [],
   "source": [
    "subject1 = \"system\"\n",
    "predicate1 = \"monitor\"\n",
    "object1 = \"stock\"\n",
    "\n",
    "subject2 = \"system\"\n",
    "predicate2 = \"manage\"\n",
    "object2 = \"inventory\"\n",
    "\n",
    "uid = \"a2608049-76a7-40c4-8ad6-6b922dbe2cc6\""
   ]
  },
  {
   "cell_type": "code",
   "execution_count": 37,
   "metadata": {},
   "outputs": [],
   "source": [
    "from sentence_transformers import SentenceTransformer\n",
    "\n",
    "def sentence_transformer_embedding(text):\n",
    "    model = SentenceTransformer('sentence-transformers/all-MiniLM-L6-v2')\n",
    "    embeddings = model.encode(text)\n",
    "    return embeddings"
   ]
  },
  {
   "cell_type": "code",
   "execution_count": 34,
   "metadata": {},
   "outputs": [],
   "source": [
    "cql_query = \"MERGE (req:Requirement {id: '\" + uid +\"', app: 'Demo'}) \\n\"\n",
    "cql_query += f\"MERGE (s1:CORE\" + \" {name: '\" + subject1 + \"'}) \\n\"\n",
    "cql_query += f\"MERGE (p1:VERB\" + \" {name: '\" + predicate1 + \"'}) \\n\"\n",
    "cql_query += f\"MERGE (o1:CORE\" + \" {name: '\" + object1 + \"'}) \\n\"\n",
    "\n",
    "cql_query += f\"MERGE (s2:CORE\" + \" {name: '\" + subject2 + \"'}) \\n\"\n",
    "cql_query += f\"MERGE (p2:VERB\" + \" {name: '\" + predicate2 + \"'}) \\n\"\n",
    "cql_query += f\"MERGE (o2:CORE\" + \" {name: '\" + object2 + \"'}) \\n\"\n",
    "\n",
    "cql_query += f\"MERGE (s1)-[:RELATED_TO]->(p1)-[:RELATED_TO]->(o1) \\n\"\n",
    "cql_query += f\"MERGE (s2)-[:RELATED_TO]->(p2)-[:RELATED_TO]->(o2) \\n\"\n",
    "\n",
    "cql_query += f\"MERGE (req)-[:CONTAINS]->(s1) \\n\"\n",
    "cql_query += f\"MERGE (req)-[:CONTAINS]->(p1) \\n\"\n",
    "cql_query += f\"MERGE (req)-[:CONTAINS]->(o1) \\n\"\n",
    "\n",
    "cql_query += f\"MERGE (req)-[:CONTAINS]->(s2) \\n\"\n",
    "cql_query += f\"MERGE (req)-[:CONTAINS]->(p2) \\n\"\n",
    "cql_query += f\"MERGE (req)-[:CONTAINS]->(o2) \\n\""
   ]
  },
  {
   "cell_type": "code",
   "execution_count": 35,
   "metadata": {},
   "outputs": [
    {
     "data": {
      "text/plain": [
       "<neo4j._sync.work.result.Result at 0x2b68deb70>"
      ]
     },
     "execution_count": 35,
     "metadata": {},
     "output_type": "execute_result"
    }
   ],
   "source": [
    "session.run(cql_query)"
   ]
  },
  {
   "cell_type": "code",
   "execution_count": 39,
   "metadata": {},
   "outputs": [],
   "source": [
    "records, summary, key = driver.execute_query(\"MATCH(n:CORE|USER|PLATFORM|HARDWARE|VERB) WHERE n.id = $id return n.name\", id=uid)\n",
    "for record in records:\n",
    "    embedding = sentence_transformer_embedding(record['n.name'])\n",
    "    session.run(\"MATCH (n {name: $name}) WHERE n.embedding is null SET n.embedding = $embedding\", name=record['e.name'], embedding=embedding)"
   ]
  },
  {
   "cell_type": "raw",
   "metadata": {},
   "source": [
    "MATCH (n:Requirement {id: 'a2608049-76a7-40c4-8ad6-6b922dbe2cc6'})-[r:CONTAINS]->(p) return n, p"
   ]
  },
  {
   "cell_type": "code",
   "execution_count": 47,
   "metadata": {},
   "outputs": [
    {
     "data": {
      "text/plain": [
       "<neo4j._sync.work.result.Result at 0x2b8b223f0>"
      ]
     },
     "execution_count": 47,
     "metadata": {},
     "output_type": "execute_result"
    }
   ],
   "source": [
    "session.run(\"\"\"\n",
    "MATCH (source:Requirement)-[:CONTAINS]->(target:CORE|VERB|USER|PLATFORM|HARDWARE)\n",
    "RETURN gds.graph.project(\n",
    "  'myGraph7',\n",
    "  source,\n",
    "  target,\n",
    "  {\n",
    "    sourceNodeProperties: {},\n",
    "    targetNodeProperties: target { .embedding }\n",
    "  },\n",
    "  { undirectedRelationshipTypes: ['*'] }\n",
    ")\n",
    "\"\"\")"
   ]
  },
  {
   "cell_type": "code",
   "execution_count": 48,
   "metadata": {},
   "outputs": [
    {
     "data": {
      "text/plain": [
       "<neo4j._sync.work.result.Result at 0x2b8c0b560>"
      ]
     },
     "execution_count": 48,
     "metadata": {},
     "output_type": "execute_result"
    }
   ],
   "source": [
    "session.run(\"\"\"\n",
    "CALL gds.fastRP.write('myGraph7',\n",
    "  {\n",
    "    embeddingDimension: 768,\n",
    "    writeProperty: 'graph-fastrp-embedding'\n",
    "  }\n",
    ")\n",
    "YIELD nodePropertiesWritten\n",
    "\"\"\")"
   ]
  },
  {
   "cell_type": "code",
   "execution_count": 49,
   "metadata": {},
   "outputs": [],
   "source": [
    "records, summary, key  = driver.execute_query(\"\"\"\n",
    "    MATCH (req:Requirement) WHERE req.id = $id\n",
    "    WITH req\n",
    "    MATCH (target:Requirement) WHERE target.id <> $id\n",
    "    WITH target, vector.similarity.cosine(target.`graph-fastrp-embedding`, req.`graph-fastrp-embedding`) as score\n",
    "    RETURN target.id as id, target.app as app, target.sentence as sentence, score ORDER BY score DESC LIMIT 5\"\"\", id=uid)\n",
    "\n",
    "result = []\n",
    "for record in records:\n",
    "    result.append({\"app\": record['app'], \"sentence\": record['sentence'], \"score\": record['score']})"
   ]
  },
  {
   "cell_type": "code",
   "execution_count": 50,
   "metadata": {},
   "outputs": [
    {
     "data": {
      "text/html": [
       "<div>\n",
       "<style scoped>\n",
       "    .dataframe tbody tr th:only-of-type {\n",
       "        vertical-align: middle;\n",
       "    }\n",
       "\n",
       "    .dataframe tbody tr th {\n",
       "        vertical-align: top;\n",
       "    }\n",
       "\n",
       "    .dataframe thead th {\n",
       "        text-align: right;\n",
       "    }\n",
       "</style>\n",
       "<table border=\"1\" class=\"dataframe\">\n",
       "  <thead>\n",
       "    <tr style=\"text-align: right;\">\n",
       "      <th></th>\n",
       "      <th>app</th>\n",
       "      <th>sentence</th>\n",
       "      <th>score</th>\n",
       "    </tr>\n",
       "  </thead>\n",
       "  <tbody>\n",
       "    <tr>\n",
       "      <th>0</th>\n",
       "      <td>SMS</td>\n",
       "      <td>The system shall update the stock to reflect t...</td>\n",
       "      <td>0.667610</td>\n",
       "    </tr>\n",
       "    <tr>\n",
       "      <th>1</th>\n",
       "      <td>SMS</td>\n",
       "      <td>The system shall enable the Sales Assistant to...</td>\n",
       "      <td>0.661088</td>\n",
       "    </tr>\n",
       "    <tr>\n",
       "      <th>2</th>\n",
       "      <td>SCATS</td>\n",
       "      <td>The system must allow the Sales Manager to rev...</td>\n",
       "      <td>0.656658</td>\n",
       "    </tr>\n",
       "    <tr>\n",
       "      <th>3</th>\n",
       "      <td>SCATS</td>\n",
       "      <td>If the \"Total Largest Revenue\" option is selec...</td>\n",
       "      <td>0.652254</td>\n",
       "    </tr>\n",
       "    <tr>\n",
       "      <th>4</th>\n",
       "      <td>SCATS</td>\n",
       "      <td>After the sale is completed, the system must u...</td>\n",
       "      <td>0.652246</td>\n",
       "    </tr>\n",
       "  </tbody>\n",
       "</table>\n",
       "</div>"
      ],
      "text/plain": [
       "     app                                           sentence     score\n",
       "0    SMS  The system shall update the stock to reflect t...  0.667610\n",
       "1    SMS  The system shall enable the Sales Assistant to...  0.661088\n",
       "2  SCATS  The system must allow the Sales Manager to rev...  0.656658\n",
       "3  SCATS  If the \"Total Largest Revenue\" option is selec...  0.652254\n",
       "4  SCATS  After the sale is completed, the system must u...  0.652246"
      ]
     },
     "execution_count": 50,
     "metadata": {},
     "output_type": "execute_result"
    }
   ],
   "source": [
    "df_result = pd.DataFrame(result)\n",
    "df_result[:5]"
   ]
  },
  {
   "cell_type": "code",
   "execution_count": null,
   "metadata": {},
   "outputs": [],
   "source": []
  }
 ],
 "metadata": {
  "kernelspec": {
   "display_name": "llm",
   "language": "python",
   "name": "python3"
  },
  "language_info": {
   "codemirror_mode": {
    "name": "ipython",
    "version": 3
   },
   "file_extension": ".py",
   "mimetype": "text/x-python",
   "name": "python",
   "nbconvert_exporter": "python",
   "pygments_lexer": "ipython3",
   "version": "3.12.3"
  }
 },
 "nbformat": 4,
 "nbformat_minor": 2
}
