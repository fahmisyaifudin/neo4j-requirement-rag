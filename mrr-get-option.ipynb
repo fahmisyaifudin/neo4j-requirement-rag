{
 "cells": [
  {
   "cell_type": "code",
   "execution_count": 1,
   "metadata": {},
   "outputs": [],
   "source": [
    "import neo4j\n",
    "\n",
    "host = \"localhost\"\n",
    "username = \"neo4j\"\n",
    "password = \"1234qwer\"\n",
    "\n",
    "driver = neo4j.GraphDatabase.driver(f'bolt://localhost:7687', auth=(username, password))\n",
    "session = driver.session()\n",
    "\n",
    "def create_graph(query):\n",
    "    session.run(query)"
   ]
  },
  {
   "cell_type": "code",
   "execution_count": 21,
   "metadata": {},
   "outputs": [],
   "source": [
    "import psycopg2\n",
    "\n",
    "pg_host = \"localhost\"\n",
    "pg_database = \"graph\"\n",
    "pg_user = \"postgres\"\n",
    "pg_password = \"postgres\"\n",
    "\n",
    "# Establish PostgreSQL connection\n",
    "pg_conn = psycopg2.connect(\n",
    "    host=pg_host,\n",
    "    database=pg_database,\n",
    "    user=pg_user,\n",
    "    password=pg_password\n",
    ")\n",
    "pg_cursor = pg_conn.cursor()"
   ]
  },
  {
   "cell_type": "code",
   "execution_count": 22,
   "metadata": {},
   "outputs": [],
   "source": [
    "# Example: Select data\n",
    "select_query = \"SELECT distinct(source_id) FROM result_llm WHERE method = 'EUCLIDEAN'\"\n",
    "pg_cursor.execute(select_query)\n",
    "results = pg_cursor.fetchall()\n",
    "source_llm = []\n",
    "for row in results:\n",
    "    source_llm.append(row[0])"
   ]
  },
  {
   "cell_type": "code",
   "execution_count": 23,
   "metadata": {},
   "outputs": [],
   "source": [
    "for i in range(len(source_llm)):\n",
    "    records, summary, key  = driver.execute_query(\"\"\"\n",
    "    MATCH (req:Requirement) WHERE req.id = $id\n",
    "    WITH req\n",
    "    MATCH (target:Requirement) WHERE target.id <> $id\n",
    "    WITH target, vector.similarity.euclidean(target.sentence_embedding, req.sentence_embedding) as score\n",
    "    RETURN target.id as id, score ORDER BY score DESC LIMIT 5\"\"\", id=source_llm[i])\n",
    "    insert_query = \"\"\"\n",
    "        INSERT INTO result_option_llm (source_id, option_id, similarity, method) \n",
    "        VALUES (%s, %s, %s, %s)\n",
    "    \"\"\"\n",
    "    for record in records:\n",
    "        pg_cursor.execute(insert_query, (source_llm[i], record['id'], record['score'], 'EUCLIDEAN'))\n",
    "        pg_conn.commit()"
   ]
  },
  {
   "cell_type": "code",
   "execution_count": 14,
   "metadata": {},
   "outputs": [],
   "source": [
    "# Example: Select data\n",
    "select_query = \"SELECT distinct(source_id) FROM result_graph WHERE method = 'EUCLIDEAN'\"\n",
    "pg_cursor.execute(select_query)\n",
    "results = pg_cursor.fetchall()\n",
    "source_graph = []\n",
    "for row in results:\n",
    "    source_graph.append(row[0])"
   ]
  },
  {
   "cell_type": "code",
   "execution_count": 15,
   "metadata": {},
   "outputs": [],
   "source": [
    "for i in range(len(source_graph)):\n",
    "    records, summary, key  = driver.execute_query(\"\"\"\n",
    "    MATCH (req:Requirement) WHERE req.id = $id\n",
    "    WITH req\n",
    "    MATCH (target:Requirement) WHERE target.id <> $id\n",
    "    WITH target, vector.similarity.cosine(target.`fastrp-embedding`, req.`fastrp-embedding`) as score\n",
    "    RETURN target.id as id, score ORDER BY score DESC LIMIT 5\"\"\", id=source_graph[i])\n",
    "    insert_query = \"\"\"\n",
    "        INSERT INTO result_option_graph (source_id, option_id, similarity, method) \n",
    "        VALUES (%s, %s, %s, %s)\n",
    "    \"\"\"\n",
    "    for record in records:\n",
    "        pg_cursor.execute(insert_query, (source_graph[i], record['id'], record['score'], 'EUCLIDEAN'))\n",
    "        pg_conn.commit()"
   ]
  },
  {
   "cell_type": "code",
   "execution_count": null,
   "metadata": {},
   "outputs": [],
   "source": []
  }
 ],
 "metadata": {
  "kernelspec": {
   "display_name": "llm",
   "language": "python",
   "name": "python3"
  },
  "language_info": {
   "codemirror_mode": {
    "name": "ipython",
    "version": 3
   },
   "file_extension": ".py",
   "mimetype": "text/x-python",
   "name": "python",
   "nbconvert_exporter": "python",
   "pygments_lexer": "ipython3",
   "version": "3.12.3"
  }
 },
 "nbformat": 4,
 "nbformat_minor": 2
}
