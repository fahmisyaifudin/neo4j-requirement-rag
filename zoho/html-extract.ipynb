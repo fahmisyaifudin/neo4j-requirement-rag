{
 "cells": [
  {
   "cell_type": "code",
   "execution_count": 1,
   "metadata": {},
   "outputs": [],
   "source": [
    "from bs4 import BeautifulSoup\n",
    "import pandas as pd"
   ]
  },
  {
   "cell_type": "code",
   "execution_count": 6,
   "metadata": {},
   "outputs": [],
   "source": [
    "import uuid\n",
    "with open('features.html', 'r') as file:\n",
    "    soup = BeautifulSoup(file, 'html.parser')\n",
    "\n",
    "    block_cont = soup.find_all('div', class_='block-cont')\n",
    "    features = [div.find('h2').text.replace('\\n', '').strip() for div in block_cont if div.find('h2') is not None]\n",
    "    sentences = [div.find('p').text.replace('\\n', '').strip() for div in block_cont if div.find('p') is not None]\n",
    "    id = [str(uuid.uuid4()) for _ in range(len(block_cont))]\n",
    "    "
   ]
  },
  {
   "cell_type": "code",
   "execution_count": 7,
   "metadata": {},
   "outputs": [
    {
     "data": {
      "text/html": [
       "<div>\n",
       "<style scoped>\n",
       "    .dataframe tbody tr th:only-of-type {\n",
       "        vertical-align: middle;\n",
       "    }\n",
       "\n",
       "    .dataframe tbody tr th {\n",
       "        vertical-align: top;\n",
       "    }\n",
       "\n",
       "    .dataframe thead th {\n",
       "        text-align: right;\n",
       "    }\n",
       "</style>\n",
       "<table border=\"1\" class=\"dataframe\">\n",
       "  <thead>\n",
       "    <tr style=\"text-align: right;\">\n",
       "      <th></th>\n",
       "      <th>id</th>\n",
       "      <th>feature</th>\n",
       "      <th>sentence</th>\n",
       "    </tr>\n",
       "  </thead>\n",
       "  <tbody>\n",
       "    <tr>\n",
       "      <th>0</th>\n",
       "      <td>2a0aa188-eb8d-4913-91ab-603bc54ac0af</td>\n",
       "      <td>Win trust          with site security</td>\n",
       "      <td>Secure your customer's confidential data such ...</td>\n",
       "    </tr>\n",
       "    <tr>\n",
       "      <th>1</th>\n",
       "      <td>7974edd7-e1de-4fbb-a792-b6b9458e89e0</td>\n",
       "      <td>Take your site live instantly</td>\n",
       "      <td>Whether you want to get a free subdomain from ...</td>\n",
       "    </tr>\n",
       "    <tr>\n",
       "      <th>2</th>\n",
       "      <td>7b27f169-ed55-4575-88a6-bbf99bf48168</td>\n",
       "      <td>Hosting &amp; storage built-in</td>\n",
       "      <td>Keep your website up and running all the time....</td>\n",
       "    </tr>\n",
       "    <tr>\n",
       "      <th>3</th>\n",
       "      <td>dd2aee3e-1f21-4ed5-b78b-f54c1534979d</td>\n",
       "      <td>Customizable layouts</td>\n",
       "      <td>Zoho Commerce has plenty of customizable layou...</td>\n",
       "    </tr>\n",
       "    <tr>\n",
       "      <th>4</th>\n",
       "      <td>01be1e05-bd55-4d02-a24c-3ca84e5b8a2d</td>\n",
       "      <td>Designed for          every industry</td>\n",
       "      <td>Whether you run a Health &amp; Beauty, Fashion &amp; C...</td>\n",
       "    </tr>\n",
       "  </tbody>\n",
       "</table>\n",
       "</div>"
      ],
      "text/plain": [
       "                                     id  \\\n",
       "0  2a0aa188-eb8d-4913-91ab-603bc54ac0af   \n",
       "1  7974edd7-e1de-4fbb-a792-b6b9458e89e0   \n",
       "2  7b27f169-ed55-4575-88a6-bbf99bf48168   \n",
       "3  dd2aee3e-1f21-4ed5-b78b-f54c1534979d   \n",
       "4  01be1e05-bd55-4d02-a24c-3ca84e5b8a2d   \n",
       "\n",
       "                                 feature  \\\n",
       "0  Win trust          with site security   \n",
       "1          Take your site live instantly   \n",
       "2             Hosting & storage built-in   \n",
       "3                   Customizable layouts   \n",
       "4   Designed for          every industry   \n",
       "\n",
       "                                            sentence  \n",
       "0  Secure your customer's confidential data such ...  \n",
       "1  Whether you want to get a free subdomain from ...  \n",
       "2  Keep your website up and running all the time....  \n",
       "3  Zoho Commerce has plenty of customizable layou...  \n",
       "4  Whether you run a Health & Beauty, Fashion & C...  "
      ]
     },
     "execution_count": 7,
     "metadata": {},
     "output_type": "execute_result"
    }
   ],
   "source": [
    "df = pd.DataFrame({\n",
    "    'id': id,\n",
    "    'feature': features,\n",
    "    'sentence': sentences\n",
    "})\n",
    "\n",
    "df.head()"
   ]
  },
  {
   "cell_type": "code",
   "execution_count": 8,
   "metadata": {},
   "outputs": [],
   "source": [
    "df.to_csv('../data/zoho-commerce-datasets.csv', index=False)"
   ]
  },
  {
   "cell_type": "code",
   "execution_count": null,
   "metadata": {},
   "outputs": [],
   "source": []
  }
 ],
 "metadata": {
  "kernelspec": {
   "display_name": "llm",
   "language": "python",
   "name": "python3"
  },
  "language_info": {
   "codemirror_mode": {
    "name": "ipython",
    "version": 3
   },
   "file_extension": ".py",
   "mimetype": "text/x-python",
   "name": "python",
   "nbconvert_exporter": "python",
   "pygments_lexer": "ipython3",
   "version": "3.12.3"
  }
 },
 "nbformat": 4,
 "nbformat_minor": 2
}
