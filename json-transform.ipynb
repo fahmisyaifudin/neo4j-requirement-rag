{
 "cells": [
  {
   "cell_type": "code",
   "execution_count": 3,
   "metadata": {},
   "outputs": [
    {
     "name": "stdout",
     "output_type": "stream",
     "text": [
      "Converted JSON saved to data/labeling/mrr-graph-output.json\n"
     ]
    }
   ],
   "source": [
    "import json\n",
    "\n",
    "def convert_option_to_array(input_file, output_file):\n",
    "    # Read the JSON file\n",
    "    with open(input_file, 'r') as file:\n",
    "        data = json.load(file)\n",
    "    \n",
    "    # Process each item in the data\n",
    "    for item in data:\n",
    "        # Check if 'option' is a string\n",
    "        if isinstance(item.get('option'), str):\n",
    "            try:\n",
    "                # Parse the string as JSON\n",
    "                parsed_option = json.loads(item['option'])\n",
    "                \n",
    "                # Ensure it's converted to a list if it's not already\n",
    "                item['option'] = parsed_option if isinstance(parsed_option, list) else [parsed_option]\n",
    "            except json.JSONDecodeError:\n",
    "                # If parsing fails, keep the original value or set to an empty list\n",
    "                item['option'] = []\n",
    "    \n",
    "    # Write the modified data back to a new JSON file\n",
    "    with open(output_file, 'w') as file:\n",
    "        json.dump(data, file, indent=2)\n",
    "    \n",
    "    print(f\"Converted JSON saved to {output_file}\")\n",
    "\n",
    "# Example usage\n",
    "input_file = 'data/labeling/mrr-graph.json'\n",
    "output_file = 'data/labeling/mrr-graph-output.json'\n",
    "\n",
    "\n",
    "convert_option_to_array(input_file, output_file)"
   ]
  },
  {
   "cell_type": "code",
   "execution_count": 4,
   "metadata": {},
   "outputs": [
    {
     "name": "stdout",
     "output_type": "stream",
     "text": [
      "Created data/labeling/llm/llm_1.json with 10 elements\n",
      "Created data/labeling/llm/llm_2.json with 10 elements\n",
      "Created data/labeling/llm/llm_3.json with 10 elements\n",
      "Created data/labeling/llm/llm_4.json with 10 elements\n",
      "Created data/labeling/llm/llm_5.json with 10 elements\n",
      "Created data/labeling/llm/llm_6.json with 10 elements\n",
      "Created data/labeling/llm/llm_7.json with 10 elements\n",
      "Created data/labeling/llm/llm_8.json with 10 elements\n",
      "Created data/labeling/llm/llm_9.json with 10 elements\n",
      "Created data/labeling/llm/llm_10.json with 10 elements\n",
      "Created data/labeling/llm/llm_11.json with 10 elements\n",
      "Created data/labeling/llm/llm_12.json with 10 elements\n",
      "Created data/labeling/llm/llm_13.json with 10 elements\n",
      "Created data/labeling/llm/llm_14.json with 10 elements\n",
      "Created data/labeling/llm/llm_15.json with 10 elements\n",
      "Created data/labeling/llm/llm_16.json with 10 elements\n",
      "Created data/labeling/llm/llm_17.json with 10 elements\n",
      "Created data/labeling/llm/llm_18.json with 10 elements\n",
      "Created data/labeling/llm/llm_19.json with 10 elements\n",
      "Created data/labeling/llm/llm_20.json with 10 elements\n",
      "Created data/labeling/llm/llm_21.json with 4 elements\n"
     ]
    }
   ],
   "source": [
    "import json\n",
    "import os\n",
    "\n",
    "def split_json_file(input_file, output_dir='data/labeling/llm', chunk_size=10):\n",
    "    \"\"\"\n",
    "    Split a JSON file into multiple files, each containing 10 elements.\n",
    "    \n",
    "    :param input_file: Path to the input JSON file\n",
    "    :param output_dir: Directory to save split files (default: 'split_json_files')\n",
    "    :param chunk_size: Number of elements per output file (default: 10)\n",
    "    \"\"\"\n",
    "    # Create output directory if it doesn't exist\n",
    "    os.makedirs(output_dir, exist_ok=True)\n",
    "    \n",
    "    # Read the input JSON file\n",
    "    with open(input_file, 'r') as f:\n",
    "        data = json.load(f)\n",
    "    \n",
    "    # Ensure the input is a list\n",
    "    if not isinstance(data, list):\n",
    "        raise ValueError(\"Input JSON must be an array/list\")\n",
    "    \n",
    "    # Split the list into chunks of 10\n",
    "    for i in range(0, len(data), chunk_size):\n",
    "        # Create a chunk of 10 elements (or less for the last chunk)\n",
    "        chunk = data[i:i+chunk_size]\n",
    "        \n",
    "        # Create output filename\n",
    "        output_file = os.path.join(output_dir, f'llm_{i//chunk_size + 1}.json')\n",
    "        \n",
    "        # Write the chunk to a new JSON file\n",
    "        with open(output_file, 'w') as f:\n",
    "            json.dump(chunk, f, indent=2)\n",
    "        \n",
    "        print(f\"Created {output_file} with {len(chunk)} elements\")\n",
    "\n",
    "\n",
    "split_json_file('data/labeling/mrr-llm.json')"
   ]
  },
  {
   "cell_type": "code",
   "execution_count": null,
   "metadata": {},
   "outputs": [],
   "source": []
  }
 ],
 "metadata": {
  "kernelspec": {
   "display_name": "llm",
   "language": "python",
   "name": "python3"
  },
  "language_info": {
   "codemirror_mode": {
    "name": "ipython",
    "version": 3
   },
   "file_extension": ".py",
   "mimetype": "text/x-python",
   "name": "python",
   "nbconvert_exporter": "python",
   "pygments_lexer": "ipython3",
   "version": "3.12.3"
  }
 },
 "nbformat": 4,
 "nbformat_minor": 2
}
