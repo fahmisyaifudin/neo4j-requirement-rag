{
 "cells": [
  {
   "cell_type": "code",
   "execution_count": 50,
   "metadata": {},
   "outputs": [],
   "source": [
    "import neo4j\n",
    "\n",
    "host = \"localhost\"\n",
    "username = \"neo4j\"\n",
    "password = \"1234qwer\"\n",
    "\n",
    "# driver = neo4j.GraphDatabase.driver(\"neo4j://100.27.33.222:7687\",\n",
    "#   auth=neo4j.basic_auth(\"neo4j\", \"price-oxygens-scores\")\n",
    "# )\n",
    "driver = neo4j.GraphDatabase.driver(f'bolt://localhost:7687', auth=(username, password))\n",
    "session = driver.session()\n",
    "\n",
    "def create_graph(query):\n",
    "    session.run(query)"
   ]
  },
  {
   "cell_type": "code",
   "execution_count": 51,
   "metadata": {},
   "outputs": [],
   "source": [
    "from transformers import BertTokenizer, BertModel\n",
    "from sentence_transformers import SentenceTransformer\n",
    "\n",
    "tokenizer = BertTokenizer.from_pretrained('bert-base-uncased')\n",
    "model = BertModel.from_pretrained(\"bert-base-uncased\")"
   ]
  },
  {
   "cell_type": "code",
   "execution_count": 52,
   "metadata": {},
   "outputs": [],
   "source": [
    "def bert_embedding(text):\n",
    "    encoded_input = tokenizer(text, return_tensors='pt')\n",
    "    output = model(**encoded_input)\n",
    "    pooler_output = output['pooler_output'][0]\n",
    "    return pooler_output.detach().numpy()\n",
    "\n",
    "\n",
    "def sentence_transformer_embedding(text):\n",
    "    model = SentenceTransformer('sentence-transformers/all-MiniLM-L6-v2')\n",
    "    embeddings = model.encode(text)\n",
    "    return embeddings"
   ]
  },
  {
   "cell_type": "code",
   "execution_count": null,
   "metadata": {},
   "outputs": [
    {
     "name": "stderr",
     "output_type": "stream",
     "text": [
      "/Users/fahmisyaifudin/miniconda3/envs/llm/lib/python3.12/site-packages/huggingface_hub/file_download.py:1132: FutureWarning: `resume_download` is deprecated and will be removed in version 1.0.0. Downloads always resume when possible. If you want to force a new download, use `force_download=True`.\n",
      "  warnings.warn(\n"
     ]
    }
   ],
   "source": [
    "records, summary, key = driver.execute_query(\"\"\"\n",
    "MATCH (n:CORE|VERB) RETURN n.name\"\"\")\n",
    "entities = []\n",
    "for record in records:\n",
    "    name = record['n.name']\n",
    "    entities.append(name)\n",
    "\n",
    "embedding = sentence_transformer_embedding(entities)"
   ]
  },
  {
   "cell_type": "code",
   "execution_count": 37,
   "metadata": {},
   "outputs": [],
   "source": [
    "for i in range(len(entities)):\n",
    "    name = entities[i]\n",
    "    session.run(f\"\"\"\n",
    "    MATCH (n:CORE|VERB {{name: \"{name}\"}})\n",
    "    SET n.embedding = $embedding\n",
    "    \"\"\", embedding=embedding[i])"
   ]
  },
  {
   "cell_type": "code",
   "execution_count": 38,
   "metadata": {},
   "outputs": [
    {
     "data": {
      "text/plain": [
       "<neo4j._sync.work.result.Result at 0x38b6ec800>"
      ]
     },
     "execution_count": 38,
     "metadata": {},
     "output_type": "execute_result"
    }
   ],
   "source": [
    "session.run(\"\"\" \n",
    "MATCH (source:CORE)\n",
    "RETURN gds.graph.project(\n",
    "  'newCoreGraph',\n",
    "  source,\n",
    "  null,\n",
    "  {\n",
    "    sourceNodeProperties: source { .embedding },\n",
    "    targetNodeProperties: {}\n",
    "  },\n",
    "  { undirectedRelationshipTypes: ['*'] }\n",
    ")\n",
    "\"\"\")"
   ]
  },
  {
   "cell_type": "code",
   "execution_count": 45,
   "metadata": {},
   "outputs": [],
   "source": [
    "import pandas as pd\n",
    "\n",
    "entities = []\n",
    "records, summary, key = driver.execute_query(\"\"\"\n",
    "CALL gds.knn.stream('newCoreGraph', {\n",
    "    topK: 2,\n",
    "    nodeProperties: ['embedding'],\n",
    "    randomSeed: 1337,\n",
    "    concurrency: 1,\n",
    "    sampleRate: 1.0,\n",
    "    deltaThreshold: 0.0\n",
    "})\n",
    "YIELD node1, node2, similarity\n",
    "WHERE similarity > 0.8\n",
    "RETURN gds.util.asNode(node1).name AS Req1, gds.util.asNode(node2).name AS Req2, similarity\n",
    "ORDER BY similarity DESCENDING, Req1, Req2\"\"\")\n",
    "for record in records:\n",
    "    entities.append({\"entity1\": record['Req1'], \"entity2\": record['Req2'], \"similarity\": record['similarity']})\n",
    "df_entity = pd.DataFrame(entities)"
   ]
  },
  {
   "cell_type": "code",
   "execution_count": 46,
   "metadata": {},
   "outputs": [],
   "source": [
    "df_entity['sorted_pair'] = df_entity.apply(lambda row: tuple(sorted([row['entity1'], row['entity2']])), axis=1)\n",
    "df_reduced = df_entity.drop_duplicates(subset='sorted_pair').drop(columns='sorted_pair')\n",
    "df_reduced.to_csv('data/entity_similarity.csv', index=False)"
   ]
  },
  {
   "cell_type": "code",
   "execution_count": 48,
   "metadata": {},
   "outputs": [],
   "source": [
    "for index, row in df_reduced.iterrows():\n",
    "    session.run(\"\"\"\n",
    "MATCH (old:CORE {name: $entity1})\n",
    "MATCH (new:CORE {name: $entity2})\n",
    "\n",
    "WITH old, new\n",
    "MATCH (old)<-[:CONTAINS]-(target)\n",
    "MERGE (new)<-[:CONTAINS]-(target)\n",
    "                \n",
    "WITH old, new\n",
    "MATCH (old)-[:RELATED_TO]->(target)\n",
    "MERGE (new)-[:RELATED_TO]->(target)\n",
    "\n",
    "WITH old, new\n",
    "MATCH (source)-[:RELATED_TO]->(old)\n",
    "MERGE (source)-[:RELATED_TO]->(new)\n",
    "\n",
    "WITH old, new\n",
    "DETACH DELETE old\n",
    "    \"\"\", entity1=row['entity1'], entity2=row['entity2'])"
   ]
  }
 ],
 "metadata": {
  "kernelspec": {
   "display_name": "llm",
   "language": "python",
   "name": "python3"
  },
  "language_info": {
   "codemirror_mode": {
    "name": "ipython",
    "version": 3
   },
   "file_extension": ".py",
   "mimetype": "text/x-python",
   "name": "python",
   "nbconvert_exporter": "python",
   "pygments_lexer": "ipython3",
   "version": "3.12.3"
  }
 },
 "nbformat": 4,
 "nbformat_minor": 2
}
