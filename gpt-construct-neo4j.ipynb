{
 "cells": [
  {
   "cell_type": "code",
   "execution_count": 1,
   "metadata": {},
   "outputs": [
    {
     "data": {
      "text/plain": [
       "True"
      ]
     },
     "execution_count": 1,
     "metadata": {},
     "output_type": "execute_result"
    }
   ],
   "source": [
    "import os\n",
    "from dotenv import load_dotenv\n",
    "from langchain_openai import ChatOpenAI\n",
    "from langchain.prompts import ChatPromptTemplate\n",
    "from langchain.chains import SequentialChain, LLMChain\n",
    "\n",
    "load_dotenv()"
   ]
  },
  {
   "cell_type": "code",
   "execution_count": 7,
   "metadata": {},
   "outputs": [],
   "source": [
    "import neo4j\n",
    "\n",
    "host = \"localhost\"\n",
    "username = \"neo4j\"\n",
    "password = \"1234qwer\"\n",
    "\n",
    "driver = neo4j.GraphDatabase.driver(f'bolt://localhost:7687', auth=(username, password))\n",
    "session = driver.session()\n",
    "\n",
    "def create_graph(query):\n",
    "    session.run(query)"
   ]
  },
  {
   "cell_type": "code",
   "execution_count": 3,
   "metadata": {},
   "outputs": [
    {
     "name": "stderr",
     "output_type": "stream",
     "text": [
      "/Users/fahmisyaifudin/miniconda3/envs/llm/lib/python3.12/site-packages/langchain_core/_api/deprecation.py:141: LangChainDeprecationWarning: The class `LLMChain` was deprecated in LangChain 0.1.17 and will be removed in 0.3.0. Use RunnableSequence, e.g., `prompt | llm` instead.\n",
      "  warn_deprecated(\n"
     ]
    }
   ],
   "source": [
    "template1 = \"\"\"You are expert software analyst, you can easily split and classify entity from sentence \n",
    "- Categorized as CORE if the entity is a specific feature of software requirement domain, example (system, application, payment, login) \n",
    "- Categorized as USER if the entity is a specific user of the software, example (Admin, developer, Student, customer, buyer, cashier) \n",
    "- Categorized as HARDWARE if the entity is a component of computer hardware, example (Keyboard, mouse, CPU) \n",
    "- Categorized as PLATFORM if the entity is a third party application or software platform, example (Linux, Paypal, eBay, Apache) \n",
    "\n",
    "Given sentence : {sentence}\n",
    "\n",
    "- Output must separated by comma like [entity],[category]\n",
    "- Each line is separated by '\\n'\n",
    "- Don't display anything in the output except the output csv format\n",
    "\n",
    "\"\"\"\n",
    "template2 = \"\"\"From the output of extraction\n",
    "^^^\n",
    "{extraction}\n",
    "^^^\n",
    "extraction format is seperated by comma like [entity],[category]\n",
    "\n",
    "and in context sentence : $$$\n",
    "{sentence}\n",
    "$$$\n",
    "\n",
    "- Generate semantic triple that consist subject, predicate, and object from entities (which is delimited by ^^^)  base on context sentence (which is delimited by $$$) \n",
    "- Output must separated by comma the format is [category]:[entity],[predicate],[category]:[entity]\n",
    "- Each line is separated by '\\n'\n",
    "- Don't display anything in the output except the output csv format\n",
    "\"\"\"\n",
    "\n",
    "\n",
    "prompt1 = ChatPromptTemplate.from_template(template1)\n",
    "prompt2 = ChatPromptTemplate.from_template(template2)\n",
    "\n",
    "model = ChatOpenAI(model=\"gpt-4o-mini\", api_key=os.getenv('OPEN_API_KEY'), temperature=0)\n",
    "\n",
    "chain1 = prompt1 | model\n",
    "chain2 = prompt2 | model\n",
    "\n",
    "chain_one = LLMChain(llm=model, prompt=prompt1, output_key=\"extraction\")\n",
    "chain_two = LLMChain(llm=model, prompt=prompt2, output_key=\"triple\")\n",
    "\n",
    "overal_chain = SequentialChain(\n",
    "    chains=[chain_one, chain_two],\n",
    "    input_variables=[\"sentence\"],\n",
    "    output_variables=[\"extraction\", \"triple\"]\n",
    ")"
   ]
  },
  {
   "cell_type": "code",
   "execution_count": 16,
   "metadata": {},
   "outputs": [],
   "source": [
    "import pandas as pd\n",
    "import csv\n",
    "\n",
    "df_dataset = pd.read_csv('data/odoo_pos_datasets.csv')\n",
    "for index, row in df_dataset.iterrows():\n",
    "    sentence = row['Sentence']\n",
    "    uid = row['id']\n",
    "    feature = row['Feature']\n",
    "    message = overal_chain({\"sentence\": sentence})\n",
    "    ner = message['extraction'].split('\\n')\n",
    "\n",
    "    for row in ner:\n",
    "        with open(\"data/odoo_pos_ner_result.csv\", \"a\", newline=\"\\n\") as csvfile:\n",
    "            writer = csv.writer(csvfile)\n",
    "            row = f\"{row}\"\n",
    "            writer.writerow(row.split(\",\"))\n",
    "\n",
    "    triples = message['triple'].split('\\n')\n",
    "\n",
    "    for row in triples:\n",
    "        with open(\"data/odoo_pos_result.csv\", \"a\", newline=\"\\n\") as csvfile:\n",
    "            writer = csv.writer(csvfile)\n",
    "            row = f\"{uid},{feature},{row}\"\n",
    "            writer.writerow(row.split(\",\"))"
   ]
  },
  {
   "cell_type": "code",
   "execution_count": 8,
   "metadata": {},
   "outputs": [],
   "source": [
    "import pandas as pd\n",
    "df_dataset = pd.read_csv('data/odoo_pos_datasets.csv')"
   ]
  },
  {
   "cell_type": "code",
   "execution_count": 7,
   "metadata": {},
   "outputs": [],
   "source": [
    "def df_to_create_cql(df, uid):\n",
    "    cql_query = \"CREATE \"\n",
    "    entities = []\n",
    "    for index, row in df.iterrows():\n",
    "        if (row['subject'] in entities) == False:\n",
    "            entities.append(row['subject'].strip())\n",
    "        if (row['object'] in entities) == False:\n",
    "            entities.append(row['object'].strip())\n",
    "    init = 'a'\n",
    "    obj = {}\n",
    "    for i in range(len(entities)):\n",
    "        char = chr(ord(init) + i)\n",
    "        obj[entities[i]] = char\n",
    "        category, entity = entities[i].split(':')\n",
    "        cql_query += f\"({char}:{category}\" + \"{\" + f\"id: '{uid}', name: '{entity}'\" + \"}), \\n\"\n",
    "\n",
    "    idx = 1\n",
    "    for _, row in df.iterrows():\n",
    "        subjek = obj[row['subject'].strip()]\n",
    "        objek = obj[row['object'].strip()]\n",
    "        predicate = row['predicate'].strip()\n",
    "        cql_query += f\"({subjek})-[:RELATED_TO \" + \"{ type:\"+ f\"'{predicate}'\" + \"}]\" + f\"->({objek})\"\n",
    "        if(len(df) != idx):\n",
    "            cql_query += \", \\n\"\n",
    "        idx += 1\n",
    "    return cql_query"
   ]
  },
  {
   "cell_type": "code",
   "execution_count": null,
   "metadata": {},
   "outputs": [],
   "source": [
    "import pandas as pd\n",
    "df_result = pd.read_csv('data/odoo_pos_result.csv')\n",
    "\n",
    "for index, row in df_dataset.iterrows():\n",
    "    df_filter = df_result[df_result['id'] == row['id']]\n",
    "    cql_query = df_to_create_cql(df_filter, row['id'])\n",
    "    session.run(cql_query)"
   ]
  },
  {
   "cell_type": "code",
   "execution_count": 9,
   "metadata": {},
   "outputs": [
    {
     "name": "stderr",
     "output_type": "stream",
     "text": [
      "/Users/fahmisyaifudin/miniconda3/envs/llm/lib/python3.12/site-packages/huggingface_hub/file_download.py:1132: FutureWarning: `resume_download` is deprecated and will be removed in version 1.0.0. Downloads always resume when possible. If you want to force a new download, use `force_download=True`.\n",
      "  warnings.warn(\n",
      "Some weights of RobertaModel were not initialized from the model checkpoint at roberta-base and are newly initialized: ['roberta.pooler.dense.bias', 'roberta.pooler.dense.weight']\n",
      "You should probably TRAIN this model on a down-stream task to be able to use it for predictions and inference.\n"
     ]
    }
   ],
   "source": [
    "from transformers import RobertaTokenizer, RobertaModel\n",
    "\n",
    "tokenizer = RobertaTokenizer.from_pretrained(\"roberta-base\")\n",
    "model = RobertaModel.from_pretrained(\"roberta-base\")"
   ]
  },
  {
   "cell_type": "code",
   "execution_count": 10,
   "metadata": {},
   "outputs": [],
   "source": [
    "def bert_embedding(text):\n",
    "    encoded_input = tokenizer(text, return_tensors='pt')\n",
    "    output = model(**encoded_input)\n",
    "    pooler_output = output['pooler_output'][0]\n",
    "    return pooler_output.detach().numpy()"
   ]
  },
  {
   "cell_type": "code",
   "execution_count": 11,
   "metadata": {},
   "outputs": [],
   "source": [
    "for index, row in df_dataset.iterrows():\n",
    "    uid = row['id']\n",
    "    records, summary, key = driver.execute_query(\"MATCH(n {id: $id})-[k]->(m {id: $id}) RETURN n.name, k.type, m.name\", id=uid)\n",
    "    for record in records:\n",
    "        embedding_subject = bert_embedding(record['n.name'])\n",
    "        session.run(\"MATCH (n {id: $id, name: $name}) WHERE n.embedding is null CALL db.create.setNodeVectorProperty(n, 'embedding', $embedding)\", id=uid, name=record['n.name'], embedding=embedding_subject)\n",
    "        embedding_object = bert_embedding(record['m.name'])\n",
    "        session.run(\"MATCH (m {id: $id, name: $name}) WHERE m.embedding is null CALL db.create.setNodeVectorProperty(m, 'embedding', $embedding)\", id=uid, name=record['m.name'], embedding=embedding_object)\n",
    "        embedding_relation = bert_embedding(record['k.type'])\n",
    "        session.run(\"MATCH(n {id: $id})-[k {type: $name}]->(m {id: $id}) WHERE k.embedding is null CALL db.create.setRelationshipVectorProperty(k, 'embedding', $embedding)\", id=uid, name=record['k.type'], embedding=embedding_relation)"
   ]
  },
  {
   "cell_type": "code",
   "execution_count": null,
   "metadata": {},
   "outputs": [],
   "source": [
    "for index, row in df_dataset.iterrows():\n",
    "    session.run(\"MATCH (n {id: $id}) SET n.app = 'Odoo POS', n.feature = $feature\", id=row['id'], feature=row['Feature'])"
   ]
  },
  {
   "cell_type": "code",
   "execution_count": null,
   "metadata": {},
   "outputs": [],
   "source": [
    "# session.run(\"\"\"\n",
    "# CREATE VECTOR INDEX core_embedding IF NOT EXISTS\n",
    "# FOR (n:Core)\n",
    "# ON n.embedding\n",
    "# OPTIONS {indexConfig: {\n",
    "#  `vector.dimensions`: 768,\n",
    "#  `vector.similarity_function`: 'cosine'\n",
    "# }}\"\"\")\n",
    "\n",
    "# session.run(\"\"\"\n",
    "# CREATE VECTOR INDEX core_embedding IF NOT EXISTS\n",
    "# FOR (n:Core)\n",
    "# ON n.embedding\n",
    "# OPTIONS {indexConfig: {\n",
    "#  `vector.dimensions`: 768,\n",
    "#  `vector.similarity_function`: 'cosine'\n",
    "# }}\"\"\")"
   ]
  }
 ],
 "metadata": {
  "kernelspec": {
   "display_name": "llm",
   "language": "python",
   "name": "python3"
  },
  "language_info": {
   "codemirror_mode": {
    "name": "ipython",
    "version": 3
   },
   "file_extension": ".py",
   "mimetype": "text/x-python",
   "name": "python",
   "nbconvert_exporter": "python",
   "pygments_lexer": "ipython3",
   "version": "3.12.3"
  }
 },
 "nbformat": 4,
 "nbformat_minor": 2
}
