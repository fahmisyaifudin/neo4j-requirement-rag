{
 "cells": [
  {
   "cell_type": "code",
   "execution_count": 15,
   "metadata": {},
   "outputs": [],
   "source": [
    "import psycopg2\n",
    "\n",
    "pg_host = \"localhost\"\n",
    "pg_database = \"graph\"\n",
    "pg_user = \"postgres\"\n",
    "pg_password = \"postgres\"\n",
    "\n",
    "# Establish PostgreSQL connection\n",
    "pg_conn = psycopg2.connect(\n",
    "    host=pg_host,\n",
    "    database=pg_database,\n",
    "    user=pg_user,\n",
    "    password=pg_password\n",
    ")\n",
    "pg_cursor = pg_conn.cursor()"
   ]
  },
  {
   "cell_type": "code",
   "execution_count": 5,
   "metadata": {},
   "outputs": [
    {
     "data": {
      "text/plain": [
       "True"
      ]
     },
     "execution_count": 5,
     "metadata": {},
     "output_type": "execute_result"
    }
   ],
   "source": [
    "import os\n",
    "from dotenv import load_dotenv\n",
    "from langchain_openai import ChatOpenAI\n",
    "from langchain.prompts import ChatPromptTemplate\n",
    "from langchain.chains import SequentialChain, LLMChain\n",
    "\n",
    "load_dotenv()"
   ]
  },
  {
   "cell_type": "code",
   "execution_count": 7,
   "metadata": {},
   "outputs": [],
   "source": [
    "template1 = \"\"\"\n",
    "You are expert software analyst\n",
    "Sentence 1 : {sentence1}\n",
    "\n",
    "Sentence 2: {sentence2}\n",
    "\n",
    "From sentence 1 and sentence 2, is that both refers in same feature of software requirement\n",
    "Answer must be (yes/no), dont give any other answer than yes or no\n",
    "\n",
    "\"\"\"\n",
    "\n",
    "prompt1 = ChatPromptTemplate.from_template(template1)\n",
    "\n",
    "model = ChatOpenAI(model=\"gpt-4o-mini\", api_key=os.getenv('OPEN_API_KEY'), temperature=0)\n",
    "\n",
    "chain1 = prompt1 | model\n",
    "\n",
    "chain_one = LLMChain(llm=model, prompt=prompt1, output_key=\"response\")\n",
    "\n",
    "overal_chain = SequentialChain(\n",
    "    chains=[chain_one],\n",
    "    input_variables=[\"sentence1\", \"sentence2\"],\n",
    "    output_variables=[\"response\"]\n",
    ")"
   ]
  },
  {
   "cell_type": "code",
   "execution_count": 16,
   "metadata": {},
   "outputs": [],
   "source": [
    "# Execute query to select similarities\n",
    "pg_cursor.execute(\"\"\"\n",
    "    select id1, ds_source.sentence as source, id2, ds_target.sentence as target from distinct_pair\n",
    "    inner join datasets as ds_source on ds_source.id = id1\n",
    "    inner join datasets as ds_target on ds_target.id  = id2 \n",
    "    group by id1, ds_source.id, id2, ds_target.id\n",
    "\"\"\")\n",
    "\n",
    "# Fetch all results\n",
    "distinct = pg_cursor.fetchall()"
   ]
  },
  {
   "cell_type": "code",
   "execution_count": 19,
   "metadata": {},
   "outputs": [],
   "source": [
    "for data in distinct[101:]:\n",
    "    message = overal_chain({\"sentence1\": data[1], \"sentence2\": data[3]})\n",
    "    response = message['response']\n",
    "    if response.strip().lower() == 'yes':\n",
    "        pg_cursor.execute(\"INSERT INTO prompt_matching (source_id, target_id, model, is_match) VALUES (%s, %s, %s, %s)\", (data[0], data[2], 'gpt-4o-mini', True))\n",
    "    else:\n",
    "        pg_cursor.execute(\"INSERT INTO prompt_matching (source_id, target_id, model, is_match) VALUES (%s, %s, %s, %s)\", (data[0], data[2], 'gpt-4o-mini', False))\n",
    "    pg_conn.commit()"
   ]
  },
  {
   "cell_type": "code",
   "execution_count": null,
   "metadata": {},
   "outputs": [],
   "source": []
  }
 ],
 "metadata": {
  "kernelspec": {
   "display_name": "llm",
   "language": "python",
   "name": "python3"
  },
  "language_info": {
   "codemirror_mode": {
    "name": "ipython",
    "version": 3
   },
   "file_extension": ".py",
   "mimetype": "text/x-python",
   "name": "python",
   "nbconvert_exporter": "python",
   "pygments_lexer": "ipython3",
   "version": "3.12.3"
  }
 },
 "nbformat": 4,
 "nbformat_minor": 2
}
