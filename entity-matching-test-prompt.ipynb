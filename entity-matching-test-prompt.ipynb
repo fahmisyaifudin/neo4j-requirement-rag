{
 "cells": [
  {
   "cell_type": "code",
   "execution_count": 3,
   "metadata": {},
   "outputs": [],
   "source": [
    "import psycopg2\n",
    "\n",
    "pg_host = \"localhost\"\n",
    "pg_database = \"demo\"\n",
    "pg_user = \"postgres\"\n",
    "pg_password = \"postgres\"\n",
    "\n",
    "# Establish PostgreSQL connection\n",
    "pg_conn = psycopg2.connect(\n",
    "    host=pg_host,\n",
    "    database=pg_database,\n",
    "    user=pg_user,\n",
    "    password=pg_password\n",
    ")\n",
    "pg_cursor = pg_conn.cursor()"
   ]
  },
  {
   "cell_type": "code",
   "execution_count": 4,
   "metadata": {},
   "outputs": [
    {
     "data": {
      "text/plain": [
       "True"
      ]
     },
     "execution_count": 4,
     "metadata": {},
     "output_type": "execute_result"
    }
   ],
   "source": [
    "import os\n",
    "from dotenv import load_dotenv\n",
    "from langchain_openai import ChatOpenAI\n",
    "from langchain.prompts import ChatPromptTemplate\n",
    "from langchain.chains import SequentialChain, LLMChain\n",
    "\n",
    "load_dotenv()"
   ]
  },
  {
   "cell_type": "code",
   "execution_count": 5,
   "metadata": {},
   "outputs": [
    {
     "name": "stderr",
     "output_type": "stream",
     "text": [
      "/var/folders/80/kl6rpl3d2xj20wv4hyb0dbgc0000gn/T/ipykernel_4071/4160468199.py:18: LangChainDeprecationWarning: The class `LLMChain` was deprecated in LangChain 0.1.17 and will be removed in 1.0. Use RunnableSequence, e.g., `prompt | llm` instead.\n",
      "  chain_one = LLMChain(llm=model, prompt=prompt1, output_key=\"response\")\n"
     ]
    }
   ],
   "source": [
    "template1 = \"\"\"\n",
    "You are expert software analyst\n",
    "Sentence 1 : {sentence1}\n",
    "\n",
    "Sentence 2: {sentence2}\n",
    "\n",
    "From sentence 1 and sentence 2, is that both refers in same feature of software requirement\n",
    "Answer must be (yes/no), dont give any other answer than yes or no\n",
    "\n",
    "\"\"\"\n",
    "\n",
    "prompt1 = ChatPromptTemplate.from_template(template1)\n",
    "\n",
    "model = ChatOpenAI(model=\"gpt-4o-mini\", api_key=os.getenv('OPEN_API_KEY'), temperature=0)\n",
    "\n",
    "chain1 = prompt1 | model\n",
    "\n",
    "chain_one = LLMChain(llm=model, prompt=prompt1, output_key=\"response\")\n",
    "\n",
    "overal_chain = SequentialChain(\n",
    "    chains=[chain_one],\n",
    "    input_variables=[\"sentence1\", \"sentence2\"],\n",
    "    output_variables=[\"response\"]\n",
    ")"
   ]
  },
  {
   "cell_type": "code",
   "execution_count": 7,
   "metadata": {},
   "outputs": [],
   "source": [
    "# Execute query to select similarities\n",
    "# pg_cursor.execute(\"\"\"\n",
    "#     select source_id, ds_source.sentence as source, target_id, ds_target.sentence as target from distinct_label_pair\n",
    "#     inner join datasets as ds_source on ds_source.id = source_id\n",
    "#     inner join datasets as ds_target on ds_target.id  = target_id \n",
    "#     group by source_id, ds_source.id, target_id, ds_target.id\n",
    "# \"\"\")\n",
    "\n",
    "pg_cursor.execute(\"\"\"\n",
    "select distinct_label_pair.source_id, ds_source.sentence as source, distinct_label_pair.target_id, ds_target.sentence as target from distinct_label_pair\n",
    "left join prompt_matching on (distinct_label_pair.source_id = prompt_matching.source_id and distinct_label_pair.target_id = prompt_matching.target_id)\n",
    "inner join datasets as ds_source on ds_source.id = distinct_label_pair.source_id\n",
    "inner join datasets as ds_target on ds_target.id  = distinct_label_pair.target_id \n",
    "where prompt_matching.is_match is null\n",
    "group by distinct_label_pair.source_id, ds_source.id, distinct_label_pair.target_id, ds_target.id\n",
    "                  \"\"\")\n",
    "# Fetch all results\n",
    "distinct = pg_cursor.fetchall()"
   ]
  },
  {
   "cell_type": "code",
   "execution_count": 8,
   "metadata": {},
   "outputs": [
    {
     "name": "stderr",
     "output_type": "stream",
     "text": [
      "/var/folders/80/kl6rpl3d2xj20wv4hyb0dbgc0000gn/T/ipykernel_4071/1140915221.py:2: LangChainDeprecationWarning: The method `Chain.__call__` was deprecated in langchain 0.1.0 and will be removed in 1.0. Use invoke instead.\n",
      "  message = overal_chain({\"sentence1\": data[1], \"sentence2\": data[3]})\n"
     ]
    }
   ],
   "source": [
    "for data in distinct:\n",
    "    message = overal_chain({\"sentence1\": data[1], \"sentence2\": data[3]})\n",
    "    response = message['response']\n",
    "    if response.strip().lower() == 'yes':\n",
    "        pg_cursor.execute(\"INSERT INTO prompt_matching (source_id, target_id, model, is_match) VALUES (%s, %s, %s, %s)\", (data[0], data[2], 'gpt-4o-mini', True))\n",
    "    else:\n",
    "        pg_cursor.execute(\"INSERT INTO prompt_matching (source_id, target_id, model, is_match) VALUES (%s, %s, %s, %s)\", (data[0], data[2], 'gpt-4o-mini', False))\n",
    "    pg_conn.commit()"
   ]
  },
  {
   "cell_type": "code",
   "execution_count": null,
   "metadata": {},
   "outputs": [],
   "source": []
  }
 ],
 "metadata": {
  "kernelspec": {
   "display_name": "llm",
   "language": "python",
   "name": "python3"
  },
  "language_info": {
   "codemirror_mode": {
    "name": "ipython",
    "version": 3
   },
   "file_extension": ".py",
   "mimetype": "text/x-python",
   "name": "python",
   "nbconvert_exporter": "python",
   "pygments_lexer": "ipython3",
   "version": "3.12.3"
  }
 },
 "nbformat": 4,
 "nbformat_minor": 2
}
