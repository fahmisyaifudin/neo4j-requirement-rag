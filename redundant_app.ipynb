{
 "cells": [
  {
   "cell_type": "code",
   "execution_count": 62,
   "metadata": {},
   "outputs": [],
   "source": [
    "import psycopg2\n",
    "\n",
    "pg_host = \"localhost\"\n",
    "pg_database = \"demo\"\n",
    "pg_user = \"postgres\"\n",
    "pg_password = \"postgres\"\n",
    "\n",
    "# Establish PostgreSQL connection\n",
    "pg_conn = psycopg2.connect(\n",
    "    host=pg_host,\n",
    "    database=pg_database,\n",
    "    user=pg_user,\n",
    "    password=pg_password\n",
    ")\n",
    "pg_cursor = pg_conn.cursor()"
   ]
  },
  {
   "cell_type": "code",
   "execution_count": 63,
   "metadata": {},
   "outputs": [],
   "source": [
    "pg_cursor.execute(\"\"\"\n",
    "select d_source.id, d_target.id, (2*count(*)) as count from sentence_matching\n",
    "inner join datasets as ds_source on ds_source.id = sentence_matching.source_id\n",
    "inner join datasets as ds_target on ds_target.id  = sentence_matching.target_id \n",
    "inner join \"document\" as d_source on d_source.name = ds_source.app \n",
    "inner join \"document\" as d_target on d_target.name = ds_target.app\n",
    "where \"method\" = 'COSINE' and embedding = 'text-embedding-ada-002' and ds_source.app != ds_target.app\n",
    "group by d_source.\"id\", d_target.\"id\"\n",
    "\"\"\")\n",
    "\n",
    "combination = pg_cursor.fetchall()"
   ]
  },
  {
   "cell_type": "code",
   "execution_count": 64,
   "metadata": {},
   "outputs": [],
   "source": [
    "for index, row in enumerate(combination):\n",
    "  pg_cursor.execute(\"UPDATE document_redundant SET n_intersection = %s WHERE source_id = %s and target_id = %s\", (row[2], row[0], row[1]))\n",
    "  pg_conn.commit()\n",
    "  "
   ]
  },
  {
   "cell_type": "code",
   "execution_count": null,
   "metadata": {},
   "outputs": [],
   "source": []
  }
 ],
 "metadata": {
  "kernelspec": {
   "display_name": "llm",
   "language": "python",
   "name": "python3"
  },
  "language_info": {
   "codemirror_mode": {
    "name": "ipython",
    "version": 3
   },
   "file_extension": ".py",
   "mimetype": "text/x-python",
   "name": "python",
   "nbconvert_exporter": "python",
   "pygments_lexer": "ipython3",
   "version": "3.12.3"
  }
 },
 "nbformat": 4,
 "nbformat_minor": 2
}
