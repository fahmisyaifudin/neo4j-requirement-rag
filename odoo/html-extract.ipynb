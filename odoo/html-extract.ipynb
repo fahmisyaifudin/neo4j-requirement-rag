{
 "cells": [
  {
   "cell_type": "code",
   "execution_count": 45,
   "metadata": {},
   "outputs": [],
   "source": [
    "from bs4 import BeautifulSoup\n",
    "import pandas as pd"
   ]
  },
  {
   "cell_type": "code",
   "execution_count": 46,
   "metadata": {},
   "outputs": [],
   "source": [
    "import uuid\n",
    "with open('sales.html', 'r') as file:\n",
    "    soup = BeautifulSoup(file, 'html.parser')\n",
    "\n",
    "features = [h4.get_text(strip=True) for h4 in soup.find_all('h4')]\n",
    "sentences = [p.get_text(strip=True) for p in soup.find_all('p')]\n",
    "id = [str(uuid.uuid4()) for _ in range(len(sentences))]"
   ]
  },
  {
   "cell_type": "code",
   "execution_count": 47,
   "metadata": {},
   "outputs": [
    {
     "data": {
      "text/html": [
       "<div>\n",
       "<style scoped>\n",
       "    .dataframe tbody tr th:only-of-type {\n",
       "        vertical-align: middle;\n",
       "    }\n",
       "\n",
       "    .dataframe tbody tr th {\n",
       "        vertical-align: top;\n",
       "    }\n",
       "\n",
       "    .dataframe thead th {\n",
       "        text-align: right;\n",
       "    }\n",
       "</style>\n",
       "<table border=\"1\" class=\"dataframe\">\n",
       "  <thead>\n",
       "    <tr style=\"text-align: right;\">\n",
       "      <th></th>\n",
       "      <th>id</th>\n",
       "      <th>feature</th>\n",
       "      <th>sentence</th>\n",
       "    </tr>\n",
       "  </thead>\n",
       "  <tbody>\n",
       "    <tr>\n",
       "      <th>0</th>\n",
       "      <td>98ef592f-7874-4d7e-b842-96a54033ace2</td>\n",
       "      <td>Modern User Interface</td>\n",
       "      <td>All the information you need, where you need i...</td>\n",
       "    </tr>\n",
       "    <tr>\n",
       "      <th>1</th>\n",
       "      <td>08f4fcba-f173-4006-a07e-00c694b00655</td>\n",
       "      <td>Mobile Capabilities</td>\n",
       "      <td>Use Odoo's mobile interface to sell on the road.</td>\n",
       "    </tr>\n",
       "    <tr>\n",
       "      <th>2</th>\n",
       "      <td>796cf2d4-5de4-472c-8914-97cd8f68f676</td>\n",
       "      <td>Reduced Data Entry</td>\n",
       "      <td>Send quotes in just a few clicks. Convert quot...</td>\n",
       "    </tr>\n",
       "    <tr>\n",
       "      <th>3</th>\n",
       "      <td>e250ca0d-2101-4daf-afda-3b28563d8567</td>\n",
       "      <td>Sales Warnings</td>\n",
       "      <td>Get warnings before sending quotations to spec...</td>\n",
       "    </tr>\n",
       "    <tr>\n",
       "      <th>4</th>\n",
       "      <td>2a2ea425-2880-4aa9-aeb9-0bdd48e98f42</td>\n",
       "      <td>Quotation Builder</td>\n",
       "      <td>Create a polished quote in seconds. Use predef...</td>\n",
       "    </tr>\n",
       "  </tbody>\n",
       "</table>\n",
       "</div>"
      ],
      "text/plain": [
       "                                     id                feature  \\\n",
       "0  98ef592f-7874-4d7e-b842-96a54033ace2  Modern User Interface   \n",
       "1  08f4fcba-f173-4006-a07e-00c694b00655    Mobile Capabilities   \n",
       "2  796cf2d4-5de4-472c-8914-97cd8f68f676     Reduced Data Entry   \n",
       "3  e250ca0d-2101-4daf-afda-3b28563d8567         Sales Warnings   \n",
       "4  2a2ea425-2880-4aa9-aeb9-0bdd48e98f42      Quotation Builder   \n",
       "\n",
       "                                            sentence  \n",
       "0  All the information you need, where you need i...  \n",
       "1   Use Odoo's mobile interface to sell on the road.  \n",
       "2  Send quotes in just a few clicks. Convert quot...  \n",
       "3  Get warnings before sending quotations to spec...  \n",
       "4  Create a polished quote in seconds. Use predef...  "
      ]
     },
     "execution_count": 47,
     "metadata": {},
     "output_type": "execute_result"
    }
   ],
   "source": [
    "df = pd.DataFrame({\n",
    "    'id': id,\n",
    "    'feature': features,\n",
    "    'sentence': sentences\n",
    "})\n",
    "\n",
    "df.head()"
   ]
  },
  {
   "cell_type": "code",
   "execution_count": 48,
   "metadata": {},
   "outputs": [],
   "source": [
    "df.to_csv('../data/odoo-sales-datasets.csv', index=False)"
   ]
  },
  {
   "cell_type": "code",
   "execution_count": null,
   "metadata": {},
   "outputs": [],
   "source": []
  }
 ],
 "metadata": {
  "kernelspec": {
   "display_name": "llm",
   "language": "python",
   "name": "python3"
  },
  "language_info": {
   "codemirror_mode": {
    "name": "ipython",
    "version": 3
   },
   "file_extension": ".py",
   "mimetype": "text/x-python",
   "name": "python",
   "nbconvert_exporter": "python",
   "pygments_lexer": "ipython3",
   "version": "3.12.3"
  }
 },
 "nbformat": 4,
 "nbformat_minor": 2
}
