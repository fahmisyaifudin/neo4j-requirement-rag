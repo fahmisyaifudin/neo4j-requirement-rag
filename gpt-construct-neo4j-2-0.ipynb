{
 "cells": [
  {
   "cell_type": "code",
   "execution_count": 1,
   "metadata": {},
   "outputs": [
    {
     "data": {
      "text/plain": [
       "True"
      ]
     },
     "execution_count": 1,
     "metadata": {},
     "output_type": "execute_result"
    }
   ],
   "source": [
    "import os\n",
    "from dotenv import load_dotenv\n",
    "from langchain_openai import ChatOpenAI\n",
    "from langchain.prompts import ChatPromptTemplate\n",
    "from langchain.chains import SequentialChain, LLMChain\n",
    "\n",
    "load_dotenv()"
   ]
  },
  {
   "cell_type": "code",
   "execution_count": 50,
   "metadata": {},
   "outputs": [],
   "source": [
    "import neo4j\n",
    "\n",
    "host = \"localhost\"\n",
    "username = \"neo4j\"\n",
    "password = \"1234qwer\"\n",
    "\n",
    "# driver = neo4j.GraphDatabase.driver(\"neo4j://100.27.33.222:7687\",\n",
    "#   auth=neo4j.basic_auth(\"neo4j\", \"price-oxygens-scores\")\n",
    "# )\n",
    "driver = neo4j.GraphDatabase.driver(f'bolt://localhost:7687', auth=(username, password))\n",
    "session = driver.session()\n",
    "\n",
    "def create_graph(query):\n",
    "    session.run(query)"
   ]
  },
  {
   "cell_type": "code",
   "execution_count": 14,
   "metadata": {},
   "outputs": [],
   "source": [
    "template1 = \"\"\"You are expert english linguists \n",
    "\n",
    "Given sentence : $$$ {sentence} $$$\n",
    "\n",
    "- Generate semantic triple that consist subject, predicate, and object  base on context sentence (which is delimited by $$$) \n",
    "- Output must separated by comma the format is [subject],[predicate],[object]\n",
    "- Avoid using pronouns such as (you, he, she, it, we, they etc), replace with more relevant subject\n",
    "- Each line is separated by '\\n'\n",
    "- Don't display anything in the output except the output csv format\n",
    "\n",
    "\"\"\"\n",
    "\n",
    "prompt1 = ChatPromptTemplate.from_template(template1)\n",
    "\n",
    "model = ChatOpenAI(model=\"gpt-4o-mini\", api_key=os.getenv('OPEN_API_KEY'), temperature=0)\n",
    "\n",
    "chain1 = prompt1 | model\n",
    "\n",
    "chain_one = LLMChain(llm=model, prompt=prompt1, output_key=\"triple\")\n",
    "\n",
    "overal_chain = SequentialChain(\n",
    "    chains=[chain_one],\n",
    "    input_variables=[\"sentence\"],\n",
    "    output_variables=[\"triple\"]\n",
    ")"
   ]
  },
  {
   "cell_type": "code",
   "execution_count": null,
   "metadata": {},
   "outputs": [],
   "source": [
    "import pandas as pd\n",
    "import csv\n",
    "\n",
    "df_dataset = pd.read_csv('output/datasets_all_sentence.csv')\n",
    "for index, row in df_dataset.iterrows():\n",
    "    sentence = row['sentence']\n",
    "    app = row['app']\n",
    "    uid = row['id']\n",
    "    feature = row['feature']\n",
    "    message = overal_chain({\"sentence\": sentence})\n",
    "    triples = message['triple'].split('\\n')\n",
    "\n",
    "    for row in triples:\n",
    "        with open(\"data/all_triplet_lang_result.csv\", \"a\", newline=\"\\n\") as csvfile:\n",
    "            writer = csv.writer(csvfile)\n",
    "            row = f\"{uid},{app},{feature},{row}\"\n",
    "            writer.writerow(row.split(\",\"))"
   ]
  },
  {
   "cell_type": "code",
   "execution_count": 51,
   "metadata": {},
   "outputs": [],
   "source": [
    "import pandas as pd\n",
    "df_dataset = pd.read_csv('data/datasets_all_sentence.csv')"
   ]
  },
  {
   "cell_type": "code",
   "execution_count": 52,
   "metadata": {},
   "outputs": [],
   "source": [
    "def df_to_create_cql(df, uid):\n",
    "    cql_query = \"MERGE (req:Requirement {id: '\" + uid +\"'}) \\n\"\n",
    "    for index, row in df.iterrows():\n",
    "        cql_query += f\"MERGE (s{index}:CORE\" + \" {name: '\" + row['subject'] + \"'}) \\n\"\n",
    "        cql_query += f\"MERGE (p{index}:VERB\" + \" {name: '\" + row['predicate'] + \"'}) \\n\"\n",
    "        cql_query += f\"MERGE (o{index}:CORE\" + \" {name: '\" + row['object'] + \"'}) \\n\"\n",
    "        cql_query += f\"MERGE (s{index})-[:RELATED_TO]->(p{index})-[:RELATED_TO]->(o{index}) \\n\"\n",
    "        cql_query += f\"MERGE (req)-[:CONTAINS]->(s{index}) \\n\"\n",
    "        cql_query += f\"MERGE (req)-[:CONTAINS]->(p{index}) \\n\"\n",
    "        cql_query += f\"MERGE (req)-[:CONTAINS]->(o{index}) \\n\"\n",
    "    return cql_query"
   ]
  },
  {
   "cell_type": "code",
   "execution_count": 53,
   "metadata": {},
   "outputs": [],
   "source": [
    "import pandas as pd\n",
    "df_result = pd.read_csv('data/all_triplet_lang_result.csv')\n",
    "\n",
    "for index, row in df_dataset.iterrows():\n",
    "    try:\n",
    "        df_filter = df_result[df_result['id'] == row['id']]\n",
    "        cql_query = df_to_create_cql(df_filter, row['id'])\n",
    "        session.run(cql_query)\n",
    "    except Exception as e:\n",
    "        print(e)\n",
    "        break"
   ]
  },
  {
   "cell_type": "code",
   "execution_count": 54,
   "metadata": {},
   "outputs": [],
   "source": [
    "for index, row in df_dataset.iterrows():\n",
    "    session.run(f\"MATCH (r:Requirement) WHERE r.id = '{row['id']}' SET r.app = '{row['app']}', r.sentence = '{row['sentence'].replace(\"'\", \"\")}'\")"
   ]
  },
  {
   "cell_type": "code",
   "execution_count": 45,
   "metadata": {},
   "outputs": [],
   "source": [
    "from transformers import BertTokenizer, BertModel\n",
    "\n",
    "tokenizer = BertTokenizer.from_pretrained(\"bert-base-uncased\")\n",
    "model = BertModel.from_pretrained(\"bert-base-uncased\")"
   ]
  },
  {
   "cell_type": "code",
   "execution_count": 46,
   "metadata": {},
   "outputs": [],
   "source": [
    "def bert_embedding(text):\n",
    "    encoded_input = tokenizer(text, return_tensors='pt')\n",
    "    output = model(**encoded_input)\n",
    "    pooler_output = output['pooler_output'][0]\n",
    "    return pooler_output.detach().numpy()"
   ]
  },
  {
   "cell_type": "code",
   "execution_count": 47,
   "metadata": {},
   "outputs": [],
   "source": [
    "for index, row in df_dataset.iterrows():\n",
    "    uid = row['id']\n",
    "    records, summary, key = driver.execute_query(\"MATCH(r:Requirement {id: $id})-[:CONTAINS]->(e) RETURN DISTINCT e.name\", id=uid)\n",
    "    for record in records:\n",
    "        embedding = bert_embedding(record['e.name'])\n",
    "        session.run(\"MATCH (n {name: $name}) WHERE n.embedding is null SET n.embedding = $embedding\", name=record['e.name'], embedding=embedding)"
   ]
  },
  {
   "cell_type": "code",
   "execution_count": 48,
   "metadata": {},
   "outputs": [],
   "source": [
    "for index, row in df_dataset.iterrows():\n",
    "    uid = row['id']\n",
    "    embedding_feature = bert_embedding(row['feature'])\n",
    "    embedding_sentence = bert_embedding(row['sentence'])\n",
    "    session.run(\"MATCH (n:Requirement {id: $id}) SET n.embedding_feature = $embedding_feature, n.embedding_sentence = $embedding_sentence\", id=uid, embedding_feature=embedding_feature, embedding_sentence=embedding_sentence)"
   ]
  },
  {
   "cell_type": "code",
   "execution_count": 13,
   "metadata": {},
   "outputs": [],
   "source": [
    "for index, row in df_dataset.iterrows():\n",
    "    session.run(\"MATCH (n {id: $id}) SET n.app = $app, n.feature = $feature\", app=row['app'], id=row['id'], feature=row['feature'])"
   ]
  },
  {
   "cell_type": "code",
   "execution_count": null,
   "metadata": {},
   "outputs": [],
   "source": []
  }
 ],
 "metadata": {
  "kernelspec": {
   "display_name": "llm",
   "language": "python",
   "name": "python3"
  },
  "language_info": {
   "codemirror_mode": {
    "name": "ipython",
    "version": 3
   },
   "file_extension": ".py",
   "mimetype": "text/x-python",
   "name": "python",
   "nbconvert_exporter": "python",
   "pygments_lexer": "ipython3",
   "version": "3.12.3"
  }
 },
 "nbformat": 4,
 "nbformat_minor": 2
}
